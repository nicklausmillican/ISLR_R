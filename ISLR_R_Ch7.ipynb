{
  "nbformat": 4,
  "nbformat_minor": 0,
  "metadata": {
    "colab": {
      "provenance": [],
      "toc_visible": true,
      "authorship_tag": "ABX9TyNIHyZnryUE6gDbDULJJCRJ",
      "include_colab_link": true
    },
    "kernelspec": {
      "name": "python3",
      "display_name": "Python 3"
    },
    "language_info": {
      "name": "python"
    }
  },
  "cells": [
    {
      "cell_type": "markdown",
      "metadata": {
        "id": "view-in-github",
        "colab_type": "text"
      },
      "source": [
        "<a href=\"https://colab.research.google.com/github/nicklausmillican/ISLR_R/blob/main/ISLR_R_Ch7.ipynb\" target=\"_parent\"><img src=\"https://colab.research.google.com/assets/colab-badge.svg\" alt=\"Open In Colab\"/></a>"
      ]
    },
    {
      "cell_type": "markdown",
      "source": [
        "# Chapter 7"
      ],
      "metadata": {
        "id": "q4mN4-MRYTVm"
      }
    },
    {
      "cell_type": "markdown",
      "source": [
        "## Conceptual"
      ],
      "metadata": {
        "id": "3u7Z0h_AYXBY"
      }
    },
    {
      "cell_type": "markdown",
      "source": [
        "### Question 1❗\n",
        "\n",
        "It was mentioned in the chapter that a cubic regression spline with one knot at $ξ$ can be obtained using a basis of the form $x$, $x^2$, $x^3$, $(x − ξ)^3_+$, where $(x − ξ)^3_+ = (x − ξ)^3$ if $x > ξ$ and equals $0$ otherwise. We will now show that a function of the form\n",
        "\n",
        "$$f(x) = β_0 + β_1 x + β_2 x^2 + β_3 x^3 + β_4(x − ξ)^3_+$$\n",
        "\n",
        "is indeed a cubic regression spline, regardless of the values of $β_0$, $β_1$, $β_2$, $β_3$, $β_4$.\n",
        "\n",
        "> (a) Find a cubic polynomial $f_1(x) = a_1 + b_1 x + c_1 x^2 + d_1 x^3$ such that $f(x) = f_1(x)$ for all $x ≤ ξ$. Express $a_1$, $b_1$, $c_1$, $d_1$ in terms of $β_0$, $β_1$, $β_2$, $β_3$, $β_4$.\n",
        "\n",
        "> (b) Find a cubic polynomial $f_2(x) = a_2 + b_2 x + c_2 x^2 + d_2 x^3$ such that $f(x) = f_2(x)$ for all $x > ξ$. Express $a_2$, $b_2$, $c_2$, $d_2$ in terms of $β_0$, $β_1$, $β_2$, $β_3$, $β_4$. We have now established that $f(x)$ is a piecewise polynomial.\n",
        "\n",
        "> (c) Show that $f_1(ξ) = f_2(ξ)$. That is, $f(x)$ is continuous at $ξ$.\n",
        "\n",
        "> (d) Show that $f′_1(ξ) = f′_2(ξ)$. That is, $f′(x)$ is continuous at $ξ$.\n",
        "\n",
        "> (e) Show that $f′′_1(ξ) = f′′_2(ξ)$. That is, $f′′(x)$ is continuous at $ξ$.\n",
        "\n",
        "Therefore, $f(x)$ is indeed a cubic spline.\n",
        "\n",
        "*Hint: Parts (d) and (e) of this problem require knowledge of single-variable calculus. As a reminder, given a cubic polynomial*\n",
        "\n",
        "$$f_1(x) = a_1 + b_1 x + c_1 x^2 + d_1 x^3,$$\n",
        "\n",
        "*the first derivative takes the form*\n",
        "\n",
        "$$f′_1(x) = b_1 + 2 c_1 x + 3 d_1 x^2,$$\n",
        "\n",
        "*and the second derivative takes the form*\n",
        "\n",
        "$$f′′_1(x) = 2 c_1 + 6 d_1 x$$"
      ],
      "metadata": {
        "id": "cTrO02r_YcpQ"
      }
    },
    {
      "cell_type": "markdown",
      "source": [
        "#### Answer to Question 1, a\n",
        "\n",
        "***Find a cubic polynomial $f_1(x) = a_1 + b_1 x + c_1 x^2 + d_1 x^3$ such that $f(x) = f_1(x)$ for all $x ≤ ξ$. Express $a_1$, $b_1$, $c_1$, $d_1$ in terms of $β_0$, $β_1$, $β_2$, $β_3$, $β_4$.***\n",
        "\n",
        "\n",
        "This is straightforwardly\n",
        "\n",
        "$$\\begin{aligned}\n",
        "f_1(x) &= a_1 + b_1 x + c_1 x^2 + d_1 x^3 \\\\\n",
        "&= \\beta_0 + \\beta_1 x + \\beta_2 x^2 + \\beta_3 x^3 \\\\\n",
        "\\rightarrow a_1 = \\beta_0, b_1 = \\beta_1, c_1 = \\beta_2, d_1 = \\beta_3\n",
        "\\end{aligned}$$"
      ],
      "metadata": {
        "id": "4NGhFf6N6vAk"
      }
    },
    {
      "cell_type": "markdown",
      "source": [
        "#### Answer to Question 1, b\n",
        "\n",
        "***Find a cubic polynomial $f_2(x) = a_2 + b_2 x + c_2 x^2 + d_2 x^3$ such that $f(x) = f_2(x)$ for all $x > ξ$. Express $a_2$, $b_2$, $c_2$, $d_2$ in terms of $β_0$, $β_1$, $β_2$, $β_3$, $β_4$. We have now established that $f(x)$ is a piecewise polynomial.***\n",
        "\n",
        "$$\\begin{aligned}\n",
        "f_2(x) &= a_2 + b_2 x + c_2 x^2 + d_2 x^3 \\\\\n",
        "&= \\beta_0 + \\beta_1 x + \\beta_2 x^2 + \\beta_3 x^3 + \\beta_4 (x - \\xi)^3 \\\\\n",
        "&= \\beta_0 + \\beta_1 x + \\beta_2 x^2 + \\beta_3 x^3 + \\beta_4 (x - \\xi)(x - \\xi)(x - \\xi) \\\\\n",
        "&= \\beta_0 + \\beta_1 x + \\beta_2 x^2 + \\beta_3 x^3 + \\beta_4 (x^3 - 3x^2 \\xi + 3x \\xi^2 - \\xi^3) \\\\\n",
        "&= (\\beta_0 - \\beta_4 \\xi^3) + (\\beta_1 + 3 \\beta_4 x \\xi^2)x + (\\beta_2 - 3 \\beta_4 \\xi)x^2 + (\\beta_3 + \\beta_4)x^3 \\\\\n",
        "\\\n",
        "\\rightarrow & a_2 = \\beta_0 - \\beta_4 \\xi^3, \\\\\n",
        "& b_2 = \\beta_1 + 3 \\beta_4 x \\xi^2, \\\\\n",
        "& c_2 = \\beta_2 - 3 \\beta_4 \\xi, \\\\\n",
        "& d_2 = \\beta_3 + \\beta_4 \\\\\n",
        "\\end{aligned}$$"
      ],
      "metadata": {
        "id": "Roo7t1-EWNI9"
      }
    },
    {
      "cell_type": "markdown",
      "source": [
        "#### Answer to Question 1, c\n",
        "\n",
        "***Show that $f_1(ξ) = f_2(ξ)$. That is, $f(x)$ is continuous at $ξ$.***\n",
        "\n",
        "$$\\begin{aligned}\n",
        "\\beta_0 + \\beta_1 x + \\beta_2 x^2 + \\beta_3 x^3 &= \\beta_0 + \\beta_1 x + \\beta_2 x^2 + \\beta_3 x^3 + \\beta_4 (x - \\xi)^3 \\\\\n",
        "&= \\beta_0 + \\beta_1 x + \\beta_2 x^2 + \\beta_3 x^3 + \\beta_4 (\\xi - \\xi)^3 \\\\\n",
        "&= \\beta_0 + \\beta_1 x + \\beta_2 x^2 + \\beta_3 x^3 + \\beta_4 (0)^3 \\\\\n",
        "&= \\beta_0 + \\beta_1 x + \\beta_2 x^2 + \\beta_3 x^3 \\\\\n",
        "\\end{aligned}$$"
      ],
      "metadata": {
        "id": "TMRWgqMeZKfy"
      }
    },
    {
      "cell_type": "markdown",
      "source": [
        "#### Answer to Question 1, d\n",
        "\n",
        "***Show that $f′_1(ξ) = f′_2(ξ)$. That is, $f′(x)$ is continuous at $ξ$.***\n",
        "\n",
        "$$\\begin{aligned}\n",
        "\\beta_1 + 2 \\beta_2 x + 3 \\beta_3 x^2 &= \\beta_1 + 2 \\beta_2 x + 3 \\beta_3 x^2 + 3 \\beta_4 (x - \\xi)^2 \\\\\n",
        "&= \\beta_1 + 2 \\beta_2 x + 3 \\beta_3 x^2 + 3 \\beta_4 (\\xi - \\xi)^2 \\\\\n",
        "&= \\beta_1 + 2 \\beta_2 x + 3 \\beta_3 x^2 + 3 \\beta_4 (0)^2 \\\\\n",
        "&= \\beta_1 + 2 \\beta_2 x + 3 \\beta_3 x^2 \\\\\n",
        "\\end{aligned}$$"
      ],
      "metadata": {
        "id": "8QwMcLumafAu"
      }
    },
    {
      "cell_type": "markdown",
      "source": [
        "#### Answer to Question 1, e\n",
        "\n",
        "***Show that $f′′_1(ξ) = f′′_2(ξ)$. That is, $f′′(x)$ is continuous at $ξ$.***\n",
        "\n",
        "$$\\begin{aligned}\n",
        "2 \\beta_2 + 6 \\beta_3 x &= 2 \\beta_2 + 6 \\beta_3 x + 6 \\beta_4 (x - \\xi) \\\\\n",
        "&= 2 \\beta_2 + 6 \\beta_3 x + 6 \\beta_4 (\\xi - \\xi) \\\\\n",
        "&= 2 \\beta_2 + 6 \\beta_3 x + 6 \\beta_4 (0) \\\\\n",
        "&= 2 \\beta_2 + 6 \\beta_3 x \\\\\n",
        "\\end{aligned}$$"
      ],
      "metadata": {
        "id": "ZZtdeEmGb9le"
      }
    },
    {
      "cell_type": "markdown",
      "source": [
        "### Question 2\n",
        "\n",
        "Suppose that a curve $\\hat{g}$ is computed to smoothly fit a set of $n$ points using the following formula:\n",
        "\n",
        "$$\\hat{g} = \\\n",
        "\\text{arg min} \\left(\\sum_{i=1}^n (y_i - g(x_i))^2 + \\lambda \\int \\left[g^{(m)} (x) \\right]^2 dx) \\right)$$\n",
        "\n",
        "where $g^{(m)}$ represents the $m^{th}$ derivative of $g$ (and $g^{(0)} = g$). Provide example sketches of $\\hat{g}$ in each of the following scenarios.\n",
        "\n",
        "> (a) $λ = ∞, m = 0$.\n",
        "\n",
        "> (b) $λ = ∞, m = 1$.\n",
        "\n",
        "> (c) $λ = ∞, m = 2$.\n",
        "\n",
        "> (d) $λ = ∞, m = 3$.\n",
        "\n",
        "> (e) $λ = 0, m = 3$."
      ],
      "metadata": {
        "id": "QXU19wjwjBjz"
      }
    },
    {
      "cell_type": "markdown",
      "source": [
        "## Applied"
      ],
      "metadata": {
        "id": "fjb-gRfMYaMN"
      }
    }
  ]
}