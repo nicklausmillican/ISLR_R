{
  "nbformat": 4,
  "nbformat_minor": 0,
  "metadata": {
    "colab": {
      "provenance": [],
      "toc_visible": true,
      "authorship_tag": "ABX9TyOmF6hwoW3QdaDNARyyA3ZQ",
      "include_colab_link": true
    },
    "kernelspec": {
      "name": "ir",
      "display_name": "R"
    },
    "language_info": {
      "name": "R"
    }
  },
  "cells": [
    {
      "cell_type": "markdown",
      "metadata": {
        "id": "view-in-github",
        "colab_type": "text"
      },
      "source": [
        "<a href=\"https://colab.research.google.com/github/nicklausmillican/ISLR_R/blob/main/ISLR_R_Ch5.ipynb\" target=\"_parent\"><img src=\"https://colab.research.google.com/assets/colab-badge.svg\" alt=\"Open In Colab\"/></a>"
      ]
    },
    {
      "cell_type": "markdown",
      "source": [
        "# Chapter 5"
      ],
      "metadata": {
        "id": "v06IlZa-LQKM"
      }
    },
    {
      "cell_type": "markdown",
      "source": [
        "## Conceptual"
      ],
      "metadata": {
        "id": "VaDsnW3QCYIz"
      }
    },
    {
      "cell_type": "markdown",
      "source": [
        "### Question 1\n",
        "Using basic statistical properties of the variance, as well as single-variable calculus, derive (5.6):\n",
        "\n",
        "$$\\alpha = \\frac{\\sigma^2_Y - \\sigma_{XY}}{\\sigma^2_X + \\sigma^2_Y - 2\\sigma_{XY}}$$\n",
        "\n",
        "In other words, prove that $α$ given by (5.6) does indeed minimize $\\text{Var}(αX + (1 − α)Y)$.\n",
        "\n",
        "#### Answer\n",
        "For context, this example is used in section 5.2: we are investing some proportion of our money, $\\alpha$, into investment with expected return $X$ and the rest of our money, $1 - \\alpha$ into investment with expected return $Y$--so we are investing like $\\alpha X + (1-\\alpha)Y$; we wish to minimize our risk, which is to say *minimize the variance* of our return.\n",
        "\n",
        "To this, we need a expression for the variance of our return.  For this, we'll need to use 3 rules:\n",
        "\n",
        "1. $\\text{Var}(X + Y) = \\text{Var}(X) + \\text{Var}(Y) + 2\\text{Cov}(X,Y)$\n",
        "2. $\\text{Var}(aX) = a^2Var(X)$\n",
        "3. $\\text{Cov}(aX, bY) = ab\\text{Cov}(X, Y)$\n",
        "\n",
        "$$\n",
        "\\begin{aligned}\n",
        "\\text{Var}(\\alpha X + (1-\\alpha)Y)\n",
        "&= \\text{Var}(\\alpha X) + \\text{Var}((1-\\alpha)Y) + 2\\text{Cov}(\\alpha X, (1-\\alpha)Y) \\\\\n",
        "&= \\alpha^2 \\text{Var}(X) + (1-\\alpha)^2\\text{Var}(Y) + 2(\\alpha \\times (1-\\alpha))\\text{Cov}(X,Y) \\\\\n",
        "&= \\alpha^2 \\sigma^2_X + (1 - 2\\alpha + \\alpha^2) \\sigma^2_Y + 2(\\alpha - \\alpha^2)\\sigma_{XY} \\\\\n",
        "&= \\alpha^2\\sigma^2_X + \\sigma^2_Y - 2\\alpha\\sigma^2_Y + \\alpha^2\\sigma^2_Y +\n",
        "     2\\alpha\\sigma_{XY} - 2\\alpha^2\\sigma_{XY}\n",
        "\\end{aligned}\n",
        "$$\n",
        "\n",
        "Next, we need to find the derivative of this expression with respect to $\\alpha$, set it equal to zero (checking to make sure that the 0-point represents a minimum), and solve for $\\alpha$.\n",
        "\n",
        "$$\n",
        "\\begin{aligned}\n",
        "\\frac{d}{d\\alpha}[\\alpha^2\\sigma^2_X + \\sigma^2_Y - 2\\alpha\\sigma^2_Y + \\alpha^2\\sigma^2_Y +\n",
        "     2\\alpha\\sigma_{XY} - 2\\alpha^2\\sigma_{XY}] \\\\\n",
        "     &= 2\\alpha \\sigma^2_X - 2\\sigma^2_Y + 2\\alpha\\sigma^2_Y + 2\\sigma_{XY} - 4\\alpha\\sigma_{XY} \\\\\n",
        "     &= \\alpha \\sigma^2_X - \\sigma^2_Y + \\alpha\\sigma^2_Y + \\sigma_{XY} - 2\\alpha\\sigma_{XY} \\overset{set}= 0\\\n",
        "\\end{aligned}$$\n",
        "\n",
        "Separating the $\\alpha$ terms and then solving for $\\alpha$,\n",
        "\n",
        "$$\n",
        "\\begin{aligned}\n",
        "& \\alpha \\sigma^2_X + \\alpha\\sigma^2_Y - 2\\alpha\\sigma_{XY} = \\sigma^2_Y - \\sigma_{XY} \\\\\n",
        "&= \\alpha(\\sigma^2_X + \\sigma^2_Y - 2\\sigma_{XY}) \\\\\n",
        "&\\rightarrow \\alpha = \\frac{\\sigma^2_Y - \\sigma_{XY}}{\\sigma^2_X + \\sigma^2_Y - 2\\sigma_{XY}}\n",
        "\\end{aligned}\n",
        "$$\n",
        "\n",
        "Finally, let us check that we've found a minimum by applying the second derivative.\n",
        "\n",
        "$$\n",
        "\\begin{aligned}\n",
        "& \\frac{d^2}{d\\alpha^2}[\\alpha^2\\sigma^2_X + \\sigma^2_Y - 2\\alpha\\sigma^2_Y + \\alpha^2\\sigma^2_Y + 2\\alpha\\sigma_{XY} - 2\\alpha^2\\sigma_{XY}] \\\\\n",
        "     &= \\frac{d}{d\\alpha}[\\alpha \\sigma^2_X - \\sigma^2_Y + \\alpha\\sigma^2_Y + \\sigma_{XY} - 2\\alpha\\sigma_{XY}] \\\\\n",
        "     &= \\sigma^2_X + \\sigma^2_Y - 2\\sigma_{XY} \\\\\n",
        "     &= \\text{Var}(X,Y) \\\\\n",
        "\\end{aligned}$$\n",
        "\n",
        "Since variance is always $\\ge$ 0, the second derivative is positive, which means that we have found a minimum."
      ],
      "metadata": {
        "id": "jDnvvJi7CcJz"
      }
    },
    {
      "cell_type": "markdown",
      "source": [
        "### Question 2\n",
        "We will now derive the probability that a given observation is part of a bootstrap sample. Suppose that we obtain a bootstrap sample from a set of $n$ observations.\n",
        "\n",
        "> (a) What is the probability that the first bootstrap observation is not the $j^{th}$ observation from the original sample? Justify your answer.\n",
        "\n",
        "> (b) What is the probability that the second bootstrap observation is not the $j^{th}$ observation from the original sample?\n",
        "\n",
        "> (c) Argue that the probability that the $j^{th}$ observation is not in the bootstrap sample is $(1 − 1/n)^n$.\n",
        "\n",
        "> (d) When $n = 5$, what is the probability that the $j^{th}$ observation is in the bootstrap sample?\n",
        "\n",
        "> (e) When $n = 100$, what is the probability that the $j^{th}$ observation is in the bootstrap sample?\n",
        "\n",
        "> (f) When $n = 10, 000$, what is the probability that the $j^{th}$ observation is in the bootstrap sample?\n",
        "\n",
        "> (g) Create a plot that displays, for each integer value of $n$ from $1$ to $100,000$, the probability that the $j^th$ observation is in the bootstrap sample. Comment on what you observe.\n",
        "\n",
        "> (h) We will now investigate numerically the probability that a bootstrap sample of size $n = 100$ contains the $j^{th}$ observation. Here $j = 4$. We repeatedly create bootstrap samples, and each time we record whether or not the fourth observation is contained in the bootstrap sample.\n",
        "\n",
        ">> ```\n",
        "> store <- rep (NA, 10000)\n",
        "for (i in 1:10000){\n",
        "  store[i] <- sum (sample (1:100, rep =TRUE) == 4) > 0\n",
        "  }\n",
        "> mean (store)\n",
        "```\n",
        "\n",
        "> Comment on the results obtained."
      ],
      "metadata": {
        "id": "q5e9CPp_aCHp"
      }
    },
    {
      "cell_type": "markdown",
      "source": [
        "#### Answer to Question 2 a\n",
        "***What is the probability that the first bootstrap observation is not the $j^{th}$ observation from the original sample? Justify your answer.***\n",
        "\n",
        "With $n$ observations, the probability that any single bootstrap draw will be the $j^{th}$ observation is $\\frac{1}{n}$.  Hence, the probability that any single bootstrap draw will NOT be the $j^{th}$ observation is $1 - \\frac{1}{n}$."
      ],
      "metadata": {
        "id": "H4dZt-jzdbFy"
      }
    },
    {
      "cell_type": "markdown",
      "source": [
        "#### Answer to Question 2 b\n",
        "***What is the probability that the second bootstrap observation is not the $j^{th}$ observation from the original sample?***\n",
        "\n",
        "The answer here is the same as for part a, $1 - \\frac{1}{n}$.  One might be tempted to try to account for the first bootstrap sample, but bootstrapping replaces each draw before the next draw; hence, each bootstrap draw is independent of all other draws."
      ],
      "metadata": {
        "id": "bAkKFqu6eagj"
      }
    },
    {
      "cell_type": "markdown",
      "source": [
        "#### Answer to Question 2 c\n",
        "***Argue that the probability that the $j^{th}$ observation is not in the bootstrap sample is $(1 − 1/n)^n$.***\n",
        "\n",
        "As we've established, the probability that observation $j$ is not drawn on any single bootstrap draw is $1 - \\frac{1}{n}$.  So if we draw $n$ times, we need to multiple this probability $n$ times.  Hence, we get that the probability that no draw for a bootstrap sample was for the $j^{th}$ observation is $(1 - \\frac{1}{n})^n$."
      ],
      "metadata": {
        "id": "tIjNlnqze91r"
      }
    },
    {
      "cell_type": "markdown",
      "source": [
        "#### Answer to Question 2 d-f\n",
        "***When $n = 5, 100, 10,000$, what is the probability that the $j^{th}$ observation is in the bootstrap sample?***\n",
        "\n",
        "For any value $n$, since the probability of observation $j$ NOT being contained in a bootstrap sample of size $n$ is $(1 - \\frac{1}{n})^n$, the probability of *being* in the sample is the complement of this: $1 - (1 - \\frac{1}{n})^n$.\n",
        "\n",
        "|n|p|\n",
        "|-|-|\n",
        "|5|67.23%|\n",
        "|100|63.40%|\n",
        "10,000|63.21%|"
      ],
      "metadata": {
        "id": "mb6lyX0Kfq3W"
      }
    },
    {
      "cell_type": "code",
      "source": [
        "n <- c(5, 100, 10000)\n",
        "(p_any <- round(1-(1 - 1/n)^n, 4))"
      ],
      "metadata": {
        "colab": {
          "base_uri": "https://localhost:8080/",
          "height": 34
        },
        "id": "bPxm5JDdgvJp",
        "outputId": "1bf585aa-c486-4b33-d31c-b75260985215"
      },
      "execution_count": null,
      "outputs": [
        {
          "output_type": "display_data",
          "data": {
            "text/html": [
              "<style>\n",
              ".list-inline {list-style: none; margin:0; padding: 0}\n",
              ".list-inline>li {display: inline-block}\n",
              ".list-inline>li:not(:last-child)::after {content: \"\\00b7\"; padding: 0 .5ex}\n",
              "</style>\n",
              "<ol class=list-inline><li>0.6723</li><li>0.634</li><li>0.6321</li></ol>\n"
            ],
            "text/markdown": "1. 0.6723\n2. 0.634\n3. 0.6321\n\n\n",
            "text/latex": "\\begin{enumerate*}\n\\item 0.6723\n\\item 0.634\n\\item 0.6321\n\\end{enumerate*}\n",
            "text/plain": [
              "[1] 0.6723 0.6340 0.6321"
            ]
          },
          "metadata": {}
        }
      ]
    },
    {
      "cell_type": "markdown",
      "source": [
        "So that answers the prbability of observation $j$ being contained in our bootstrap sample *at all*.  We could similarly ask ***for $k \\in [1,n]$, what is the probability that the $j^{th}$ observation is drawn $k$ times?***\n",
        "\n",
        "For any draw, the probability of observation $j$ being drawn is distributed as a Bernoulli random variable, $j \\sim \\text{Bernoulli}(\\frac{1}{n})$.  With $n$ draws, the distribution for drawing $j$ $k$ times is binomial like $X_j \\sim \\text{Binomial}(n, \\frac{1}{n})$.\n",
        "\n",
        "Now, the probability of drawing $j$ $k$ times is\n",
        "$$p(X=k) = \\frac{n!}{k!(n-k)!} \\left(\\frac{1}{n}\\right)^k \\left(1 - \\frac{1}{n} \\right)^{n-k}$$\n",
        "\n",
        "Let's plot what this looks like for $n=10$."
      ],
      "metadata": {
        "id": "_20xFfFeh6V7"
      }
    },
    {
      "cell_type": "code",
      "source": [
        "n <- 10\n",
        "X <- 0:n\n",
        "\n",
        "p_k <- data.frame(\"k\" = X,\n",
        "                  \"p\" = dbinom(x=X, size=n, prob=1/n))\n",
        "\n",
        "plot(p ~ k, data=p_k, type=\"h\")"
      ],
      "metadata": {
        "colab": {
          "base_uri": "https://localhost:8080/",
          "height": 437
        },
        "id": "azHQzMGNi79o",
        "outputId": "1f5a9163-e5a0-4e6f-b65f-cde1db86e5e4"
      },
      "execution_count": null,
      "outputs": [
        {
          "output_type": "display_data",
          "data": {
            "text/plain": [
              "plot without title"
            ],
            "image/png": "[encoded data removed]"
          },
          "metadata": {
            "image/png": {
              "width": 420,
              "height": 420
            }
          }
        }
      ]
    },
    {
      "cell_type": "code",
      "source": [
        "p_k"
      ],
      "metadata": {
        "colab": {
          "base_uri": "https://localhost:8080/",
          "height": 443
        },
        "id": "mnPcy4XLFdIW",
        "outputId": "d47d902d-8633-439a-a06f-5070b1275872"
      },
      "execution_count": null,
      "outputs": [
        {
          "output_type": "display_data",
          "data": {
            "text/html": [
              "<table class=\"dataframe\">\n",
              "<caption>A data.frame: 11 × 2</caption>\n",
              "<thead>\n",
              "\t<tr><th scope=col>k</th><th scope=col>p</th></tr>\n",
              "\t<tr><th scope=col>&lt;int&gt;</th><th scope=col>&lt;dbl&gt;</th></tr>\n",
              "</thead>\n",
              "<tbody>\n",
              "\t<tr><td> 0</td><td>0.3486784401</td></tr>\n",
              "\t<tr><td> 1</td><td>0.3874204890</td></tr>\n",
              "\t<tr><td> 2</td><td>0.1937102445</td></tr>\n",
              "\t<tr><td> 3</td><td>0.0573956280</td></tr>\n",
              "\t<tr><td> 4</td><td>0.0111602610</td></tr>\n",
              "\t<tr><td> 5</td><td>0.0014880348</td></tr>\n",
              "\t<tr><td> 6</td><td>0.0001377810</td></tr>\n",
              "\t<tr><td> 7</td><td>0.0000087480</td></tr>\n",
              "\t<tr><td> 8</td><td>0.0000003645</td></tr>\n",
              "\t<tr><td> 9</td><td>0.0000000090</td></tr>\n",
              "\t<tr><td>10</td><td>0.0000000001</td></tr>\n",
              "</tbody>\n",
              "</table>\n"
            ],
            "text/markdown": "\nA data.frame: 11 × 2\n\n| k &lt;int&gt; | p &lt;dbl&gt; |\n|---|---|\n|  0 | 0.3486784401 |\n|  1 | 0.3874204890 |\n|  2 | 0.1937102445 |\n|  3 | 0.0573956280 |\n|  4 | 0.0111602610 |\n|  5 | 0.0014880348 |\n|  6 | 0.0001377810 |\n|  7 | 0.0000087480 |\n|  8 | 0.0000003645 |\n|  9 | 0.0000000090 |\n| 10 | 0.0000000001 |\n\n",
            "text/latex": "A data.frame: 11 × 2\n\\begin{tabular}{ll}\n k & p\\\\\n <int> & <dbl>\\\\\n\\hline\n\t  0 & 0.3486784401\\\\\n\t  1 & 0.3874204890\\\\\n\t  2 & 0.1937102445\\\\\n\t  3 & 0.0573956280\\\\\n\t  4 & 0.0111602610\\\\\n\t  5 & 0.0014880348\\\\\n\t  6 & 0.0001377810\\\\\n\t  7 & 0.0000087480\\\\\n\t  8 & 0.0000003645\\\\\n\t  9 & 0.0000000090\\\\\n\t 10 & 0.0000000001\\\\\n\\end{tabular}\n",
            "text/plain": [
              "   k  p           \n",
              "1   0 0.3486784401\n",
              "2   1 0.3874204890\n",
              "3   2 0.1937102445\n",
              "4   3 0.0573956280\n",
              "5   4 0.0111602610\n",
              "6   5 0.0014880348\n",
              "7   6 0.0001377810\n",
              "8   7 0.0000087480\n",
              "9   8 0.0000003645\n",
              "10  9 0.0000000090\n",
              "11 10 0.0000000001"
            ]
          },
          "metadata": {}
        }
      ]
    },
    {
      "cell_type": "markdown",
      "source": [
        "We can go further, asking ***What is the expected number of times we draw observation $j$ in a bootstrap sample of size $n$ ($E[X]$)?  What is the variance $V[X]$)?***\n",
        "\n",
        "$$E[X] = np = n \\frac{1}{n} = 1$$\n",
        "$$V[X] = np(1-p) = n \\frac{1}{n} \\left(1 - \\frac{1}{n} \\right) = 1\\left(1 - \\frac{1}{n} \\right) = \\left(1 - \\frac{1}{n} \\right)$$\n",
        "\n",
        "So if $n=10$, $E[X] = 1$ and $V[X] = \\frac{9}{10}$."
      ],
      "metadata": {
        "id": "FkRC9scxnhhQ"
      }
    },
    {
      "cell_type": "markdown",
      "source": [
        "#### Answer to Question 2 g\n",
        "***Create a plot that displays, for each integer value of  $n$  from  1  to  100,000, the probability that the $j^{th}$  observation is in the bootstrap sample. Comment on what you observe.***"
      ],
      "metadata": {
        "id": "xKW9f1Y-o-7r"
      }
    },
    {
      "cell_type": "code",
      "source": [
        "n <- 1:100000\n",
        "p_any <- 1-(1 - 1/n)^n\n",
        "\n",
        "plot(p_any ~ n, type=\"o\", ylim=c(0,1)); abline(h=0.63, col=\"pink\")\n",
        "plot(p_any ~ log(n), type=\"o\", ylim=c(0,1)); abline(h=0.63, col=\"pink\")"
      ],
      "metadata": {
        "colab": {
          "base_uri": "https://localhost:8080/",
          "height": 857
        },
        "id": "fl-1vkYgpKRG",
        "outputId": "46f728db-7727-43e6-986e-a30ad039fa27"
      },
      "execution_count": null,
      "outputs": [
        {
          "output_type": "display_data",
          "data": {
            "text/plain": [
              "plot without title"
            ],
            "image/png": "[encoded data removed]"
          },
          "metadata": {
            "image/png": {
              "width": 420,
              "height": 420
            }
          }
        },
        {
          "output_type": "display_data",
          "data": {
            "text/plain": [
              "plot without title"
            ],
            "image/png": "[encoded data removed]"
          },
          "metadata": {
            "image/png": {
              "width": 420,
              "height": 420
            }
          }
        }
      ]
    },
    {
      "cell_type": "markdown",
      "source": [
        "The graph looks cleaner when we set the x-axis to the log scale.  As $n$ increases, $p$ asymtotes at $p=0.63$.\n",
        "\n",
        "This makes sense because\n",
        "$$\\text{lim}_{n → ∞} \\left(1 - \\frac{1}{n} \\right)^n = \\frac{1}{e}$$\n",
        "such that\n",
        "$$\\text{lim}_{n → ∞} \\ 1 - \\left(1 - \\frac{1}{n} \\right)^n = 1 - \\frac{1}{e} \\approx 1 - \\frac{1}{2.71} = 1 - 0.37 = 0.63$$"
      ],
      "metadata": {
        "id": "HKEbGId0qbZc"
      }
    },
    {
      "cell_type": "markdown",
      "source": [
        "#### Answer to Question 2 h\n",
        "***We will now investigate numerically the probability that a bootstrap sample of size $n = 100$ contains the $j^{th}$ observation. Here $j = 4$. We repeatedly create bootstrap samples, and each time we record whether or not the fourth observation is contained in the bootstrap sample.***\n",
        "\n",
        "> ```\n",
        "> store <- rep (NA, 10000)\n",
        "for (i in 1:10000){\n",
        "  store[i] <- sum (sample (1:100, rep =TRUE) == 4) > 0\n",
        "  }\n",
        "> mean (store)`\n",
        "```\n",
        "\n",
        "***Comment on the results obtained.***"
      ],
      "metadata": {
        "id": "5XOza5mesfhm"
      }
    },
    {
      "cell_type": "code",
      "source": [
        "store <- rep (NA, 10000)\n",
        "for (i in 1:10000){\n",
        "  store[i] <- sum (sample (1:100, rep =TRUE) == 4) > 0\n",
        "  }\n",
        "mean(store)"
      ],
      "metadata": {
        "colab": {
          "base_uri": "https://localhost:8080/",
          "height": 34
        },
        "id": "j7lYYC4BtGIT",
        "outputId": "e6f20924-b84c-4a39-b5c4-b2a7fc86f41f"
      },
      "execution_count": null,
      "outputs": [
        {
          "output_type": "display_data",
          "data": {
            "text/html": [
              "0.6299"
            ],
            "text/markdown": "0.6299",
            "text/latex": "0.6299",
            "text/plain": [
              "[1] 0.6299"
            ]
          },
          "metadata": {}
        }
      ]
    },
    {
      "cell_type": "markdown",
      "source": [
        "The $j=4$ observation is included ~ 63% of the time; the theoretical limit we derived in part g."
      ],
      "metadata": {
        "id": "IqDNHm2pytG2"
      }
    },
    {
      "cell_type": "markdown",
      "source": [
        "### Question 3\n",
        "We now review k-fold cross-validation.\n",
        "\n",
        "> (a) Explain how k-fold cross-validation is implemented.\n",
        "\n",
        "> (b) What are the advantages and disadvantages of k-fold crossvalidation relative to:\n",
        "\n",
        "> > i. The validation set approach?\n",
        "\n",
        "> > ii. LOOCV?"
      ],
      "metadata": {
        "id": "crNrDg8nVfI0"
      }
    },
    {
      "cell_type": "markdown",
      "source": [
        "##### Answer to Question 3, a\n",
        "***Explain how k-fold cross-validation is implemented.***\n",
        "\n",
        "1. Data $D$ is divided into $k$ subsets $d$.\n",
        "2. For each data subset $d_i$, the model is trained on $d_{-i}$ (excluding $d_i$).\n",
        "3. The parameters estimated from $d_{-i}$, $p_{-i}$, are applied to $d_i$, where the outcome variable in $d_i$, $y_i$, is predicted by applying $p_{-i}$ to the predictor variables of $d_i$, $x_i$.  The error in the resulting predictions is measured and recorded.\n",
        "4. Models can be compared by comparing their respective error rates across $k$ subsets."
      ],
      "metadata": {
        "id": "t3FZ_AgwVzQ9"
      }
    },
    {
      "cell_type": "markdown",
      "source": [
        "##### Answer to Question 3, b\n",
        "***What are the advantages and disadvantages of k-fold cross-validation relative to:***\n",
        "> ***i. The validation set approach?***\n",
        "\n",
        "> ***ii. LOOCV***\n",
        "\n",
        "| Approach          | Advantages Compared to k-fold CV                                   | Disadvantages Compared to k-fold CV                      |\n",
        "|-------------------|---------------------------------------------------------------------|----------------------------------------------------------|\n",
        "| **Validation Set**| - Simpler and faster to implement                                   | - Higher variance due to reliance on a single split      |\n",
        "|                   | - Computationally inexpensive                                       | - Inefficient data utilization, leading to less stable results |\n",
        "|                   |                                                                     | - Higher bias and overfitting risk                       |\n",
        "|                   |                                                                     | - Less reliable for parameter tuning                     |\n",
        "| **LOOCV**         | - Uses almost all data for training, low bias                       | - Computationally intensive, especially for large datasets|\n",
        "|                   | - More stable results as each instance is used for testing once     | - High variance due to single test on each data point    |\n",
        "|                   | - Lower overfitting risk (less bias)                                            | - Not ideal for parameter tuning due to high variance    |\n"
      ],
      "metadata": {
        "id": "8FygAcQ5YvPR"
      }
    },
    {
      "cell_type": "markdown",
      "source": [
        "### Question 4\n",
        "Suppose that we use some statistical learning method to make a prediction for the response $Y$ for a particular value of the predictor $X$. Carefully describe how we might estimate the standard deviation of our prediction."
      ],
      "metadata": {
        "id": "3gdUn3v1cUbR"
      }
    },
    {
      "cell_type": "markdown",
      "source": [
        "#### Answer to Question 4\n",
        "This answer will depend on the statistical-learning method.  For instance, regression comes with analytical formulas that allow us to estimate the standard deviation of predictions.  But since this chapter is about resampling methods, we should address that. The process would look like:\n",
        "\n",
        "1. Identify the statistical learning method.\n",
        "2. Sample the data using one of the methods discussed in the chapter.  Feed the sampled data to the model and record the resulting predictions.\n",
        "3. Repeat step 2 $m$ times.\n",
        "4. Calculate the standard deviation across predictions."
      ],
      "metadata": {
        "id": "OlM4WTBacbvT"
      }
    },
    {
      "cell_type": "markdown",
      "source": [
        "## Applied"
      ],
      "metadata": {
        "id": "uqTQ-GhktvOO"
      }
    },
    {
      "cell_type": "markdown",
      "source": [
        "### Question 5\n",
        "In Chapter 4, we used logistic regression to predict the probability of `default` using `income` and `balance` on the `Default` data set. We will now estimate the test error of this logistic regression model using the validation set approach. Do not forget to set a random seed before beginning your analysis.\n",
        "\n",
        "> (a) Fit a logistic regression model that uses `income` and `balance` to predict `default`.\n",
        "\n",
        "> (b) Using the validation set approach, estimate the test error of this model. In order to do this, you must perform the following steps:\n",
        "\n",
        "> > i. Split the sample set into a training set and a validation set.\n",
        "\n",
        "> > ii. Fit a multiple logistic regression model using only the training observations.\n",
        "\n",
        "> > iii. Obtain a prediction of default status for each individual in the validation set by computing the posterior probability of default for that individual, and classifying the individual to the `default` category if the posterior probability is greater than 0.5.\n",
        "\n",
        "> > iv. Compute the validation set error, which is the fraction of the observations in the validation set that are misclassified.\n",
        "\n",
        "> (c) Repeat the process in (b) three times, using three different splits of the observations into a training set and a validation set. Comment on the results obtained.\n",
        "\n",
        "> (d) Now consider a logistic regression model that predicts the probability of `default` using `income`, `balance`, and a dummy variable for `student`. Estimate the test error for this model using the validation set approach. Comment on whether or not including a dummy variable for `student` leads to a reduction in the test error rate."
      ],
      "metadata": {
        "id": "3k_nkLYOtxTf"
      }
    },
    {
      "cell_type": "markdown",
      "source": [
        "#### Answers\n",
        "Loading the data."
      ],
      "metadata": {
        "id": "u-kHaawM6Jhp"
      }
    },
    {
      "cell_type": "code",
      "source": [
        "install.packages(\"ISLR2\")\n",
        "library(ISLR2)"
      ],
      "metadata": {
        "colab": {
          "base_uri": "https://localhost:8080/"
        },
        "id": "vkovsFY86T_8",
        "outputId": "7b01c9cd-b257-4ad9-d7bc-b4c2483d368c"
      },
      "execution_count": null,
      "outputs": [
        {
          "output_type": "stream",
          "name": "stderr",
          "text": [
            "Installing package into ‘/usr/local/lib/R/site-library’\n",
            "(as ‘lib’ is unspecified)\n",
            "\n"
          ]
        }
      ]
    },
    {
      "cell_type": "code",
      "source": [
        "data(Default)\n",
        "d <- Default\n",
        "head(d)"
      ],
      "metadata": {
        "colab": {
          "base_uri": "https://localhost:8080/",
          "height": 286
        },
        "id": "oKA0a0Zt6ax6",
        "outputId": "e510db16-3466-4984-dd83-a4d782fed3e1"
      },
      "execution_count": null,
      "outputs": [
        {
          "output_type": "display_data",
          "data": {
            "text/html": [
              "<table class=\"dataframe\">\n",
              "<caption>A data.frame: 6 × 4</caption>\n",
              "<thead>\n",
              "\t<tr><th></th><th scope=col>default</th><th scope=col>student</th><th scope=col>balance</th><th scope=col>income</th></tr>\n",
              "\t<tr><th></th><th scope=col>&lt;fct&gt;</th><th scope=col>&lt;fct&gt;</th><th scope=col>&lt;dbl&gt;</th><th scope=col>&lt;dbl&gt;</th></tr>\n",
              "</thead>\n",
              "<tbody>\n",
              "\t<tr><th scope=row>1</th><td>No</td><td>No </td><td> 729.5265</td><td>44361.625</td></tr>\n",
              "\t<tr><th scope=row>2</th><td>No</td><td>Yes</td><td> 817.1804</td><td>12106.135</td></tr>\n",
              "\t<tr><th scope=row>3</th><td>No</td><td>No </td><td>1073.5492</td><td>31767.139</td></tr>\n",
              "\t<tr><th scope=row>4</th><td>No</td><td>No </td><td> 529.2506</td><td>35704.494</td></tr>\n",
              "\t<tr><th scope=row>5</th><td>No</td><td>No </td><td> 785.6559</td><td>38463.496</td></tr>\n",
              "\t<tr><th scope=row>6</th><td>No</td><td>Yes</td><td> 919.5885</td><td> 7491.559</td></tr>\n",
              "</tbody>\n",
              "</table>\n"
            ],
            "text/markdown": "\nA data.frame: 6 × 4\n\n| <!--/--> | default &lt;fct&gt; | student &lt;fct&gt; | balance &lt;dbl&gt; | income &lt;dbl&gt; |\n|---|---|---|---|---|\n| 1 | No | No  |  729.5265 | 44361.625 |\n| 2 | No | Yes |  817.1804 | 12106.135 |\n| 3 | No | No  | 1073.5492 | 31767.139 |\n| 4 | No | No  |  529.2506 | 35704.494 |\n| 5 | No | No  |  785.6559 | 38463.496 |\n| 6 | No | Yes |  919.5885 |  7491.559 |\n\n",
            "text/latex": "A data.frame: 6 × 4\n\\begin{tabular}{r|llll}\n  & default & student & balance & income\\\\\n  & <fct> & <fct> & <dbl> & <dbl>\\\\\n\\hline\n\t1 & No & No  &  729.5265 & 44361.625\\\\\n\t2 & No & Yes &  817.1804 & 12106.135\\\\\n\t3 & No & No  & 1073.5492 & 31767.139\\\\\n\t4 & No & No  &  529.2506 & 35704.494\\\\\n\t5 & No & No  &  785.6559 & 38463.496\\\\\n\t6 & No & Yes &  919.5885 &  7491.559\\\\\n\\end{tabular}\n",
            "text/plain": [
              "  default student balance   income   \n",
              "1 No      No       729.5265 44361.625\n",
              "2 No      Yes      817.1804 12106.135\n",
              "3 No      No      1073.5492 31767.139\n",
              "4 No      No       529.2506 35704.494\n",
              "5 No      No       785.6559 38463.496\n",
              "6 No      Yes      919.5885  7491.559"
            ]
          },
          "metadata": {}
        }
      ]
    },
    {
      "cell_type": "markdown",
      "source": [
        "##### Answer to Question 5, a\n",
        "***Fit a logistic regression model that uses `income` and `balance` to predict `default`.***"
      ],
      "metadata": {
        "id": "OykTs5zL61L6"
      }
    },
    {
      "cell_type": "code",
      "source": [
        "m_logis <- glm(default ~ income*balance,\n",
        "               family=binomial(link=\"logit\"),\n",
        "               data=d)\n",
        "summary(m_logis)"
      ],
      "metadata": {
        "colab": {
          "base_uri": "https://localhost:8080/",
          "height": 401
        },
        "id": "aPiR3iqv68Bl",
        "outputId": "465a31ca-b686-40cb-ec63-e5c083b38ff3"
      },
      "execution_count": null,
      "outputs": [
        {
          "output_type": "display_data",
          "data": {
            "text/plain": [
              "\n",
              "Call:\n",
              "glm(formula = default ~ income * balance, family = binomial(link = \"logit\"), \n",
              "    data = d)\n",
              "\n",
              "Coefficients:\n",
              "                 Estimate Std. Error z value Pr(>|z|)    \n",
              "(Intercept)    -1.092e+01  9.489e-01 -11.504   <2e-16 ***\n",
              "income          1.600e-06  2.683e-05   0.060    0.952    \n",
              "balance         5.265e-03  5.648e-04   9.323   <2e-16 ***\n",
              "income:balance  1.193e-08  1.638e-08   0.728    0.466    \n",
              "---\n",
              "Signif. codes:  0 ‘***’ 0.001 ‘**’ 0.01 ‘*’ 0.05 ‘.’ 0.1 ‘ ’ 1\n",
              "\n",
              "(Dispersion parameter for binomial family taken to be 1)\n",
              "\n",
              "    Null deviance: 2920.6  on 9999  degrees of freedom\n",
              "Residual deviance: 1578.4  on 9996  degrees of freedom\n",
              "AIC: 1586.4\n",
              "\n",
              "Number of Fisher Scoring iterations: 8\n"
            ]
          },
          "metadata": {}
        }
      ]
    },
    {
      "cell_type": "markdown",
      "source": [
        "##### Answer to Question 5, b\n",
        "***Using the validation set approach, estimate the test error of this model. In order to do this, you must perform the following steps:***\n",
        "\n",
        "> > ***i. Split the sample set into a training set and a validation set.***\n",
        "\n",
        "> > ***ii. Fit a multiple logistic regression model using only the training observations.***\n",
        "\n",
        "> > ***iii. Obtain a prediction of default status for each individual in the validation set by computing the posterior probability of default for that individual, and classifying the individual to the `default` category if the posterior probability is greater than 0.5.***\n",
        "\n",
        "> > ***iv. Compute the validation set error, which is the fraction of the observations in the validation set that are misclassified.***"
      ],
      "metadata": {
        "id": "uqdlvq6S8ODS"
      }
    },
    {
      "cell_type": "code",
      "source": [
        "# i. Split the sample set into a training set and a validation set.\n",
        "\n",
        "train_prop <- 2/3\n",
        "train_n <- round(nrow(d) * train_prop, 0)\n",
        "train_ind <- sample(1:nrow(d), size=train_n, replace=FALSE)\n",
        "d_train <- d[train_ind,]\n",
        "d_test <- d[-train_ind,]"
      ],
      "metadata": {
        "id": "FyrUAqFf8T7O"
      },
      "execution_count": null,
      "outputs": []
    },
    {
      "cell_type": "code",
      "source": [
        "# ii. Fit a multiple logistic regression model using only the training observations.\n",
        "\n",
        "m_train0 <- m_logis <- glm(default ~ income*balance,\n",
        "                           family=binomial(link=\"logit\"),\n",
        "                           data=d_train)\n",
        "summary(m_train1)"
      ],
      "metadata": {
        "colab": {
          "base_uri": "https://localhost:8080/",
          "height": 401
        },
        "id": "8sx79QgP9A3i",
        "outputId": "77d654b0-b4c1-4ed0-b35d-a1b069cc6722"
      },
      "execution_count": null,
      "outputs": [
        {
          "output_type": "display_data",
          "data": {
            "text/plain": [
              "\n",
              "Call:\n",
              "glm(formula = default ~ income * balance, family = binomial(link = \"logit\"), \n",
              "    data = d_train)\n",
              "\n",
              "Coefficients:\n",
              "                 Estimate Std. Error z value Pr(>|z|)    \n",
              "(Intercept)    -1.137e+01  1.165e+00  -9.764  < 2e-16 ***\n",
              "income          1.541e-05  3.216e-05   0.479    0.632    \n",
              "balance         5.580e-03  6.956e-04   8.021 1.04e-15 ***\n",
              "income:balance  4.186e-09  1.971e-08   0.212    0.832    \n",
              "---\n",
              "Signif. codes:  0 ‘***’ 0.001 ‘**’ 0.01 ‘*’ 0.05 ‘.’ 0.1 ‘ ’ 1\n",
              "\n",
              "(Dispersion parameter for binomial family taken to be 1)\n",
              "\n",
              "    Null deviance: 2053.7  on 6666  degrees of freedom\n",
              "Residual deviance: 1102.6  on 6663  degrees of freedom\n",
              "AIC: 1110.6\n",
              "\n",
              "Number of Fisher Scoring iterations: 8\n"
            ]
          },
          "metadata": {}
        }
      ]
    },
    {
      "cell_type": "code",
      "source": [
        "# iii. Obtain a prediction of default status for each individual in the\n",
        "  # validation set by computing the posterior probability of default for that\n",
        "  # individual, and classifying the individual to the default category if the\n",
        "  # posterior probability is greater than 0.5.\n",
        "\n",
        "probs0 <- predict(m_train0, newdata=d_test, type=\"response\")\n",
        "preds0 <- ifelse(probs0 >= 1/2, yes=\"Yes\", no=\"No\")"
      ],
      "metadata": {
        "id": "Q45fwf4K94a5"
      },
      "execution_count": null,
      "outputs": []
    },
    {
      "cell_type": "code",
      "source": [
        "# iv. Compute the validation set error, which is the fraction of the\n",
        "  # observations in the validation set that are misclassified.\n",
        "\n",
        "table(preds0, d_test$default)\n",
        "\n",
        "# Two ways to estimate error\n",
        "## Straight incorrect prediction\n",
        "pred_err <- round(sum(preds0 != d_test$default) / nrow(d_test),4) * 100\n",
        "cat(pred_err, \"% predictions are incorrect.\\n\")\n",
        "\n",
        "# Distance from true result\n",
        "prcnt_err <- round(mean(ifelse(d_test$default == \"Yes\",\n",
        "                        yes = 1-probs0,\n",
        "                        no = probs0)),4)*100\n",
        "cat(\"The average percent error is\", prcnt_err, \"percentage points. \\n \\n\")"
      ],
      "metadata": {
        "colab": {
          "base_uri": "https://localhost:8080/",
          "height": 145
        },
        "id": "91vrZIgJ_pwx",
        "outputId": "85d68322-d941-4470-9283-f5e1424a240f"
      },
      "execution_count": null,
      "outputs": [
        {
          "output_type": "display_data",
          "data": {
            "text/plain": [
              "      \n",
              "preds0   No  Yes\n",
              "   No  3203   86\n",
              "   Yes   10   34"
            ]
          },
          "metadata": {}
        },
        {
          "output_type": "stream",
          "name": "stdout",
          "text": [
            "2.88 % predictions are incorrect.\n",
            "The average percent error is 4.36 percentage points. \n",
            " \n"
          ]
        }
      ]
    },
    {
      "cell_type": "markdown",
      "source": [
        "##### Answer to Question 5, c\n",
        "\n",
        "***Repeat the process in (b) three times, using three different splits of the observations into a training set and a validation set. Comment on the results obtained.***"
      ],
      "metadata": {
        "id": "1JAh6KbNCsYS"
      }
    },
    {
      "cell_type": "code",
      "source": [
        "# Define the number of replications\n",
        "n_replicates <- 10\n",
        "\n",
        "# Function to perform the analysis\n",
        "perform_analysis <- function(d) {\n",
        "  # i. Split the sample set into a training set and a validation set.\n",
        "  train_prop <- 2 / 3\n",
        "  train_n <- round(nrow(d) * train_prop)\n",
        "  train_ind <- sample(nrow(d), size = train_n, replace = FALSE)\n",
        "  d_train <- d[train_ind, ]\n",
        "  d_test <- d[-train_ind, ]\n",
        "\n",
        "  # ii. Fit a multiple logistic regression model using only the training observations.\n",
        "  m_train0 <- glm(default ~ income * balance, family = binomial(link = \"logit\"), data = d_train)\n",
        "\n",
        "  # iii. Obtain a prediction of default status for each individual in the validation set.\n",
        "  probs0 <- predict(m_train0, newdata = d_test, type = \"response\")\n",
        "  preds0 <- ifelse(probs0 >= 0.5, \"Yes\", \"No\")\n",
        "\n",
        "  # iv. Compute the validation set error.\n",
        "  # Two ways to estimate error:\n",
        "  # 1. Straight incorrect prediction\n",
        "  pred_err <- round(sum(preds0 != d_test$default) / nrow(d_test), 4) * 100\n",
        "  cat(pred_err, \"% predictions are incorrect.\\n\")\n",
        "\n",
        "  # 2. Distance from true result\n",
        "  prcnt_err <- round(mean(ifelse(d_test$default == \"Yes\", 1 - probs0, probs0)), 4) * 100\n",
        "  cat(\"The average percent error is\", prcnt_err, \"percentage points.\\n\\n\")\n",
        "}\n",
        "\n",
        "# Loop to replicate the analysis n_replicates times\n",
        "for (i in 1:n_replicates) {\n",
        "  perform_analysis(d)\n",
        "}"
      ],
      "metadata": {
        "colab": {
          "base_uri": "https://localhost:8080/"
        },
        "id": "Maq44okgFNrP",
        "outputId": "6c75e6ff-aa59-4332-8091-d6f0fd8297c9"
      },
      "execution_count": null,
      "outputs": [
        {
          "output_type": "stream",
          "name": "stdout",
          "text": [
            "2.52 % predictions are incorrect.\n",
            "The average percent error is 4.28 percentage points.\n",
            "\n",
            "2.55 % predictions are incorrect.\n",
            "The average percent error is 4.28 percentage points.\n",
            "\n",
            "2.55 % predictions are incorrect.\n",
            "The average percent error is 4.29 percentage points.\n",
            "\n",
            "2.7 % predictions are incorrect.\n",
            "The average percent error is 4.37 percentage points.\n",
            "\n",
            "2.97 % predictions are incorrect.\n",
            "The average percent error is 4.45 percentage points.\n",
            "\n",
            "2.73 % predictions are incorrect.\n",
            "The average percent error is 4.22 percentage points.\n",
            "\n",
            "2.94 % predictions are incorrect.\n",
            "The average percent error is 4.41 percentage points.\n",
            "\n",
            "2.85 % predictions are incorrect.\n",
            "The average percent error is 4.33 percentage points.\n",
            "\n",
            "2.19 % predictions are incorrect.\n",
            "The average percent error is 4.09 percentage points.\n",
            "\n",
            "2.61 % predictions are incorrect.\n",
            "The average percent error is 4.42 percentage points.\n",
            "\n"
          ]
        }
      ]
    },
    {
      "cell_type": "markdown",
      "source": [
        "##### Answer to Question 5, d\n",
        "\n",
        "***Now consider a logistic regression model that predicts the probability of `default` using `income`, `balance`, and a dummy variable for `student`. Estimate the test error for this model using the validation set approach. Comment on whether or not including a dummy variable for `student` leads to a reduction in the test error rate.***"
      ],
      "metadata": {
        "id": "iB3iWmqUFgVi"
      }
    },
    {
      "cell_type": "code",
      "source": [
        "# Define the number of replications\n",
        "n_replicates <- 10\n",
        "\n",
        "# Function to perform the analysis\n",
        "perform_analysis <- function(d) {\n",
        "  # i. Split the sample set into a training set and a validation set.\n",
        "  train_prop <- 2 / 3\n",
        "  train_n <- round(nrow(d) * train_prop)\n",
        "  train_ind <- sample(nrow(d), size = train_n, replace = FALSE)\n",
        "  d_train <- d[train_ind, ]\n",
        "  d_test <- d[-train_ind, ]\n",
        "\n",
        "  # ii. Fit a multiple logistic regression model using only the training observations.\n",
        "  m_train0 <- glm(default ~ income * balance * student, family = binomial(link = \"logit\"), data = d_train)\n",
        "\n",
        "  # iii. Obtain a prediction of default status for each individual in the validation set.\n",
        "  probs0 <- predict(m_train0, newdata = d_test, type = \"response\")\n",
        "  preds0 <- ifelse(probs0 >= 0.5, \"Yes\", \"No\")\n",
        "\n",
        "  # iv. Compute the validation set error.\n",
        "  # Two ways to estimate error:\n",
        "  # 1. Straight incorrect prediction\n",
        "  pred_err <- round(sum(preds0 != d_test$default) / nrow(d_test), 4) * 100\n",
        "  cat(pred_err, \"% predictions are incorrect.\\n\")\n",
        "\n",
        "  # 2. Distance from true result\n",
        "  prcnt_err <- round(mean(ifelse(d_test$default == \"Yes\", 1 - probs0, probs0)), 4) * 100\n",
        "  cat(\"The average percent error is\", prcnt_err, \"percentage points.\\n\\n\")\n",
        "}\n",
        "\n",
        "# Loop to replicate the analysis n_replicates times\n",
        "for (i in 1:n_replicates) {\n",
        "  perform_analysis(d)\n",
        "}"
      ],
      "metadata": {
        "colab": {
          "base_uri": "https://localhost:8080/"
        },
        "id": "gL_kM75RFzUw",
        "outputId": "134279ec-3b64-42d8-d2e4-f9d189841941"
      },
      "execution_count": null,
      "outputs": [
        {
          "output_type": "stream",
          "name": "stdout",
          "text": [
            "2.67 % predictions are incorrect.\n",
            "The average percent error is 4.44 percentage points.\n",
            "\n",
            "2.76 % predictions are incorrect.\n",
            "The average percent error is 4.34 percentage points.\n",
            "\n",
            "2.94 % predictions are incorrect.\n",
            "The average percent error is 4.6 percentage points.\n",
            "\n",
            "2.76 % predictions are incorrect.\n",
            "The average percent error is 4.32 percentage points.\n",
            "\n",
            "2.79 % predictions are incorrect.\n",
            "The average percent error is 4.28 percentage points.\n",
            "\n",
            "2.58 % predictions are incorrect.\n",
            "The average percent error is 4.16 percentage points.\n",
            "\n",
            "2.55 % predictions are incorrect.\n",
            "The average percent error is 4.4 percentage points.\n",
            "\n",
            "2.43 % predictions are incorrect.\n",
            "The average percent error is 4.2 percentage points.\n",
            "\n",
            "2.7 % predictions are incorrect.\n",
            "The average percent error is 4.28 percentage points.\n",
            "\n",
            "2.82 % predictions are incorrect.\n",
            "The average percent error is 4.32 percentage points.\n",
            "\n"
          ]
        }
      ]
    },
    {
      "cell_type": "markdown",
      "source": [
        "Over 10 runs, adding `student` doesn't seem to make an appreciable difference in error rate."
      ],
      "metadata": {
        "id": "7Lp-bG7OGLMN"
      }
    },
    {
      "cell_type": "markdown",
      "source": [
        "### Question 6\n",
        "\n",
        "We continue to consider the use of a logistic regression model to predict the probability of `default` using `income` and `balance` on the `Default` data set. In particular, we will now compute estimates for the standard errors of the `income` and `balance` logistic regression coefficients in two different ways: (1) using the bootstrap, and (2) using the standard formula for computing the standard errors in the `glm()` function. Do not forget to set a random seed before beginning your analysis.\n",
        "\n",
        "> (a) Using the `summary()` and `glm()` functions, determine the estimated standard errors for the coefficients associated with `income` and `balance` in a multiple logistic regression model that uses both predictors.\n",
        "\n",
        "> (b) Write a function, `boot.fn()`, that takes as input the `Default` data set as well as an index of the observations, and that outputs the coefficient estimates for `income` and `balance` in the multiple logistic regression model.\n",
        "\n",
        "> (c) Use the `boot()` function together with your `boot.fn()` function to estimate the standard errors of the logistic regression coefficients for `income` and `balance`.\n",
        "\n",
        "> (d) Comment on the estimated standard errors obtained using the `glm()` function and using your bootstrap function."
      ],
      "metadata": {
        "id": "-j7VRdrblHGf"
      }
    },
    {
      "cell_type": "markdown",
      "source": [
        "#### Answers"
      ],
      "metadata": {
        "id": "fAD_pcxnl8ZH"
      }
    },
    {
      "cell_type": "code",
      "source": [
        "install.packages(\"ISLR2\")\n",
        "library(ISLR2)"
      ],
      "metadata": {
        "colab": {
          "base_uri": "https://localhost:8080/"
        },
        "outputId": "6a0c11a4-f6e4-4ae7-dc50-d5429ab88a39",
        "id": "3jxikZSImBnr"
      },
      "execution_count": null,
      "outputs": [
        {
          "output_type": "stream",
          "name": "stderr",
          "text": [
            "Installing package into ‘/usr/local/lib/R/site-library’\n",
            "(as ‘lib’ is unspecified)\n",
            "\n"
          ]
        }
      ]
    },
    {
      "cell_type": "code",
      "source": [
        "data(Default)\n",
        "d <- Default\n",
        "head(d)"
      ],
      "metadata": {
        "colab": {
          "base_uri": "https://localhost:8080/",
          "height": 286
        },
        "outputId": "f760ee63-8ff4-4492-b909-8aa7c1fc9fe2",
        "id": "DyRJOb_zmBnx"
      },
      "execution_count": null,
      "outputs": [
        {
          "output_type": "display_data",
          "data": {
            "text/html": [
              "<table class=\"dataframe\">\n",
              "<caption>A data.frame: 6 × 4</caption>\n",
              "<thead>\n",
              "\t<tr><th></th><th scope=col>default</th><th scope=col>student</th><th scope=col>balance</th><th scope=col>income</th></tr>\n",
              "\t<tr><th></th><th scope=col>&lt;fct&gt;</th><th scope=col>&lt;fct&gt;</th><th scope=col>&lt;dbl&gt;</th><th scope=col>&lt;dbl&gt;</th></tr>\n",
              "</thead>\n",
              "<tbody>\n",
              "\t<tr><th scope=row>1</th><td>No</td><td>No </td><td> 729.5265</td><td>44361.625</td></tr>\n",
              "\t<tr><th scope=row>2</th><td>No</td><td>Yes</td><td> 817.1804</td><td>12106.135</td></tr>\n",
              "\t<tr><th scope=row>3</th><td>No</td><td>No </td><td>1073.5492</td><td>31767.139</td></tr>\n",
              "\t<tr><th scope=row>4</th><td>No</td><td>No </td><td> 529.2506</td><td>35704.494</td></tr>\n",
              "\t<tr><th scope=row>5</th><td>No</td><td>No </td><td> 785.6559</td><td>38463.496</td></tr>\n",
              "\t<tr><th scope=row>6</th><td>No</td><td>Yes</td><td> 919.5885</td><td> 7491.559</td></tr>\n",
              "</tbody>\n",
              "</table>\n"
            ],
            "text/markdown": "\nA data.frame: 6 × 4\n\n| <!--/--> | default &lt;fct&gt; | student &lt;fct&gt; | balance &lt;dbl&gt; | income &lt;dbl&gt; |\n|---|---|---|---|---|\n| 1 | No | No  |  729.5265 | 44361.625 |\n| 2 | No | Yes |  817.1804 | 12106.135 |\n| 3 | No | No  | 1073.5492 | 31767.139 |\n| 4 | No | No  |  529.2506 | 35704.494 |\n| 5 | No | No  |  785.6559 | 38463.496 |\n| 6 | No | Yes |  919.5885 |  7491.559 |\n\n",
            "text/latex": "A data.frame: 6 × 4\n\\begin{tabular}{r|llll}\n  & default & student & balance & income\\\\\n  & <fct> & <fct> & <dbl> & <dbl>\\\\\n\\hline\n\t1 & No & No  &  729.5265 & 44361.625\\\\\n\t2 & No & Yes &  817.1804 & 12106.135\\\\\n\t3 & No & No  & 1073.5492 & 31767.139\\\\\n\t4 & No & No  &  529.2506 & 35704.494\\\\\n\t5 & No & No  &  785.6559 & 38463.496\\\\\n\t6 & No & Yes &  919.5885 &  7491.559\\\\\n\\end{tabular}\n",
            "text/plain": [
              "  default student balance   income   \n",
              "1 No      No       729.5265 44361.625\n",
              "2 No      Yes      817.1804 12106.135\n",
              "3 No      No      1073.5492 31767.139\n",
              "4 No      No       529.2506 35704.494\n",
              "5 No      No       785.6559 38463.496\n",
              "6 No      Yes      919.5885  7491.559"
            ]
          },
          "metadata": {}
        }
      ]
    },
    {
      "cell_type": "markdown",
      "source": [
        "##### Answer to Question 6, a\n",
        "***Using the `summary()` and `glm()` functions, determine the estimated standard errors for the coefficients associated with `income` and `balance` in a multiple logistic regression model that uses both predictors.***"
      ],
      "metadata": {
        "id": "nyiWGQJ8mEo9"
      }
    },
    {
      "cell_type": "code",
      "source": [
        "m_glm <- glm(default ~ income*balance,\n",
        "             family=binomial(link=\"logit\"),\n",
        "             data=d)\n",
        "summary(m_glm)\n",
        "coef(m_glm)"
      ],
      "metadata": {
        "colab": {
          "base_uri": "https://localhost:8080/",
          "height": 399
        },
        "id": "_U_a1U1MmRma",
        "outputId": "3913da01-299a-443b-fe95-287ae6763cc3"
      },
      "execution_count": null,
      "outputs": [
        {
          "output_type": "display_data",
          "data": {
            "text/plain": [
              "\n",
              "Call:\n",
              "glm(formula = default ~ income * balance, family = binomial(link = \"logit\"), \n",
              "    data = d)\n",
              "\n",
              "Coefficients:\n",
              "                 Estimate Std. Error z value Pr(>|z|)    \n",
              "(Intercept)    -1.092e+01  9.489e-01 -11.504   <2e-16 ***\n",
              "income          1.600e-06  2.683e-05   0.060    0.952    \n",
              "balance         5.265e-03  5.648e-04   9.323   <2e-16 ***\n",
              "income:balance  1.193e-08  1.638e-08   0.728    0.466    \n",
              "---\n",
              "Signif. codes:  0 ‘***’ 0.001 ‘**’ 0.01 ‘*’ 0.05 ‘.’ 0.1 ‘ ’ 1\n",
              "\n",
              "(Dispersion parameter for binomial family taken to be 1)\n",
              "\n",
              "    Null deviance: 2920.6  on 9999  degrees of freedom\n",
              "Residual deviance: 1578.4  on 9996  degrees of freedom\n",
              "AIC: 1586.4\n",
              "\n",
              "Number of Fisher Scoring iterations: 8\n"
            ]
          },
          "metadata": {}
        },
        {
          "output_type": "display_data",
          "data": {
            "text/html": [
              "<style>\n",
              ".dl-inline {width: auto; margin:0; padding: 0}\n",
              ".dl-inline>dt, .dl-inline>dd {float: none; width: auto; display: inline-block}\n",
              ".dl-inline>dt::after {content: \":\\0020\"; padding-right: .5ex}\n",
              ".dl-inline>dt:not(:first-of-type) {padding-left: .5ex}\n",
              "</style><dl class=dl-inline><dt>(Intercept)</dt><dd>-10.9157273381417</dd><dt>income</dt><dd>1.59966088795382e-06</dd><dt>balance</dt><dd>0.00526527800922396</dd><dt>income:balance</dt><dd>1.19332945884835e-08</dd></dl>\n"
            ],
            "text/markdown": "(Intercept)\n:   -10.9157273381417income\n:   1.59966088795382e-06balance\n:   0.00526527800922396income:balance\n:   1.19332945884835e-08\n\n",
            "text/latex": "\\begin{description*}\n\\item[(Intercept)] -10.9157273381417\n\\item[income] 1.59966088795382e-06\n\\item[balance] 0.00526527800922396\n\\item[income:balance] 1.19332945884835e-08\n\\end{description*}\n",
            "text/plain": [
              "   (Intercept)         income        balance income:balance \n",
              " -1.091573e+01   1.599661e-06   5.265278e-03   1.193329e-08 "
            ]
          },
          "metadata": {}
        }
      ]
    },
    {
      "cell_type": "markdown",
      "source": [
        "##### Answer to Question 6, b\n",
        "***Write a function, `boot.fn()`, that takes as input the `Default` data set as well as an index of the observations, and that outputs the coefficient estimates for `income` and `balance` in the multiple logistic regression model.***"
      ],
      "metadata": {
        "id": "_VKbbxjHmw0n"
      }
    },
    {
      "cell_type": "code",
      "source": [
        "boot.fn <- function(dat, indx){\n",
        "  fit <- glm(default ~ income*balance,\n",
        "             family=binomial(link=\"logit\"),\n",
        "             data=dat[indx,])\n",
        "  coef(fit)\n",
        "}\n",
        "\n",
        "boot.fn(d, 1:nrow(d))"
      ],
      "metadata": {
        "colab": {
          "base_uri": "https://localhost:8080/",
          "height": 34
        },
        "id": "CWtYIFR1m0M7",
        "outputId": "3b9c8e9e-e458-4ac3-a660-d24b3d66ad73"
      },
      "execution_count": null,
      "outputs": [
        {
          "output_type": "display_data",
          "data": {
            "text/html": [
              "<style>\n",
              ".dl-inline {width: auto; margin:0; padding: 0}\n",
              ".dl-inline>dt, .dl-inline>dd {float: none; width: auto; display: inline-block}\n",
              ".dl-inline>dt::after {content: \":\\0020\"; padding-right: .5ex}\n",
              ".dl-inline>dt:not(:first-of-type) {padding-left: .5ex}\n",
              "</style><dl class=dl-inline><dt>(Intercept)</dt><dd>-10.9157273381417</dd><dt>income</dt><dd>1.59966088795382e-06</dd><dt>balance</dt><dd>0.00526527800922396</dd><dt>income:balance</dt><dd>1.19332945884835e-08</dd></dl>\n"
            ],
            "text/markdown": "(Intercept)\n:   -10.9157273381417income\n:   1.59966088795382e-06balance\n:   0.00526527800922396income:balance\n:   1.19332945884835e-08\n\n",
            "text/latex": "\\begin{description*}\n\\item[(Intercept)] -10.9157273381417\n\\item[income] 1.59966088795382e-06\n\\item[balance] 0.00526527800922396\n\\item[income:balance] 1.19332945884835e-08\n\\end{description*}\n",
            "text/plain": [
              "   (Intercept)         income        balance income:balance \n",
              " -1.091573e+01   1.599661e-06   5.265278e-03   1.193329e-08 "
            ]
          },
          "metadata": {}
        }
      ]
    },
    {
      "cell_type": "markdown",
      "source": [
        "##### Answers to Question 6, c and d\n",
        "***Use the `boot()` function together with your `boot.fn()` function to estimate the standard errors of the logistic regression coefficients for `income` and `balance`.***\n",
        "\n",
        "\\\n",
        "\n",
        "***Comment on the estimated standard errors obtained using the `glm()` function and using your bootstrap function.***"
      ],
      "metadata": {
        "id": "l2Qt9oIGofcY"
      }
    },
    {
      "cell_type": "code",
      "source": [
        "#install.packages(\"boot\")\n",
        "library(boot)\n",
        "\n",
        "boot(data=d, statistic=boot.fn, R=1000)\n",
        "summary(m_glm)"
      ],
      "metadata": {
        "colab": {
          "base_uri": "https://localhost:8080/",
          "height": 624
        },
        "id": "OwNhiYrIopmQ",
        "outputId": "94de4a7b-853e-42ae-9d54-46ae0cbfa788"
      },
      "execution_count": null,
      "outputs": [
        {
          "output_type": "display_data",
          "data": {
            "text/plain": [
              "\n",
              "ORDINARY NONPARAMETRIC BOOTSTRAP\n",
              "\n",
              "\n",
              "Call:\n",
              "boot(data = Default, statistic = boot.fn, R = 1000)\n",
              "\n",
              "\n",
              "Bootstrap Statistics :\n",
              "         original        bias     std. error\n",
              "t1* -1.091573e+01 -2.835491e-02 9.119349e-01\n",
              "t2*  1.599661e-06 -5.675773e-07 2.694173e-05\n",
              "t3*  5.265278e-03  1.047864e-05 5.479339e-04\n",
              "t4*  1.193329e-08  4.323389e-10 1.662873e-08"
            ]
          },
          "metadata": {}
        },
        {
          "output_type": "display_data",
          "data": {
            "text/plain": [
              "\n",
              "Call:\n",
              "glm(formula = default ~ income * balance, family = binomial(link = \"logit\"), \n",
              "    data = d)\n",
              "\n",
              "Coefficients:\n",
              "                 Estimate Std. Error z value Pr(>|z|)    \n",
              "(Intercept)    -1.092e+01  9.489e-01 -11.504   <2e-16 ***\n",
              "income          1.600e-06  2.683e-05   0.060    0.952    \n",
              "balance         5.265e-03  5.648e-04   9.323   <2e-16 ***\n",
              "income:balance  1.193e-08  1.638e-08   0.728    0.466    \n",
              "---\n",
              "Signif. codes:  0 ‘***’ 0.001 ‘**’ 0.01 ‘*’ 0.05 ‘.’ 0.1 ‘ ’ 1\n",
              "\n",
              "(Dispersion parameter for binomial family taken to be 1)\n",
              "\n",
              "    Null deviance: 2920.6  on 9999  degrees of freedom\n",
              "Residual deviance: 1578.4  on 9996  degrees of freedom\n",
              "AIC: 1586.4\n",
              "\n",
              "Number of Fisher Scoring iterations: 8\n"
            ]
          },
          "metadata": {}
        }
      ]
    },
    {
      "cell_type": "markdown",
      "source": [
        "The standard errors, as well as the estimates, are similar between the two methods."
      ],
      "metadata": {
        "id": "S_BDbZ3Bpq-n"
      }
    },
    {
      "cell_type": "markdown",
      "source": [
        "### Question 7\n",
        "\n",
        "In Sections 5.3.2 and 5.3.3, we saw that the `cv.glm()` function can be used in order to compute the LOOCV test error estimate. Alternatively, one could compute those quantities using just the `glm()` and `predict.glm()` functions, and a for loop. You will now take this approach in order to compute the LOOCV error for a simple logistic regression model on the `Weekly` data set. Recall that in the context of classification problems, the LOOCV error is given in (5.4).\n",
        "\n",
        "> (a) Fit a logistic regression model that predicts `Direction` using `Lag1` and `Lag2`.\n",
        "\n",
        "> (b) Fit a logistic regression model that predicts `Direction` using `Lag1` and `Lag2` using *all but the first observation.*\n",
        "\n",
        "> (c) Use the model from (b) to predict the direction of the first observation. You can do this by predicting that the first observation will go up if $P($ `Direction = \"Up\"|Lag1, Lag2` $) > 0.5$. Was this observation correctly classified?\n",
        "\n",
        "> (d) Write a for loop from $i = 1$ to $i = n$, where $n$ is the number of observations in the data set, that performs each of the following steps:\n",
        "\n",
        ">> i. Fit a logistic regression model using all but the ith observation to predict `Direction` using `Lag1` and `Lag2`.\n",
        "\n",
        ">> ii. Compute the posterior probability of the market moving up for the ith observation.\n",
        "\n",
        ">> iii. Use the posterior probability for the ith observation in order to predict whether or not the market moves up.\n",
        "\n",
        ">> iv. Determine whether or not an error was made in predicting the direction for the ith observation. If an error was made, then indicate this as a 1, and otherwise indicate it as a 0.\n",
        "\n",
        "> (e) Take the average of the $n$ numbers obtained in (d)iv in order to obtain the LOOCV estimate for the test error. Comment on the results."
      ],
      "metadata": {
        "id": "Q7gmniBqguwP"
      }
    },
    {
      "cell_type": "markdown",
      "source": [
        "#### Answers"
      ],
      "metadata": {
        "id": "mLw3zJlxh7vy"
      }
    },
    {
      "cell_type": "code",
      "source": [
        "install.packages(\"ISLR2\")\n",
        "library(ISLR2)"
      ],
      "metadata": {
        "colab": {
          "base_uri": "https://localhost:8080/"
        },
        "outputId": "b72323e3-9c09-4612-8f62-d2dc3d9ee9c8",
        "id": "czr2bxbvh6ys"
      },
      "execution_count": null,
      "outputs": [
        {
          "output_type": "stream",
          "name": "stderr",
          "text": [
            "Installing package into ‘/usr/local/lib/R/site-library’\n",
            "(as ‘lib’ is unspecified)\n",
            "\n"
          ]
        }
      ]
    },
    {
      "cell_type": "code",
      "source": [
        "data(Weekly)\n",
        "d <- Weekly\n",
        "head(d)"
      ],
      "metadata": {
        "colab": {
          "base_uri": "https://localhost:8080/",
          "height": 286
        },
        "outputId": "04d63031-7cd1-41ca-9f6d-8ba983a36ef3",
        "id": "Flv6ev3fh6yt"
      },
      "execution_count": null,
      "outputs": [
        {
          "output_type": "display_data",
          "data": {
            "text/html": [
              "<table class=\"dataframe\">\n",
              "<caption>A data.frame: 6 × 9</caption>\n",
              "<thead>\n",
              "\t<tr><th></th><th scope=col>Year</th><th scope=col>Lag1</th><th scope=col>Lag2</th><th scope=col>Lag3</th><th scope=col>Lag4</th><th scope=col>Lag5</th><th scope=col>Volume</th><th scope=col>Today</th><th scope=col>Direction</th></tr>\n",
              "\t<tr><th></th><th scope=col>&lt;dbl&gt;</th><th scope=col>&lt;dbl&gt;</th><th scope=col>&lt;dbl&gt;</th><th scope=col>&lt;dbl&gt;</th><th scope=col>&lt;dbl&gt;</th><th scope=col>&lt;dbl&gt;</th><th scope=col>&lt;dbl&gt;</th><th scope=col>&lt;dbl&gt;</th><th scope=col>&lt;fct&gt;</th></tr>\n",
              "</thead>\n",
              "<tbody>\n",
              "\t<tr><th scope=row>1</th><td>1990</td><td> 0.816</td><td> 1.572</td><td>-3.936</td><td>-0.229</td><td>-3.484</td><td>0.1549760</td><td>-0.270</td><td>Down</td></tr>\n",
              "\t<tr><th scope=row>2</th><td>1990</td><td>-0.270</td><td> 0.816</td><td> 1.572</td><td>-3.936</td><td>-0.229</td><td>0.1485740</td><td>-2.576</td><td>Down</td></tr>\n",
              "\t<tr><th scope=row>3</th><td>1990</td><td>-2.576</td><td>-0.270</td><td> 0.816</td><td> 1.572</td><td>-3.936</td><td>0.1598375</td><td> 3.514</td><td>Up  </td></tr>\n",
              "\t<tr><th scope=row>4</th><td>1990</td><td> 3.514</td><td>-2.576</td><td>-0.270</td><td> 0.816</td><td> 1.572</td><td>0.1616300</td><td> 0.712</td><td>Up  </td></tr>\n",
              "\t<tr><th scope=row>5</th><td>1990</td><td> 0.712</td><td> 3.514</td><td>-2.576</td><td>-0.270</td><td> 0.816</td><td>0.1537280</td><td> 1.178</td><td>Up  </td></tr>\n",
              "\t<tr><th scope=row>6</th><td>1990</td><td> 1.178</td><td> 0.712</td><td> 3.514</td><td>-2.576</td><td>-0.270</td><td>0.1544440</td><td>-1.372</td><td>Down</td></tr>\n",
              "</tbody>\n",
              "</table>\n"
            ],
            "text/markdown": "\nA data.frame: 6 × 9\n\n| <!--/--> | Year &lt;dbl&gt; | Lag1 &lt;dbl&gt; | Lag2 &lt;dbl&gt; | Lag3 &lt;dbl&gt; | Lag4 &lt;dbl&gt; | Lag5 &lt;dbl&gt; | Volume &lt;dbl&gt; | Today &lt;dbl&gt; | Direction &lt;fct&gt; |\n|---|---|---|---|---|---|---|---|---|---|\n| 1 | 1990 |  0.816 |  1.572 | -3.936 | -0.229 | -3.484 | 0.1549760 | -0.270 | Down |\n| 2 | 1990 | -0.270 |  0.816 |  1.572 | -3.936 | -0.229 | 0.1485740 | -2.576 | Down |\n| 3 | 1990 | -2.576 | -0.270 |  0.816 |  1.572 | -3.936 | 0.1598375 |  3.514 | Up   |\n| 4 | 1990 |  3.514 | -2.576 | -0.270 |  0.816 |  1.572 | 0.1616300 |  0.712 | Up   |\n| 5 | 1990 |  0.712 |  3.514 | -2.576 | -0.270 |  0.816 | 0.1537280 |  1.178 | Up   |\n| 6 | 1990 |  1.178 |  0.712 |  3.514 | -2.576 | -0.270 | 0.1544440 | -1.372 | Down |\n\n",
            "text/latex": "A data.frame: 6 × 9\n\\begin{tabular}{r|lllllllll}\n  & Year & Lag1 & Lag2 & Lag3 & Lag4 & Lag5 & Volume & Today & Direction\\\\\n  & <dbl> & <dbl> & <dbl> & <dbl> & <dbl> & <dbl> & <dbl> & <dbl> & <fct>\\\\\n\\hline\n\t1 & 1990 &  0.816 &  1.572 & -3.936 & -0.229 & -3.484 & 0.1549760 & -0.270 & Down\\\\\n\t2 & 1990 & -0.270 &  0.816 &  1.572 & -3.936 & -0.229 & 0.1485740 & -2.576 & Down\\\\\n\t3 & 1990 & -2.576 & -0.270 &  0.816 &  1.572 & -3.936 & 0.1598375 &  3.514 & Up  \\\\\n\t4 & 1990 &  3.514 & -2.576 & -0.270 &  0.816 &  1.572 & 0.1616300 &  0.712 & Up  \\\\\n\t5 & 1990 &  0.712 &  3.514 & -2.576 & -0.270 &  0.816 & 0.1537280 &  1.178 & Up  \\\\\n\t6 & 1990 &  1.178 &  0.712 &  3.514 & -2.576 & -0.270 & 0.1544440 & -1.372 & Down\\\\\n\\end{tabular}\n",
            "text/plain": [
              "  Year Lag1   Lag2   Lag3   Lag4   Lag5   Volume    Today  Direction\n",
              "1 1990  0.816  1.572 -3.936 -0.229 -3.484 0.1549760 -0.270 Down     \n",
              "2 1990 -0.270  0.816  1.572 -3.936 -0.229 0.1485740 -2.576 Down     \n",
              "3 1990 -2.576 -0.270  0.816  1.572 -3.936 0.1598375  3.514 Up       \n",
              "4 1990  3.514 -2.576 -0.270  0.816  1.572 0.1616300  0.712 Up       \n",
              "5 1990  0.712  3.514 -2.576 -0.270  0.816 0.1537280  1.178 Up       \n",
              "6 1990  1.178  0.712  3.514 -2.576 -0.270 0.1544440 -1.372 Down     "
            ]
          },
          "metadata": {}
        }
      ]
    },
    {
      "cell_type": "markdown",
      "source": [
        "##### Answer to Question 7, a\n",
        "***Fit a logistic regression model that predicts `Direction` using `Lag1` and `Lag2`.***"
      ],
      "metadata": {
        "id": "s2ODoOQBiKIo"
      }
    },
    {
      "cell_type": "code",
      "source": [
        "m1 <- glm(Direction ~ Lag1 + Lag2,\n",
        "          family=binomial(link=\"logit\"),\n",
        "          data=d)"
      ],
      "metadata": {
        "id": "Sl3RQt-riOOy"
      },
      "execution_count": null,
      "outputs": []
    },
    {
      "cell_type": "markdown",
      "source": [
        "##### Answer to Question 7, b\n",
        "***Fit a logistic regression model that predicts `Direction` using `Lag1` and `Lag2` using <u>all but the first observation</u>.***"
      ],
      "metadata": {
        "id": "uSkKIGLSicIe"
      }
    },
    {
      "cell_type": "code",
      "source": [
        "d_train <- d[-1,]\n",
        "d_test <- d[1,]\n",
        "\n",
        "m2 <- glm(Direction ~ Lag1 + Lag2,\n",
        "          family=binomial(link=\"logit\"),\n",
        "          data=d_train)"
      ],
      "metadata": {
        "id": "uOn2kpMpioRp"
      },
      "execution_count": null,
      "outputs": []
    },
    {
      "cell_type": "markdown",
      "source": [
        "##### Answer to Question 7, c\n",
        "***Use the model from (b) to predict the direction of the first observation. You can do this by predicting that the first observation will go up if $P($ `Direction = \"Up\"|Lag1, Lag2` $) > 0.5$. Was this observation correctly classified?***"
      ],
      "metadata": {
        "id": "AudAeHaUi1pB"
      }
    },
    {
      "cell_type": "code",
      "source": [
        "m2_predict <- predict(m2, newdata=d_test, type=\"response\")\n",
        "m2_predict\n",
        "ifelse(m2_predict >= 0.5, \"Up\", \"Down\") == d[1,\"Direction\"]"
      ],
      "metadata": {
        "colab": {
          "base_uri": "https://localhost:8080/",
          "height": 52
        },
        "id": "S2ZwaoOGi1FK",
        "outputId": "34f38ec9-aa68-4429-dfcf-fb08031ad7c0"
      },
      "execution_count": null,
      "outputs": [
        {
          "output_type": "display_data",
          "data": {
            "text/html": [
              "<strong>1:</strong> 0.571392320520443"
            ],
            "text/markdown": "**1:** 0.571392320520443",
            "text/latex": "\\textbf{1:} 0.571392320520443",
            "text/plain": [
              "        1 \n",
              "0.5713923 "
            ]
          },
          "metadata": {}
        },
        {
          "output_type": "display_data",
          "data": {
            "text/html": [
              "FALSE"
            ],
            "text/markdown": "FALSE",
            "text/latex": "FALSE",
            "text/plain": [
              "[1] FALSE"
            ]
          },
          "metadata": {}
        }
      ]
    },
    {
      "cell_type": "markdown",
      "source": [
        "##### Answer to Question 7, d\n",
        "***Write a for loop from $i = 1$ to $i = n$, where $n$ is the number of observations in the data set, that performs each of the following steps:***\n",
        "\n",
        "> ***i. Fit a logistic regression model using all but the ith observation to predict `Direction` using `Lag1` and `Lag2`.***\n",
        "\n",
        "> ***ii. Compute the posterior probability of the market moving up for the ith observation.***\n",
        "\n",
        "> ***iii. Use the posterior probability for the ith observation in order to predict whether or not the market moves up.***\n",
        "\n",
        "> ***iv. Determine whether or not an error was made in predicting the direction for the ith observation. If an error was made, then indicate this as a 1, and otherwise indicate it as a 0.***"
      ],
      "metadata": {
        "id": "QT4GH3tbjuf_"
      }
    },
    {
      "cell_type": "code",
      "source": [
        "results <- logical(length=nrow(d))\n",
        "\n",
        "for(i in 1:nrow(d)){\n",
        "  d_train <- d[-i,]\n",
        "  d_test <- d[i,]\n",
        "\n",
        "  mi <- glm(Direction ~ Lag1 + Lag2,\n",
        "            family=binomial(link=\"logit\"),\n",
        "            data=d_train)\n",
        "\n",
        "  mi_predict <- predict(mi, newdata=d_test, type=\"response\")\n",
        "  results[i] <- ifelse(mi_predict >= 0.5, \"Up\", \"Down\") == d[i,\"Direction\"]\n",
        "}"
      ],
      "metadata": {
        "id": "Wy-4cSQ6j-w1"
      },
      "execution_count": null,
      "outputs": []
    },
    {
      "cell_type": "markdown",
      "source": [
        "##### Answer to Question 7, e\n",
        "***Take the average of the $n$ numbers obtained in (d)iv in order to obtain the LOOCV estimate for the test error. Comment on the results.***"
      ],
      "metadata": {
        "id": "DhgpXw0BlBUJ"
      }
    },
    {
      "cell_type": "code",
      "source": [
        "head(results)\n",
        "(test_err <- 1 - sum(results) / length(results))"
      ],
      "metadata": {
        "colab": {
          "base_uri": "https://localhost:8080/",
          "height": 52
        },
        "id": "C0JPMZdFk8UP",
        "outputId": "ee901256-7fe8-45c7-b13d-777e54b2fd6a"
      },
      "execution_count": null,
      "outputs": [
        {
          "output_type": "display_data",
          "data": {
            "text/html": [
              "<style>\n",
              ".list-inline {list-style: none; margin:0; padding: 0}\n",
              ".list-inline>li {display: inline-block}\n",
              ".list-inline>li:not(:last-child)::after {content: \"\\00b7\"; padding: 0 .5ex}\n",
              "</style>\n",
              "<ol class=list-inline><li>FALSE</li><li>FALSE</li><li>TRUE</li><li>FALSE</li><li>TRUE</li><li>FALSE</li></ol>\n"
            ],
            "text/markdown": "1. FALSE\n2. FALSE\n3. TRUE\n4. FALSE\n5. TRUE\n6. FALSE\n\n\n",
            "text/latex": "\\begin{enumerate*}\n\\item FALSE\n\\item FALSE\n\\item TRUE\n\\item FALSE\n\\item TRUE\n\\item FALSE\n\\end{enumerate*}\n",
            "text/plain": [
              "[1] FALSE FALSE  TRUE FALSE  TRUE FALSE"
            ]
          },
          "metadata": {}
        },
        {
          "output_type": "display_data",
          "data": {
            "text/html": [
              "0.449954086317723"
            ],
            "text/markdown": "0.449954086317723",
            "text/latex": "0.449954086317723",
            "text/plain": [
              "[1] 0.4499541"
            ]
          },
          "metadata": {}
        }
      ]
    },
    {
      "cell_type": "markdown",
      "source": [
        "So the error rate $\\approx 45\\%$, slightly better than random guessing."
      ],
      "metadata": {
        "id": "NvKiwoJrmPln"
      }
    },
    {
      "cell_type": "markdown",
      "source": [
        "### Question 8\n",
        "\n",
        "We will now perform cross-validation on a simulated data set.\n",
        "\n",
        "> (a) Generate a simulated data set as follows:\n",
        "\n",
        "> ```\n",
        "set.seed(1)\n",
        "x <- rnorm (100)\n",
        "y <- x - 2 * x^2 + rnorm (100)\n",
        "```\n",
        "\n",
        "> In this data set, what is `n` and what is `p`? Write out the model used to generate the data in equation form.\n",
        "\n",
        "> (b) Create a scatterplot of $X$ against $Y$. Comment on what you find.\n",
        "\n",
        "> (c) Set a random seed, and then compute the LOOCV errors that result from fitting the following four models using least squares:\n",
        "\n",
        "> > i. $Y = β_0 + β_1 X + ϵ$\n",
        "\n",
        "> > ii. $Y = β_0 + β_1 X + β_2 X_2 + ϵ$\n",
        "\n",
        "> > iii. $Y = β_0 + β_1 X + β_2 X_2 + β_3 X_3 + ϵ$\n",
        "\n",
        "> > iv. $Y = β_0 + β_1 X + β_2 X_2 + β_3 X_3 + β_4 X_4 + ϵ$\n",
        "\n",
        "> Note you may find it helpful to use the `data.frame()` function to create a single data set containing both $X$ and $Y$ .\n",
        "\n",
        "> (d) Repeat (c) using another random seed, and report your results. Are your results the same as what you got in (c)? Why?\n",
        "\n",
        "> (e) Which of the models in (c) had the smallest LOOCV error? Is this what you expected? Explain your answer.\n",
        "\n",
        "> (f) Comment on the statistical significance of the coefficient estimates that results from fitting each of the models in (c) using least squares. Do these results agree with"
      ],
      "metadata": {
        "id": "66h9_-rc_Zhw"
      }
    }
  ]
}