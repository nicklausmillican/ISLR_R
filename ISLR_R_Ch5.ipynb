{
  "nbformat": 4,
  "nbformat_minor": 0,
  "metadata": {
    "colab": {
      "provenance": [],
      "toc_visible": true,
      "authorship_tag": "ABX9TyMrpe6ZE2ZaJEkpd6Fh84v0",
      "include_colab_link": true
    },
    "kernelspec": {
      "name": "ir",
      "display_name": "R"
    },
    "language_info": {
      "name": "R"
    }
  },
  "cells": [
    {
      "cell_type": "markdown",
      "metadata": {
        "id": "view-in-github",
        "colab_type": "text"
      },
      "source": [
        "<a href=\"https://colab.research.google.com/github/nicklausmillican/ISLR_R/blob/main/ISLR_R_Ch5.ipynb\" target=\"_parent\"><img src=\"https://colab.research.google.com/assets/colab-badge.svg\" alt=\"Open In Colab\"/></a>"
      ]
    },
    {
      "cell_type": "markdown",
      "source": [
        "# Chapter 5"
      ],
      "metadata": {
        "id": "v06IlZa-LQKM"
      }
    },
    {
      "cell_type": "markdown",
      "source": [
        "## Conceptual"
      ],
      "metadata": {
        "id": "VaDsnW3QCYIz"
      }
    },
    {
      "cell_type": "markdown",
      "source": [
        "### Question 1\n",
        "Using basic statistical properties of the variance, as well as single-variable calculus, derive (5.6):\n",
        "\n",
        "$$\\alpha = \\frac{\\sigma^2_Y - \\sigma_{XY}}{\\sigma^2_X + \\sigma^2_Y - 2\\sigma_{XY}}$$\n",
        "\n",
        "In other words, prove that $α$ given by (5.6) does indeed minimize $\\text{Var}(αX + (1 − α)Y)$.\n",
        "\n",
        "#### Answer\n",
        "For context, this example is used in section 5.2: we are investing some proportion of our money, $\\alpha$, into investment with expected return $X$ and the rest of our money, $1 - \\alpha$ into investment with expected return $Y$--so we are investing like $\\alpha X + (1-\\alpha)Y$; we wish to minimize our risk, which is to say *minimize the variance* of our return.\n",
        "\n",
        "To this, we need a expression for the variance of our return.  For this, we'll need to use 3 rules:\n",
        "\n",
        "1. $\\text{Var}(X + Y) = \\text{Var}(X) + \\text{Var}(Y) + 2\\text{Cov}(X,Y)$\n",
        "2. $\\text{Var}(aX) = a^2Var(X)$\n",
        "3. $\\text{Cov}(aX, bY) = ab\\text{Cov}(X, Y)$\n",
        "\n",
        "$$\n",
        "\\begin{aligned}\n",
        "\\text{Var}(\\alpha X + (1-\\alpha)Y)\n",
        "&= \\text{Var}(\\alpha X) + \\text{Var}((1-\\alpha)Y) + 2\\text{Cov}(\\alpha X, (1-\\alpha)Y) \\\\\n",
        "&= \\alpha^2 \\text{Var}(X) + (1-\\alpha)^2\\text{Var}(Y) + 2(\\alpha \\times (1-\\alpha))\\text{Cov}(X,Y) \\\\\n",
        "&= \\alpha^2 \\sigma^2_X + (1 - 2\\alpha + \\alpha^2) \\sigma^2_Y + 2(\\alpha - \\alpha^2)\\sigma_{XY} \\\\\n",
        "&= \\alpha^2\\sigma^2_X + \\sigma^2_Y - 2\\alpha\\sigma^2_Y + \\alpha^2\\sigma^2_Y +\n",
        "     2\\alpha\\sigma_{XY} - 2\\alpha^2\\sigma_{XY}\n",
        "\\end{aligned}\n",
        "$$\n",
        "\n",
        "Next, we need to find the derivative of this expression with respect to $\\alpha$, set it equal to zero (checking to make sure that the 0-point represents a minimum), and solve for $\\alpha$.\n",
        "\n",
        "$$\n",
        "\\begin{aligned}\n",
        "\\frac{d}{d\\alpha}[\\alpha^2\\sigma^2_X + \\sigma^2_Y - 2\\alpha\\sigma^2_Y + \\alpha^2\\sigma^2_Y +\n",
        "     2\\alpha\\sigma_{XY} - 2\\alpha^2\\sigma_{XY}] \\\\\n",
        "     &= 2\\alpha \\sigma^2_X - 2\\sigma^2_Y + 2\\alpha\\sigma^2_Y + 2\\sigma_{XY} - 4\\alpha\\sigma_{XY} \\\\\n",
        "     &= \\alpha \\sigma^2_X - \\sigma^2_Y + \\alpha\\sigma^2_Y + \\sigma_{XY} - 2\\alpha\\sigma_{XY} \\overset{set}= 0\\\n",
        "\\end{aligned}$$\n",
        "\n",
        "Separating the $\\alpha$ terms and then solving for $\\alpha$,\n",
        "\n",
        "$$\n",
        "\\begin{aligned}\n",
        "& \\alpha \\sigma^2_X + \\alpha\\sigma^2_Y - 2\\alpha\\sigma_{XY} = \\sigma^2_Y - \\sigma_{XY} \\\\\n",
        "&= \\alpha(\\sigma^2_X + \\sigma^2_Y - 2\\sigma_{XY}) \\\\\n",
        "&\\rightarrow \\alpha = \\frac{\\sigma^2_Y - \\sigma_{XY}}{\\sigma^2_X + \\sigma^2_Y - 2\\sigma_{XY}}\n",
        "\\end{aligned}\n",
        "$$\n",
        "\n",
        "Finally, let us check that we've found a minimum by applying the second derivative.\n",
        "\n",
        "$$\n",
        "\\begin{aligned}\n",
        "& \\frac{d^2}{d\\alpha^2}[\\alpha^2\\sigma^2_X + \\sigma^2_Y - 2\\alpha\\sigma^2_Y + \\alpha^2\\sigma^2_Y + 2\\alpha\\sigma_{XY} - 2\\alpha^2\\sigma_{XY}] \\\\\n",
        "     &= \\frac{d}{d\\alpha}[\\alpha \\sigma^2_X - \\sigma^2_Y + \\alpha\\sigma^2_Y + \\sigma_{XY} - 2\\alpha\\sigma_{XY}] \\\\\n",
        "     &= \\sigma^2_X + \\sigma^2_Y - 2\\sigma_{XY} \\\\\n",
        "     &= \\text{Var}(X,Y) \\\\\n",
        "\\end{aligned}$$\n",
        "\n",
        "Since variance is always $\\ge$ 0, the second derivative is positive, which means that we have found a minimum."
      ],
      "metadata": {
        "id": "jDnvvJi7CcJz"
      }
    },
    {
      "cell_type": "markdown",
      "source": [
        "### Question 2\n",
        "We will now derive the probability that a given observation is part of a bootstrap sample. Suppose that we obtain a bootstrap sample from a set of $n$ observations.\n",
        "\n",
        "> (a) What is the probability that the first bootstrap observation is not the $j^{th}$ observation from the original sample? Justify your answer.\n",
        "\n",
        "> (b) What is the probability that the second bootstrap observation is not the $j^{th}$ observation from the original sample?\n",
        "\n",
        "> (c) Argue that the probability that the $j^{th}$ observation is not in the bootstrap sample is $(1 − 1/n)^n$.\n",
        "\n",
        "> (d) When $n = 5$, what is the probability that the $j^{th}$ observation is in the bootstrap sample?\n",
        "\n",
        "> (e) When $n = 100$, what is the probability that the $j^{th}$ observation is in the bootstrap sample?\n",
        "\n",
        "> (f) When $n = 10, 000$, what is the probability that the $j^{th}$ observation is in the bootstrap sample?\n",
        "\n",
        "> (g) Create a plot that displays, for each integer value of $n$ from $1$ to $100,000$, the probability that the $j^th$ observation is in the bootstrap sample. Comment on what you observe.\n",
        "\n",
        "> (h) We will now investigate numerically the probability that a bootstrap sample of size $n = 100$ contains the $j^{th}$ observation. Here $j = 4$. We repeatedly create bootstrap samples, and each time we record whether or not the fourth observation is contained in the bootstrap sample.\n",
        "\n",
        ">> ```\n",
        "> store <- rep (NA, 10000)\n",
        "for (i in 1:10000){\n",
        "  store[i] <- sum (sample (1:100, rep =TRUE) == 4) > 0\n",
        "  }\n",
        "> mean (store)\n",
        "```\n",
        "\n",
        "> Comment on the results obtained."
      ],
      "metadata": {
        "id": "q5e9CPp_aCHp"
      }
    },
    {
      "cell_type": "markdown",
      "source": [
        "#### Answer to Question 2 a\n",
        "***What is the probability that the first bootstrap observation is not the $j^{th}$ observation from the original sample? Justify your answer.***\n",
        "\n",
        "With $n$ observations, the probability that any single bootstrap draw will be the $j^{th}$ observation is $\\frac{1}{n}$.  Hence, the probability that any single bootstrap draw will NOT be the $j^{th}$ observation is $1 - \\frac{1}{n}$."
      ],
      "metadata": {
        "id": "H4dZt-jzdbFy"
      }
    },
    {
      "cell_type": "markdown",
      "source": [
        "#### Answer to Question 2 b\n",
        "***What is the probability that the second bootstrap observation is not the $j^{th}$ observation from the original sample?***\n",
        "\n",
        "The answer here is the same as for part a, $1 - \\frac{1}{n}$.  One might be tempted to try to account for the first bootstrap sample, but bootstrapping replaces each draw before the next draw; hence, each bootstrap draw is independent of all other draws."
      ],
      "metadata": {
        "id": "bAkKFqu6eagj"
      }
    },
    {
      "cell_type": "markdown",
      "source": [
        "#### Answer to Question 2 c\n",
        "***Argue that the probability that the $j^{th}$ observation is not in the bootstrap sample is $(1 − 1/n)^n$.***\n",
        "\n",
        "As we've established, the probability that observation $j$ is not drawn on any single bootstrap draw is $1 - \\frac{1}{n}$.  So if we draw $n$ times, we need to multiple this probability $n$ times.  Hence, we get that the probability that no draw for a bootstrap sample was for the $j^{th}$ observation is $(1 - \\frac{1}{n})^n$."
      ],
      "metadata": {
        "id": "tIjNlnqze91r"
      }
    },
    {
      "cell_type": "markdown",
      "source": [
        "#### Answer to Question 2 d-f\n",
        "***When $n = 5, 100, 10,000$, what is the probability that the $j^{th}$ observation is in the bootstrap sample?***\n",
        "\n",
        "For any value $n$, since the probability of observation $j$ NOT being contained in a bootstrap sample of size $n$ is $(1 - \\frac{1}{n})^n$, the probability of *being* in the sample is the complement of this: $1 - (1 - \\frac{1}{n})^n$.\n",
        "\n",
        "|n|p|\n",
        "|-|-|\n",
        "|5|67.23%|\n",
        "|100|63.40%|\n",
        "10,000|63.21%|"
      ],
      "metadata": {
        "id": "mb6lyX0Kfq3W"
      }
    },
    {
      "cell_type": "code",
      "source": [
        "n <- c(5, 100, 10000)\n",
        "(p_any <- round(1-(1 - 1/n)^n, 4))"
      ],
      "metadata": {
        "colab": {
          "base_uri": "https://localhost:8080/",
          "height": 34
        },
        "id": "bPxm5JDdgvJp",
        "outputId": "1bf585aa-c486-4b33-d31c-b75260985215"
      },
      "execution_count": null,
      "outputs": [
        {
          "output_type": "display_data",
          "data": {
            "text/html": [
              "<style>\n",
              ".list-inline {list-style: none; margin:0; padding: 0}\n",
              ".list-inline>li {display: inline-block}\n",
              ".list-inline>li:not(:last-child)::after {content: \"\\00b7\"; padding: 0 .5ex}\n",
              "</style>\n",
              "<ol class=list-inline><li>0.6723</li><li>0.634</li><li>0.6321</li></ol>\n"
            ],
            "text/markdown": "1. 0.6723\n2. 0.634\n3. 0.6321\n\n\n",
            "text/latex": "\\begin{enumerate*}\n\\item 0.6723\n\\item 0.634\n\\item 0.6321\n\\end{enumerate*}\n",
            "text/plain": [
              "[1] 0.6723 0.6340 0.6321"
            ]
          },
          "metadata": {}
        }
      ]
    },
    {
      "cell_type": "markdown",
      "source": [
        "So that answers the prbability of observation $j$ being contained in our bootstrap sample *at all*.  We could similarly ask ***for $k \\in [1,n]$, what is the probability that the $j^{th}$ observation is drawn $k$ times?***\n",
        "\n",
        "For any draw, the probability of observation $j$ being drawn is distributed as a Bernoulli random variable, $j \\sim \\text{Bernoulli}(\\frac{1}{n})$.  With $n$ draws, the distribution for drawing $j$ $k$ times is binomial like $X_j \\sim \\text{Binomial}(n, \\frac{1}{n})$.\n",
        "\n",
        "Now, the probability of drawing $j$ $k$ times is\n",
        "$$p(X=k) = \\frac{n!}{k!(n-k)!} \\left(\\frac{1}{n}\\right)^k \\left(1 - \\frac{1}{n} \\right)^{n-k}$$\n",
        "\n",
        "Let's plot what this looks like for $n=10$."
      ],
      "metadata": {
        "id": "_20xFfFeh6V7"
      }
    },
    {
      "cell_type": "code",
      "source": [
        "n <- 10\n",
        "X <- 0:n\n",
        "\n",
        "p_k <- data.frame(\"k\" = X,\n",
        "                  \"p\" = dbinom(x=X, size=n, prob=1/n))\n",
        "\n",
        "plot(p ~ k, data=p_k, type=\"h\")"
      ],
      "metadata": {
        "colab": {
          "base_uri": "https://localhost:8080/",
          "height": 437
        },
        "id": "azHQzMGNi79o",
        "outputId": "1f5a9163-e5a0-4e6f-b65f-cde1db86e5e4"
      },
      "execution_count": null,
      "outputs": [
        {
          "output_type": "display_data",
          "data": {
            "text/plain": [
              "plot without title"
            ],
            "image/png": "[encoded data removed]"
          },
          "metadata": {
            "image/png": {
              "width": 420,
              "height": 420
            }
          }
        }
      ]
    },
    {
      "cell_type": "code",
      "source": [
        "p_k"
      ],
      "metadata": {
        "colab": {
          "base_uri": "https://localhost:8080/",
          "height": 443
        },
        "id": "mnPcy4XLFdIW",
        "outputId": "d47d902d-8633-439a-a06f-5070b1275872"
      },
      "execution_count": null,
      "outputs": [
        {
          "output_type": "display_data",
          "data": {
            "text/html": [
              "<table class=\"dataframe\">\n",
              "<caption>A data.frame: 11 × 2</caption>\n",
              "<thead>\n",
              "\t<tr><th scope=col>k</th><th scope=col>p</th></tr>\n",
              "\t<tr><th scope=col>&lt;int&gt;</th><th scope=col>&lt;dbl&gt;</th></tr>\n",
              "</thead>\n",
              "<tbody>\n",
              "\t<tr><td> 0</td><td>0.3486784401</td></tr>\n",
              "\t<tr><td> 1</td><td>0.3874204890</td></tr>\n",
              "\t<tr><td> 2</td><td>0.1937102445</td></tr>\n",
              "\t<tr><td> 3</td><td>0.0573956280</td></tr>\n",
              "\t<tr><td> 4</td><td>0.0111602610</td></tr>\n",
              "\t<tr><td> 5</td><td>0.0014880348</td></tr>\n",
              "\t<tr><td> 6</td><td>0.0001377810</td></tr>\n",
              "\t<tr><td> 7</td><td>0.0000087480</td></tr>\n",
              "\t<tr><td> 8</td><td>0.0000003645</td></tr>\n",
              "\t<tr><td> 9</td><td>0.0000000090</td></tr>\n",
              "\t<tr><td>10</td><td>0.0000000001</td></tr>\n",
              "</tbody>\n",
              "</table>\n"
            ],
            "text/markdown": "\nA data.frame: 11 × 2\n\n| k &lt;int&gt; | p &lt;dbl&gt; |\n|---|---|\n|  0 | 0.3486784401 |\n|  1 | 0.3874204890 |\n|  2 | 0.1937102445 |\n|  3 | 0.0573956280 |\n|  4 | 0.0111602610 |\n|  5 | 0.0014880348 |\n|  6 | 0.0001377810 |\n|  7 | 0.0000087480 |\n|  8 | 0.0000003645 |\n|  9 | 0.0000000090 |\n| 10 | 0.0000000001 |\n\n",
            "text/latex": "A data.frame: 11 × 2\n\\begin{tabular}{ll}\n k & p\\\\\n <int> & <dbl>\\\\\n\\hline\n\t  0 & 0.3486784401\\\\\n\t  1 & 0.3874204890\\\\\n\t  2 & 0.1937102445\\\\\n\t  3 & 0.0573956280\\\\\n\t  4 & 0.0111602610\\\\\n\t  5 & 0.0014880348\\\\\n\t  6 & 0.0001377810\\\\\n\t  7 & 0.0000087480\\\\\n\t  8 & 0.0000003645\\\\\n\t  9 & 0.0000000090\\\\\n\t 10 & 0.0000000001\\\\\n\\end{tabular}\n",
            "text/plain": [
              "   k  p           \n",
              "1   0 0.3486784401\n",
              "2   1 0.3874204890\n",
              "3   2 0.1937102445\n",
              "4   3 0.0573956280\n",
              "5   4 0.0111602610\n",
              "6   5 0.0014880348\n",
              "7   6 0.0001377810\n",
              "8   7 0.0000087480\n",
              "9   8 0.0000003645\n",
              "10  9 0.0000000090\n",
              "11 10 0.0000000001"
            ]
          },
          "metadata": {}
        }
      ]
    },
    {
      "cell_type": "markdown",
      "source": [
        "We can go further, asking ***What is the expected number of times we draw observation $j$ in a bootstrap sample of size $n$ ($E[X]$)?  What is the variance $V[X]$)?***\n",
        "\n",
        "$$E[X] = np = n \\frac{1}{n} = 1$$\n",
        "$$V[X] = np(1-p) = n \\frac{1}{n} \\left(1 - \\frac{1}{n} \\right) = 1\\left(1 - \\frac{1}{n} \\right) = \\left(1 - \\frac{1}{n} \\right)$$\n",
        "\n",
        "So if $n=10$, $E[X] = 1$ and $V[X] = \\frac{9}{10}$."
      ],
      "metadata": {
        "id": "FkRC9scxnhhQ"
      }
    },
    {
      "cell_type": "markdown",
      "source": [
        "#### Answer to Question 2 g\n",
        "***Create a plot that displays, for each integer value of  $n$  from  1  to  100,000, the probability that the $j^{th}$  observation is in the bootstrap sample. Comment on what you observe.***"
      ],
      "metadata": {
        "id": "xKW9f1Y-o-7r"
      }
    },
    {
      "cell_type": "code",
      "source": [
        "n <- 1:100000\n",
        "p_any <- 1-(1 - 1/n)^n\n",
        "\n",
        "plot(p_any ~ n, type=\"o\", ylim=c(0,1)); abline(h=0.63, col=\"pink\")\n",
        "plot(p_any ~ log(n), type=\"o\", ylim=c(0,1)); abline(h=0.63, col=\"pink\")"
      ],
      "metadata": {
        "colab": {
          "base_uri": "https://localhost:8080/",
          "height": 857
        },
        "id": "fl-1vkYgpKRG",
        "outputId": "46f728db-7727-43e6-986e-a30ad039fa27"
      },
      "execution_count": null,
      "outputs": [
        {
          "output_type": "display_data",
          "data": {
            "text/plain": [
              "plot without title"
            ],
            "image/png": "[encoded data removed]"
          },
          "metadata": {
            "image/png": {
              "width": 420,
              "height": 420
            }
          }
        },
        {
          "output_type": "display_data",
          "data": {
            "text/plain": [
              "plot without title"
            ],
            "image/png": "[encoded data removed]"
          },
          "metadata": {
            "image/png": {
              "width": 420,
              "height": 420
            }
          }
        }
      ]
    },
    {
      "cell_type": "markdown",
      "source": [
        "The graph looks cleaner when we set the x-axis to the log scale.  As $n$ increases, $p$ asymtotes at $p=0.63$.\n",
        "\n",
        "This makes sense because\n",
        "$$\\text{lim}_{n → ∞} \\left(1 - \\frac{1}{n} \\right)^n = \\frac{1}{e}$$\n",
        "such that\n",
        "$$\\text{lim}_{n → ∞} \\ 1 - \\left(1 - \\frac{1}{n} \\right)^n = 1 - \\frac{1}{e} \\approx 1 - \\frac{1}{2.71} = 1 - 0.37 = 0.63$$"
      ],
      "metadata": {
        "id": "HKEbGId0qbZc"
      }
    },
    {
      "cell_type": "markdown",
      "source": [
        "#### Answer to Question 2 h\n",
        "***We will now investigate numerically the probability that a bootstrap sample of size $n = 100$ contains the $j^{th}$ observation. Here $j = 4$. We repeatedly create bootstrap samples, and each time we record whether or not the fourth observation is contained in the bootstrap sample.***\n",
        "\n",
        "> ```\n",
        "> store <- rep (NA, 10000)\n",
        "for (i in 1:10000){\n",
        "  store[i] <- sum (sample (1:100, rep =TRUE) == 4) > 0\n",
        "  }\n",
        "> mean (store)`\n",
        "```\n",
        "\n",
        "***Comment on the results obtained.***"
      ],
      "metadata": {
        "id": "5XOza5mesfhm"
      }
    },
    {
      "cell_type": "code",
      "source": [
        "store <- rep (NA, 10000)\n",
        "for (i in 1:10000){\n",
        "  store[i] <- sum (sample (1:100, rep =TRUE) == 4) > 0\n",
        "  }\n",
        "mean(store)"
      ],
      "metadata": {
        "colab": {
          "base_uri": "https://localhost:8080/",
          "height": 34
        },
        "id": "j7lYYC4BtGIT",
        "outputId": "e6f20924-b84c-4a39-b5c4-b2a7fc86f41f"
      },
      "execution_count": null,
      "outputs": [
        {
          "output_type": "display_data",
          "data": {
            "text/html": [
              "0.6299"
            ],
            "text/markdown": "0.6299",
            "text/latex": "0.6299",
            "text/plain": [
              "[1] 0.6299"
            ]
          },
          "metadata": {}
        }
      ]
    },
    {
      "cell_type": "markdown",
      "source": [
        "The $j=4$ observation is included ~ 63% of the time; the theoretical limit we derived in part g."
      ],
      "metadata": {
        "id": "IqDNHm2pytG2"
      }
    },
    {
      "cell_type": "markdown",
      "source": [
        "### Question 3\n",
        "We now review k-fold cross-validation.\n",
        "\n",
        "> (a) Explain how k-fold cross-validation is implemented.\n",
        "\n",
        "> (b) What are the advantages and disadvantages of k-fold crossvalidation relative to:\n",
        "\n",
        "> > i. The validation set approach?\n",
        "\n",
        "> > ii. LOOCV?"
      ],
      "metadata": {
        "id": "crNrDg8nVfI0"
      }
    },
    {
      "cell_type": "markdown",
      "source": [
        "##### Answer to Question 3, a\n",
        "***Explain how k-fold cross-validation is implemented.***\n",
        "\n",
        "1. Data $D$ is divided into $k$ subsets $d$.\n",
        "2. For each data subset $d_i$, the model is trained on $d_{-i}$ (excluding $d_i$).\n",
        "3. The parameters estimated from $d_{-i}$, $p_{-i}$, are applied to $d_i$, where the outcome variable in $d_i$, $y_i$, is predicted by applying $p_{-i}$ to the predictor variables of $d_i$, $x_i$.  The error in the resulting predictions is measured and recorded.\n",
        "4. Models can be compared by comparing their respective error rates across $k$ subsets."
      ],
      "metadata": {
        "id": "t3FZ_AgwVzQ9"
      }
    },
    {
      "cell_type": "markdown",
      "source": [
        "##### Answer to Question 3, b\n",
        "***What are the advantages and disadvantages of k-fold cross-validation relative to:***\n",
        "> ***i. The validation set approach?***\n",
        "\n",
        "> ***ii. LOOCV***\n",
        "\n",
        "| Approach          | Advantages Compared to k-fold CV                                   | Disadvantages Compared to k-fold CV                      |\n",
        "|-------------------|---------------------------------------------------------------------|----------------------------------------------------------|\n",
        "| **Validation Set**| - Simpler and faster to implement                                   | - Higher variance due to reliance on a single split      |\n",
        "|                   | - Computationally inexpensive                                       | - Inefficient data utilization, leading to less stable results |\n",
        "|                   |                                                                     | - Higher bias and overfitting risk                       |\n",
        "|                   |                                                                     | - Less reliable for parameter tuning                     |\n",
        "| **LOOCV**         | - Uses almost all data for training, low bias                       | - Computationally intensive, especially for large datasets|\n",
        "|                   | - More stable results as each instance is used for testing once     | - High variance due to single test on each data point    |\n",
        "|                   | - Lower overfitting risk (less bias)                                            | - Not ideal for parameter tuning due to high variance    |\n"
      ],
      "metadata": {
        "id": "8FygAcQ5YvPR"
      }
    },
    {
      "cell_type": "markdown",
      "source": [
        "### Question 4\n",
        "Suppose that we use some statistical learning method to make a prediction for the response $Y$ for a particular value of the predictor $X$. Carefully describe how we might estimate the standard deviation of our prediction."
      ],
      "metadata": {
        "id": "3gdUn3v1cUbR"
      }
    },
    {
      "cell_type": "markdown",
      "source": [
        "#### Answer to Question 4\n",
        "This answer will depend on the statistical-learning method.  For instance, regression comes with analytical formulas that allow us to estimate the standard deviation of predictions.  But since this chapter is about resampling methods, we should address that. The process would look like:\n",
        "\n",
        "1. Identify the statistical learning method.\n",
        "2. Sample the data using one of the methods discussed in the chapter.  Feed the sampled data to the model and record the resulting predictions.\n",
        "3. Repeat step 2 $m$ times.\n",
        "4. Calculate the standard deviation across predictions."
      ],
      "metadata": {
        "id": "OlM4WTBacbvT"
      }
    },
    {
      "cell_type": "markdown",
      "source": [
        "## Applied"
      ],
      "metadata": {
        "id": "uqTQ-GhktvOO"
      }
    },
    {
      "cell_type": "markdown",
      "source": [
        "### Question 5\n",
        "In Chapter 4, we used logistic regression to predict the probability of `default` using `income` and `balance` on the `Default` data set. We will now estimate the test error of this logistic regression model using the validation set approach. Do not forget to set a random seed before beginning your analysis.\n",
        "\n",
        "> (a) Fit a logistic regression model that uses `income` and `balance` to predict `default`.\n",
        "\n",
        "> (b) Using the validation set approach, estimate the test error of this model. In order to do this, you must perform the following steps:\n",
        "\n",
        "> > i. Split the sample set into a training set and a validation set.\n",
        "\n",
        "> > ii. Fit a multiple logistic regression model using only the training observations.\n",
        "\n",
        "> > iii. Obtain a prediction of default status for each individual in the validation set by computing the posterior probability of default for that individual, and classifying the individual to the `default` category if the posterior probability is greater than 0.5.\n",
        "\n",
        "> > iv. Compute the validation set error, which is the fraction of the observations in the validation set that are misclassified.\n",
        "\n",
        "> (c) Repeat the process in (b) three times, using three different splits of the observations into a training set and a validation set. Comment on the results obtained.\n",
        "\n",
        "> (d) Now consider a logistic regression model that predicts the probability of `default` using `income`, `balance`, and a dummy variable for `student`. Estimate the test error for this model using the validation set approach. Comment on whether or not including a dummy variable for `student` leads to a reduction in the test error rate."
      ],
      "metadata": {
        "id": "3k_nkLYOtxTf"
      }
    },
    {
      "cell_type": "markdown",
      "source": [
        "#### Answers\n",
        "Loading the data."
      ],
      "metadata": {
        "id": "u-kHaawM6Jhp"
      }
    },
    {
      "cell_type": "code",
      "source": [
        "install.packages(\"ISLR2\")\n",
        "library(ISLR2)"
      ],
      "metadata": {
        "colab": {
          "base_uri": "https://localhost:8080/"
        },
        "id": "vkovsFY86T_8",
        "outputId": "7b01c9cd-b257-4ad9-d7bc-b4c2483d368c"
      },
      "execution_count": null,
      "outputs": [
        {
          "output_type": "stream",
          "name": "stderr",
          "text": [
            "Installing package into ‘/usr/local/lib/R/site-library’\n",
            "(as ‘lib’ is unspecified)\n",
            "\n"
          ]
        }
      ]
    },
    {
      "cell_type": "code",
      "source": [
        "data(Default)\n",
        "d <- Default\n",
        "head(d)"
      ],
      "metadata": {
        "colab": {
          "base_uri": "https://localhost:8080/",
          "height": 286
        },
        "id": "oKA0a0Zt6ax6",
        "outputId": "e510db16-3466-4984-dd83-a4d782fed3e1"
      },
      "execution_count": null,
      "outputs": [
        {
          "output_type": "display_data",
          "data": {
            "text/html": [
              "<table class=\"dataframe\">\n",
              "<caption>A data.frame: 6 × 4</caption>\n",
              "<thead>\n",
              "\t<tr><th></th><th scope=col>default</th><th scope=col>student</th><th scope=col>balance</th><th scope=col>income</th></tr>\n",
              "\t<tr><th></th><th scope=col>&lt;fct&gt;</th><th scope=col>&lt;fct&gt;</th><th scope=col>&lt;dbl&gt;</th><th scope=col>&lt;dbl&gt;</th></tr>\n",
              "</thead>\n",
              "<tbody>\n",
              "\t<tr><th scope=row>1</th><td>No</td><td>No </td><td> 729.5265</td><td>44361.625</td></tr>\n",
              "\t<tr><th scope=row>2</th><td>No</td><td>Yes</td><td> 817.1804</td><td>12106.135</td></tr>\n",
              "\t<tr><th scope=row>3</th><td>No</td><td>No </td><td>1073.5492</td><td>31767.139</td></tr>\n",
              "\t<tr><th scope=row>4</th><td>No</td><td>No </td><td> 529.2506</td><td>35704.494</td></tr>\n",
              "\t<tr><th scope=row>5</th><td>No</td><td>No </td><td> 785.6559</td><td>38463.496</td></tr>\n",
              "\t<tr><th scope=row>6</th><td>No</td><td>Yes</td><td> 919.5885</td><td> 7491.559</td></tr>\n",
              "</tbody>\n",
              "</table>\n"
            ],
            "text/markdown": "\nA data.frame: 6 × 4\n\n| <!--/--> | default &lt;fct&gt; | student &lt;fct&gt; | balance &lt;dbl&gt; | income &lt;dbl&gt; |\n|---|---|---|---|---|\n| 1 | No | No  |  729.5265 | 44361.625 |\n| 2 | No | Yes |  817.1804 | 12106.135 |\n| 3 | No | No  | 1073.5492 | 31767.139 |\n| 4 | No | No  |  529.2506 | 35704.494 |\n| 5 | No | No  |  785.6559 | 38463.496 |\n| 6 | No | Yes |  919.5885 |  7491.559 |\n\n",
            "text/latex": "A data.frame: 6 × 4\n\\begin{tabular}{r|llll}\n  & default & student & balance & income\\\\\n  & <fct> & <fct> & <dbl> & <dbl>\\\\\n\\hline\n\t1 & No & No  &  729.5265 & 44361.625\\\\\n\t2 & No & Yes &  817.1804 & 12106.135\\\\\n\t3 & No & No  & 1073.5492 & 31767.139\\\\\n\t4 & No & No  &  529.2506 & 35704.494\\\\\n\t5 & No & No  &  785.6559 & 38463.496\\\\\n\t6 & No & Yes &  919.5885 &  7491.559\\\\\n\\end{tabular}\n",
            "text/plain": [
              "  default student balance   income   \n",
              "1 No      No       729.5265 44361.625\n",
              "2 No      Yes      817.1804 12106.135\n",
              "3 No      No      1073.5492 31767.139\n",
              "4 No      No       529.2506 35704.494\n",
              "5 No      No       785.6559 38463.496\n",
              "6 No      Yes      919.5885  7491.559"
            ]
          },
          "metadata": {}
        }
      ]
    },
    {
      "cell_type": "markdown",
      "source": [
        "##### Answer to Question 5, a\n",
        "***Fit a logistic regression model that uses `income` and `balance` to predict `default`.***"
      ],
      "metadata": {
        "id": "OykTs5zL61L6"
      }
    },
    {
      "cell_type": "code",
      "source": [
        "m_logis <- glm(default ~ income*balance,\n",
        "               family=binomial(link=\"logit\"),\n",
        "               data=d)\n",
        "summary(m_logis)"
      ],
      "metadata": {
        "colab": {
          "base_uri": "https://localhost:8080/",
          "height": 401
        },
        "id": "aPiR3iqv68Bl",
        "outputId": "465a31ca-b686-40cb-ec63-e5c083b38ff3"
      },
      "execution_count": null,
      "outputs": [
        {
          "output_type": "display_data",
          "data": {
            "text/plain": [
              "\n",
              "Call:\n",
              "glm(formula = default ~ income * balance, family = binomial(link = \"logit\"), \n",
              "    data = d)\n",
              "\n",
              "Coefficients:\n",
              "                 Estimate Std. Error z value Pr(>|z|)    \n",
              "(Intercept)    -1.092e+01  9.489e-01 -11.504   <2e-16 ***\n",
              "income          1.600e-06  2.683e-05   0.060    0.952    \n",
              "balance         5.265e-03  5.648e-04   9.323   <2e-16 ***\n",
              "income:balance  1.193e-08  1.638e-08   0.728    0.466    \n",
              "---\n",
              "Signif. codes:  0 ‘***’ 0.001 ‘**’ 0.01 ‘*’ 0.05 ‘.’ 0.1 ‘ ’ 1\n",
              "\n",
              "(Dispersion parameter for binomial family taken to be 1)\n",
              "\n",
              "    Null deviance: 2920.6  on 9999  degrees of freedom\n",
              "Residual deviance: 1578.4  on 9996  degrees of freedom\n",
              "AIC: 1586.4\n",
              "\n",
              "Number of Fisher Scoring iterations: 8\n"
            ]
          },
          "metadata": {}
        }
      ]
    },
    {
      "cell_type": "markdown",
      "source": [
        "##### Answer to Question 5, b\n",
        "***Using the validation set approach, estimate the test error of this model. In order to do this, you must perform the following steps:***\n",
        "\n",
        "> > ***i. Split the sample set into a training set and a validation set.***\n",
        "\n",
        "> > ***ii. Fit a multiple logistic regression model using only the training observations.***\n",
        "\n",
        "> > ***iii. Obtain a prediction of default status for each individual in the validation set by computing the posterior probability of default for that individual, and classifying the individual to the `default` category if the posterior probability is greater than 0.5.***\n",
        "\n",
        "> > ***iv. Compute the validation set error, which is the fraction of the observations in the validation set that are misclassified.***"
      ],
      "metadata": {
        "id": "uqdlvq6S8ODS"
      }
    },
    {
      "cell_type": "code",
      "source": [
        "# i. Split the sample set into a training set and a validation set.\n",
        "\n",
        "train_prop <- 2/3\n",
        "train_n <- round(nrow(d) * train_prop, 0)\n",
        "train_ind <- sample(1:nrow(d), size=train_n, replace=FALSE)\n",
        "d_train <- d[train_ind,]\n",
        "d_test <- d[-train_ind,]"
      ],
      "metadata": {
        "id": "FyrUAqFf8T7O"
      },
      "execution_count": null,
      "outputs": []
    },
    {
      "cell_type": "code",
      "source": [
        "# ii. Fit a multiple logistic regression model using only the training observations.\n",
        "\n",
        "m_train0 <- m_logis <- glm(default ~ income*balance,\n",
        "                           family=binomial(link=\"logit\"),\n",
        "                           data=d_train)\n",
        "summary(m_train1)"
      ],
      "metadata": {
        "colab": {
          "base_uri": "https://localhost:8080/",
          "height": 401
        },
        "id": "8sx79QgP9A3i",
        "outputId": "77d654b0-b4c1-4ed0-b35d-a1b069cc6722"
      },
      "execution_count": null,
      "outputs": [
        {
          "output_type": "display_data",
          "data": {
            "text/plain": [
              "\n",
              "Call:\n",
              "glm(formula = default ~ income * balance, family = binomial(link = \"logit\"), \n",
              "    data = d_train)\n",
              "\n",
              "Coefficients:\n",
              "                 Estimate Std. Error z value Pr(>|z|)    \n",
              "(Intercept)    -1.137e+01  1.165e+00  -9.764  < 2e-16 ***\n",
              "income          1.541e-05  3.216e-05   0.479    0.632    \n",
              "balance         5.580e-03  6.956e-04   8.021 1.04e-15 ***\n",
              "income:balance  4.186e-09  1.971e-08   0.212    0.832    \n",
              "---\n",
              "Signif. codes:  0 ‘***’ 0.001 ‘**’ 0.01 ‘*’ 0.05 ‘.’ 0.1 ‘ ’ 1\n",
              "\n",
              "(Dispersion parameter for binomial family taken to be 1)\n",
              "\n",
              "    Null deviance: 2053.7  on 6666  degrees of freedom\n",
              "Residual deviance: 1102.6  on 6663  degrees of freedom\n",
              "AIC: 1110.6\n",
              "\n",
              "Number of Fisher Scoring iterations: 8\n"
            ]
          },
          "metadata": {}
        }
      ]
    },
    {
      "cell_type": "code",
      "source": [
        "# iii. Obtain a prediction of default status for each individual in the\n",
        "  # validation set by computing the posterior probability of default for that\n",
        "  # individual, and classifying the individual to the default category if the\n",
        "  # posterior probability is greater than 0.5.\n",
        "\n",
        "probs0 <- predict(m_train0, newdata=d_test, type=\"response\")\n",
        "preds0 <- ifelse(probs0 >= 1/2, yes=\"Yes\", no=\"No\")"
      ],
      "metadata": {
        "id": "Q45fwf4K94a5"
      },
      "execution_count": null,
      "outputs": []
    },
    {
      "cell_type": "code",
      "source": [
        "# iv. Compute the validation set error, which is the fraction of the\n",
        "  # observations in the validation set that are misclassified.\n",
        "\n",
        "table(preds0, d_test$default)\n",
        "\n",
        "# Two ways to estimate error\n",
        "## Straight incorrect prediction\n",
        "pred_err <- round(sum(preds0 != d_test$default) / nrow(d_test),4) * 100\n",
        "cat(pred_err, \"% predictions are incorrect.\\n\")\n",
        "\n",
        "# Distance from true result\n",
        "prcnt_err <- round(mean(ifelse(d_test$default == \"Yes\",\n",
        "                        yes = 1-probs0,\n",
        "                        no = probs0)),4)*100\n",
        "cat(\"The average percent error is\", prcnt_err, \"percentage points. \\n \\n\")"
      ],
      "metadata": {
        "colab": {
          "base_uri": "https://localhost:8080/",
          "height": 145
        },
        "id": "91vrZIgJ_pwx",
        "outputId": "85d68322-d941-4470-9283-f5e1424a240f"
      },
      "execution_count": null,
      "outputs": [
        {
          "output_type": "display_data",
          "data": {
            "text/plain": [
              "      \n",
              "preds0   No  Yes\n",
              "   No  3203   86\n",
              "   Yes   10   34"
            ]
          },
          "metadata": {}
        },
        {
          "output_type": "stream",
          "name": "stdout",
          "text": [
            "2.88 % predictions are incorrect.\n",
            "The average percent error is 4.36 percentage points. \n",
            " \n"
          ]
        }
      ]
    },
    {
      "cell_type": "markdown",
      "source": [
        "##### Answer to Question 5, c\n",
        "\n",
        "***Repeat the process in (b) three times, using three different splits of the observations into a training set and a validation set. Comment on the results obtained.***"
      ],
      "metadata": {
        "id": "1JAh6KbNCsYS"
      }
    },
    {
      "cell_type": "code",
      "source": [
        "# Define the number of replications\n",
        "n_replicates <- 10\n",
        "\n",
        "# Function to perform the analysis\n",
        "perform_analysis <- function(d) {\n",
        "  # i. Split the sample set into a training set and a validation set.\n",
        "  train_prop <- 2 / 3\n",
        "  train_n <- round(nrow(d) * train_prop)\n",
        "  train_ind <- sample(nrow(d), size = train_n, replace = FALSE)\n",
        "  d_train <- d[train_ind, ]\n",
        "  d_test <- d[-train_ind, ]\n",
        "\n",
        "  # ii. Fit a multiple logistic regression model using only the training observations.\n",
        "  m_train0 <- glm(default ~ income * balance, family = binomial(link = \"logit\"), data = d_train)\n",
        "\n",
        "  # iii. Obtain a prediction of default status for each individual in the validation set.\n",
        "  probs0 <- predict(m_train0, newdata = d_test, type = \"response\")\n",
        "  preds0 <- ifelse(probs0 >= 0.5, \"Yes\", \"No\")\n",
        "\n",
        "  # iv. Compute the validation set error.\n",
        "  # Two ways to estimate error:\n",
        "  # 1. Straight incorrect prediction\n",
        "  pred_err <- round(sum(preds0 != d_test$default) / nrow(d_test), 4) * 100\n",
        "  cat(pred_err, \"% predictions are incorrect.\\n\")\n",
        "\n",
        "  # 2. Distance from true result\n",
        "  prcnt_err <- round(mean(ifelse(d_test$default == \"Yes\", 1 - probs0, probs0)), 4) * 100\n",
        "  cat(\"The average percent error is\", prcnt_err, \"percentage points.\\n\\n\")\n",
        "}\n",
        "\n",
        "# Loop to replicate the analysis n_replicates times\n",
        "for (i in 1:n_replicates) {\n",
        "  perform_analysis(d)\n",
        "}"
      ],
      "metadata": {
        "colab": {
          "base_uri": "https://localhost:8080/"
        },
        "id": "Maq44okgFNrP",
        "outputId": "6c75e6ff-aa59-4332-8091-d6f0fd8297c9"
      },
      "execution_count": null,
      "outputs": [
        {
          "output_type": "stream",
          "name": "stdout",
          "text": [
            "2.52 % predictions are incorrect.\n",
            "The average percent error is 4.28 percentage points.\n",
            "\n",
            "2.55 % predictions are incorrect.\n",
            "The average percent error is 4.28 percentage points.\n",
            "\n",
            "2.55 % predictions are incorrect.\n",
            "The average percent error is 4.29 percentage points.\n",
            "\n",
            "2.7 % predictions are incorrect.\n",
            "The average percent error is 4.37 percentage points.\n",
            "\n",
            "2.97 % predictions are incorrect.\n",
            "The average percent error is 4.45 percentage points.\n",
            "\n",
            "2.73 % predictions are incorrect.\n",
            "The average percent error is 4.22 percentage points.\n",
            "\n",
            "2.94 % predictions are incorrect.\n",
            "The average percent error is 4.41 percentage points.\n",
            "\n",
            "2.85 % predictions are incorrect.\n",
            "The average percent error is 4.33 percentage points.\n",
            "\n",
            "2.19 % predictions are incorrect.\n",
            "The average percent error is 4.09 percentage points.\n",
            "\n",
            "2.61 % predictions are incorrect.\n",
            "The average percent error is 4.42 percentage points.\n",
            "\n"
          ]
        }
      ]
    },
    {
      "cell_type": "markdown",
      "source": [
        "##### Answer to Question 5, d\n",
        "\n",
        "***Now consider a logistic regression model that predicts the probability of `default` using `income`, `balance`, and a dummy variable for `student`. Estimate the test error for this model using the validation set approach. Comment on whether or not including a dummy variable for `student` leads to a reduction in the test error rate.***"
      ],
      "metadata": {
        "id": "iB3iWmqUFgVi"
      }
    },
    {
      "cell_type": "code",
      "source": [
        "# Define the number of replications\n",
        "n_replicates <- 10\n",
        "\n",
        "# Function to perform the analysis\n",
        "perform_analysis <- function(d) {\n",
        "  # i. Split the sample set into a training set and a validation set.\n",
        "  train_prop <- 2 / 3\n",
        "  train_n <- round(nrow(d) * train_prop)\n",
        "  train_ind <- sample(nrow(d), size = train_n, replace = FALSE)\n",
        "  d_train <- d[train_ind, ]\n",
        "  d_test <- d[-train_ind, ]\n",
        "\n",
        "  # ii. Fit a multiple logistic regression model using only the training observations.\n",
        "  m_train0 <- glm(default ~ income * balance * student, family = binomial(link = \"logit\"), data = d_train)\n",
        "\n",
        "  # iii. Obtain a prediction of default status for each individual in the validation set.\n",
        "  probs0 <- predict(m_train0, newdata = d_test, type = \"response\")\n",
        "  preds0 <- ifelse(probs0 >= 0.5, \"Yes\", \"No\")\n",
        "\n",
        "  # iv. Compute the validation set error.\n",
        "  # Two ways to estimate error:\n",
        "  # 1. Straight incorrect prediction\n",
        "  pred_err <- round(sum(preds0 != d_test$default) / nrow(d_test), 4) * 100\n",
        "  cat(pred_err, \"% predictions are incorrect.\\n\")\n",
        "\n",
        "  # 2. Distance from true result\n",
        "  prcnt_err <- round(mean(ifelse(d_test$default == \"Yes\", 1 - probs0, probs0)), 4) * 100\n",
        "  cat(\"The average percent error is\", prcnt_err, \"percentage points.\\n\\n\")\n",
        "}\n",
        "\n",
        "# Loop to replicate the analysis n_replicates times\n",
        "for (i in 1:n_replicates) {\n",
        "  perform_analysis(d)\n",
        "}"
      ],
      "metadata": {
        "colab": {
          "base_uri": "https://localhost:8080/"
        },
        "id": "gL_kM75RFzUw",
        "outputId": "134279ec-3b64-42d8-d2e4-f9d189841941"
      },
      "execution_count": null,
      "outputs": [
        {
          "output_type": "stream",
          "name": "stdout",
          "text": [
            "2.67 % predictions are incorrect.\n",
            "The average percent error is 4.44 percentage points.\n",
            "\n",
            "2.76 % predictions are incorrect.\n",
            "The average percent error is 4.34 percentage points.\n",
            "\n",
            "2.94 % predictions are incorrect.\n",
            "The average percent error is 4.6 percentage points.\n",
            "\n",
            "2.76 % predictions are incorrect.\n",
            "The average percent error is 4.32 percentage points.\n",
            "\n",
            "2.79 % predictions are incorrect.\n",
            "The average percent error is 4.28 percentage points.\n",
            "\n",
            "2.58 % predictions are incorrect.\n",
            "The average percent error is 4.16 percentage points.\n",
            "\n",
            "2.55 % predictions are incorrect.\n",
            "The average percent error is 4.4 percentage points.\n",
            "\n",
            "2.43 % predictions are incorrect.\n",
            "The average percent error is 4.2 percentage points.\n",
            "\n",
            "2.7 % predictions are incorrect.\n",
            "The average percent error is 4.28 percentage points.\n",
            "\n",
            "2.82 % predictions are incorrect.\n",
            "The average percent error is 4.32 percentage points.\n",
            "\n"
          ]
        }
      ]
    },
    {
      "cell_type": "markdown",
      "source": [
        "Over 10 runs, adding `student` doesn't seem to make an appreciable difference in error rate."
      ],
      "metadata": {
        "id": "7Lp-bG7OGLMN"
      }
    },
    {
      "cell_type": "markdown",
      "source": [
        "### Question 6\n",
        "\n",
        "We continue to consider the use of a logistic regression model to predict the probability of `default` using `income` and `balance` on the `Default` data set. In particular, we will now compute estimates for the standard errors of the `income` and `balance` logistic regression coefficients in two different ways: (1) using the bootstrap, and (2) using the standard formula for computing the standard errors in the `glm()` function. Do not forget to set a random seed before beginning your analysis.\n",
        "\n",
        "> (a) Using the `summary()` and `glm()` functions, determine the estimated standard errors for the coefficients associated with `income` and `balance` in a multiple logistic regression model that uses both predictors.\n",
        "\n",
        "> (b) Write a function, `boot.fn()`, that takes as input the `Default` data set as well as an index of the observations, and that outputs the coefficient estimates for `income` and `balance` in the multiple logistic regression model.\n",
        "\n",
        "> (c) Use the `boot()` function together with your `boot.fn()` function to estimate the standard errors of the logistic regression coefficients for `income` and `balance`.\n",
        "\n",
        "> (d) Comment on the estimated standard errors obtained using the `glm()` function and using your bootstrap function."
      ],
      "metadata": {
        "id": "-j7VRdrblHGf"
      }
    },
    {
      "cell_type": "markdown",
      "source": [
        "#### Answers"
      ],
      "metadata": {
        "id": "fAD_pcxnl8ZH"
      }
    },
    {
      "cell_type": "code",
      "source": [
        "install.packages(\"ISLR2\")\n",
        "library(ISLR2)"
      ],
      "metadata": {
        "colab": {
          "base_uri": "https://localhost:8080/"
        },
        "outputId": "6a0c11a4-f6e4-4ae7-dc50-d5429ab88a39",
        "id": "3jxikZSImBnr"
      },
      "execution_count": null,
      "outputs": [
        {
          "output_type": "stream",
          "name": "stderr",
          "text": [
            "Installing package into ‘/usr/local/lib/R/site-library’\n",
            "(as ‘lib’ is unspecified)\n",
            "\n"
          ]
        }
      ]
    },
    {
      "cell_type": "code",
      "source": [
        "data(Default)\n",
        "d <- Default\n",
        "head(d)"
      ],
      "metadata": {
        "colab": {
          "base_uri": "https://localhost:8080/",
          "height": 286
        },
        "outputId": "f760ee63-8ff4-4492-b909-8aa7c1fc9fe2",
        "id": "DyRJOb_zmBnx"
      },
      "execution_count": null,
      "outputs": [
        {
          "output_type": "display_data",
          "data": {
            "text/html": [
              "<table class=\"dataframe\">\n",
              "<caption>A data.frame: 6 × 4</caption>\n",
              "<thead>\n",
              "\t<tr><th></th><th scope=col>default</th><th scope=col>student</th><th scope=col>balance</th><th scope=col>income</th></tr>\n",
              "\t<tr><th></th><th scope=col>&lt;fct&gt;</th><th scope=col>&lt;fct&gt;</th><th scope=col>&lt;dbl&gt;</th><th scope=col>&lt;dbl&gt;</th></tr>\n",
              "</thead>\n",
              "<tbody>\n",
              "\t<tr><th scope=row>1</th><td>No</td><td>No </td><td> 729.5265</td><td>44361.625</td></tr>\n",
              "\t<tr><th scope=row>2</th><td>No</td><td>Yes</td><td> 817.1804</td><td>12106.135</td></tr>\n",
              "\t<tr><th scope=row>3</th><td>No</td><td>No </td><td>1073.5492</td><td>31767.139</td></tr>\n",
              "\t<tr><th scope=row>4</th><td>No</td><td>No </td><td> 529.2506</td><td>35704.494</td></tr>\n",
              "\t<tr><th scope=row>5</th><td>No</td><td>No </td><td> 785.6559</td><td>38463.496</td></tr>\n",
              "\t<tr><th scope=row>6</th><td>No</td><td>Yes</td><td> 919.5885</td><td> 7491.559</td></tr>\n",
              "</tbody>\n",
              "</table>\n"
            ],
            "text/markdown": "\nA data.frame: 6 × 4\n\n| <!--/--> | default &lt;fct&gt; | student &lt;fct&gt; | balance &lt;dbl&gt; | income &lt;dbl&gt; |\n|---|---|---|---|---|\n| 1 | No | No  |  729.5265 | 44361.625 |\n| 2 | No | Yes |  817.1804 | 12106.135 |\n| 3 | No | No  | 1073.5492 | 31767.139 |\n| 4 | No | No  |  529.2506 | 35704.494 |\n| 5 | No | No  |  785.6559 | 38463.496 |\n| 6 | No | Yes |  919.5885 |  7491.559 |\n\n",
            "text/latex": "A data.frame: 6 × 4\n\\begin{tabular}{r|llll}\n  & default & student & balance & income\\\\\n  & <fct> & <fct> & <dbl> & <dbl>\\\\\n\\hline\n\t1 & No & No  &  729.5265 & 44361.625\\\\\n\t2 & No & Yes &  817.1804 & 12106.135\\\\\n\t3 & No & No  & 1073.5492 & 31767.139\\\\\n\t4 & No & No  &  529.2506 & 35704.494\\\\\n\t5 & No & No  &  785.6559 & 38463.496\\\\\n\t6 & No & Yes &  919.5885 &  7491.559\\\\\n\\end{tabular}\n",
            "text/plain": [
              "  default student balance   income   \n",
              "1 No      No       729.5265 44361.625\n",
              "2 No      Yes      817.1804 12106.135\n",
              "3 No      No      1073.5492 31767.139\n",
              "4 No      No       529.2506 35704.494\n",
              "5 No      No       785.6559 38463.496\n",
              "6 No      Yes      919.5885  7491.559"
            ]
          },
          "metadata": {}
        }
      ]
    },
    {
      "cell_type": "markdown",
      "source": [
        "##### Answer to Question 6, a\n",
        "***Using the `summary()` and `glm()` functions, determine the estimated standard errors for the coefficients associated with `income` and `balance` in a multiple logistic regression model that uses both predictors.***"
      ],
      "metadata": {
        "id": "nyiWGQJ8mEo9"
      }
    },
    {
      "cell_type": "code",
      "source": [
        "m_glm <- glm(default ~ income*balance,\n",
        "             family=binomial(link=\"logit\"),\n",
        "             data=d)\n",
        "summary(m_glm)\n",
        "coef(m_glm)"
      ],
      "metadata": {
        "colab": {
          "base_uri": "https://localhost:8080/",
          "height": 399
        },
        "id": "_U_a1U1MmRma",
        "outputId": "3913da01-299a-443b-fe95-287ae6763cc3"
      },
      "execution_count": null,
      "outputs": [
        {
          "output_type": "display_data",
          "data": {
            "text/plain": [
              "\n",
              "Call:\n",
              "glm(formula = default ~ income * balance, family = binomial(link = \"logit\"), \n",
              "    data = d)\n",
              "\n",
              "Coefficients:\n",
              "                 Estimate Std. Error z value Pr(>|z|)    \n",
              "(Intercept)    -1.092e+01  9.489e-01 -11.504   <2e-16 ***\n",
              "income          1.600e-06  2.683e-05   0.060    0.952    \n",
              "balance         5.265e-03  5.648e-04   9.323   <2e-16 ***\n",
              "income:balance  1.193e-08  1.638e-08   0.728    0.466    \n",
              "---\n",
              "Signif. codes:  0 ‘***’ 0.001 ‘**’ 0.01 ‘*’ 0.05 ‘.’ 0.1 ‘ ’ 1\n",
              "\n",
              "(Dispersion parameter for binomial family taken to be 1)\n",
              "\n",
              "    Null deviance: 2920.6  on 9999  degrees of freedom\n",
              "Residual deviance: 1578.4  on 9996  degrees of freedom\n",
              "AIC: 1586.4\n",
              "\n",
              "Number of Fisher Scoring iterations: 8\n"
            ]
          },
          "metadata": {}
        },
        {
          "output_type": "display_data",
          "data": {
            "text/html": [
              "<style>\n",
              ".dl-inline {width: auto; margin:0; padding: 0}\n",
              ".dl-inline>dt, .dl-inline>dd {float: none; width: auto; display: inline-block}\n",
              ".dl-inline>dt::after {content: \":\\0020\"; padding-right: .5ex}\n",
              ".dl-inline>dt:not(:first-of-type) {padding-left: .5ex}\n",
              "</style><dl class=dl-inline><dt>(Intercept)</dt><dd>-10.9157273381417</dd><dt>income</dt><dd>1.59966088795382e-06</dd><dt>balance</dt><dd>0.00526527800922396</dd><dt>income:balance</dt><dd>1.19332945884835e-08</dd></dl>\n"
            ],
            "text/markdown": "(Intercept)\n:   -10.9157273381417income\n:   1.59966088795382e-06balance\n:   0.00526527800922396income:balance\n:   1.19332945884835e-08\n\n",
            "text/latex": "\\begin{description*}\n\\item[(Intercept)] -10.9157273381417\n\\item[income] 1.59966088795382e-06\n\\item[balance] 0.00526527800922396\n\\item[income:balance] 1.19332945884835e-08\n\\end{description*}\n",
            "text/plain": [
              "   (Intercept)         income        balance income:balance \n",
              " -1.091573e+01   1.599661e-06   5.265278e-03   1.193329e-08 "
            ]
          },
          "metadata": {}
        }
      ]
    },
    {
      "cell_type": "markdown",
      "source": [
        "##### Answer to Question 6, b\n",
        "***Write a function, `boot.fn()`, that takes as input the `Default` data set as well as an index of the observations, and that outputs the coefficient estimates for `income` and `balance` in the multiple logistic regression model.***"
      ],
      "metadata": {
        "id": "_VKbbxjHmw0n"
      }
    },
    {
      "cell_type": "code",
      "source": [
        "boot.fn <- function(dat, indx){\n",
        "  fit <- glm(default ~ income*balance,\n",
        "             family=binomial(link=\"logit\"),\n",
        "             data=dat[indx,])\n",
        "  coef(fit)\n",
        "}\n",
        "\n",
        "boot.fn(d, 1:nrow(d))"
      ],
      "metadata": {
        "colab": {
          "base_uri": "https://localhost:8080/",
          "height": 34
        },
        "id": "CWtYIFR1m0M7",
        "outputId": "3b9c8e9e-e458-4ac3-a660-d24b3d66ad73"
      },
      "execution_count": null,
      "outputs": [
        {
          "output_type": "display_data",
          "data": {
            "text/html": [
              "<style>\n",
              ".dl-inline {width: auto; margin:0; padding: 0}\n",
              ".dl-inline>dt, .dl-inline>dd {float: none; width: auto; display: inline-block}\n",
              ".dl-inline>dt::after {content: \":\\0020\"; padding-right: .5ex}\n",
              ".dl-inline>dt:not(:first-of-type) {padding-left: .5ex}\n",
              "</style><dl class=dl-inline><dt>(Intercept)</dt><dd>-10.9157273381417</dd><dt>income</dt><dd>1.59966088795382e-06</dd><dt>balance</dt><dd>0.00526527800922396</dd><dt>income:balance</dt><dd>1.19332945884835e-08</dd></dl>\n"
            ],
            "text/markdown": "(Intercept)\n:   -10.9157273381417income\n:   1.59966088795382e-06balance\n:   0.00526527800922396income:balance\n:   1.19332945884835e-08\n\n",
            "text/latex": "\\begin{description*}\n\\item[(Intercept)] -10.9157273381417\n\\item[income] 1.59966088795382e-06\n\\item[balance] 0.00526527800922396\n\\item[income:balance] 1.19332945884835e-08\n\\end{description*}\n",
            "text/plain": [
              "   (Intercept)         income        balance income:balance \n",
              " -1.091573e+01   1.599661e-06   5.265278e-03   1.193329e-08 "
            ]
          },
          "metadata": {}
        }
      ]
    },
    {
      "cell_type": "markdown",
      "source": [
        "##### Answers to Question 6, c and d\n",
        "***Use the `boot()` function together with your `boot.fn()` function to estimate the standard errors of the logistic regression coefficients for `income` and `balance`.***\n",
        "\n",
        "\\\n",
        "\n",
        "***Comment on the estimated standard errors obtained using the `glm()` function and using your bootstrap function.***"
      ],
      "metadata": {
        "id": "l2Qt9oIGofcY"
      }
    },
    {
      "cell_type": "code",
      "source": [
        "#install.packages(\"boot\")\n",
        "library(boot)\n",
        "\n",
        "boot(data=d, statistic=boot.fn, R=1000)\n",
        "summary(m_glm)"
      ],
      "metadata": {
        "colab": {
          "base_uri": "https://localhost:8080/",
          "height": 624
        },
        "id": "OwNhiYrIopmQ",
        "outputId": "94de4a7b-853e-42ae-9d54-46ae0cbfa788"
      },
      "execution_count": null,
      "outputs": [
        {
          "output_type": "display_data",
          "data": {
            "text/plain": [
              "\n",
              "ORDINARY NONPARAMETRIC BOOTSTRAP\n",
              "\n",
              "\n",
              "Call:\n",
              "boot(data = Default, statistic = boot.fn, R = 1000)\n",
              "\n",
              "\n",
              "Bootstrap Statistics :\n",
              "         original        bias     std. error\n",
              "t1* -1.091573e+01 -2.835491e-02 9.119349e-01\n",
              "t2*  1.599661e-06 -5.675773e-07 2.694173e-05\n",
              "t3*  5.265278e-03  1.047864e-05 5.479339e-04\n",
              "t4*  1.193329e-08  4.323389e-10 1.662873e-08"
            ]
          },
          "metadata": {}
        },
        {
          "output_type": "display_data",
          "data": {
            "text/plain": [
              "\n",
              "Call:\n",
              "glm(formula = default ~ income * balance, family = binomial(link = \"logit\"), \n",
              "    data = d)\n",
              "\n",
              "Coefficients:\n",
              "                 Estimate Std. Error z value Pr(>|z|)    \n",
              "(Intercept)    -1.092e+01  9.489e-01 -11.504   <2e-16 ***\n",
              "income          1.600e-06  2.683e-05   0.060    0.952    \n",
              "balance         5.265e-03  5.648e-04   9.323   <2e-16 ***\n",
              "income:balance  1.193e-08  1.638e-08   0.728    0.466    \n",
              "---\n",
              "Signif. codes:  0 ‘***’ 0.001 ‘**’ 0.01 ‘*’ 0.05 ‘.’ 0.1 ‘ ’ 1\n",
              "\n",
              "(Dispersion parameter for binomial family taken to be 1)\n",
              "\n",
              "    Null deviance: 2920.6  on 9999  degrees of freedom\n",
              "Residual deviance: 1578.4  on 9996  degrees of freedom\n",
              "AIC: 1586.4\n",
              "\n",
              "Number of Fisher Scoring iterations: 8\n"
            ]
          },
          "metadata": {}
        }
      ]
    },
    {
      "cell_type": "markdown",
      "source": [
        "The standard errors, as well as the estimates, are similar between the two methods."
      ],
      "metadata": {
        "id": "S_BDbZ3Bpq-n"
      }
    },
    {
      "cell_type": "markdown",
      "source": [
        "### Question 7\n",
        "\n",
        "In Sections 5.3.2 and 5.3.3, we saw that the `cv.glm()` function can be used in order to compute the LOOCV test error estimate. Alternatively, one could compute those quantities using just the `glm()` and `predict.glm()` functions, and a for loop. You will now take this approach in order to compute the LOOCV error for a simple logistic regression model on the `Weekly` data set. Recall that in the context of classification problems, the LOOCV error is given in (5.4).\n",
        "\n",
        "> (a) Fit a logistic regression model that predicts `Direction` using `Lag1` and `Lag2`.\n",
        "\n",
        "> (b) Fit a logistic regression model that predicts `Direction` using `Lag1` and `Lag2` using *all but the first observation.*\n",
        "\n",
        "> (c) Use the model from (b) to predict the direction of the first observation. You can do this by predicting that the first observation will go up if $P($ `Direction = \"Up\"|Lag1, Lag2` $) > 0.5$. Was this observation correctly classified?\n",
        "\n",
        "> (d) Write a for loop from $i = 1$ to $i = n$, where $n$ is the number of observations in the data set, that performs each of the following steps:\n",
        "\n",
        ">> i. Fit a logistic regression model using all but the ith observation to predict `Direction` using `Lag1` and `Lag2`.\n",
        "\n",
        ">> ii. Compute the posterior probability of the market moving up for the ith observation.\n",
        "\n",
        ">> iii. Use the posterior probability for the ith observation in order to predict whether or not the market moves up.\n",
        "\n",
        ">> iv. Determine whether or not an error was made in predicting the direction for the ith observation. If an error was made, then indicate this as a 1, and otherwise indicate it as a 0.\n",
        "\n",
        "> (e) Take the average of the $n$ numbers obtained in (d)iv in order to obtain the LOOCV estimate for the test error. Comment on the results."
      ],
      "metadata": {
        "id": "Q7gmniBqguwP"
      }
    },
    {
      "cell_type": "markdown",
      "source": [
        "#### Answers"
      ],
      "metadata": {
        "id": "mLw3zJlxh7vy"
      }
    },
    {
      "cell_type": "code",
      "source": [
        "install.packages(\"ISLR2\")\n",
        "library(ISLR2)"
      ],
      "metadata": {
        "colab": {
          "base_uri": "https://localhost:8080/"
        },
        "outputId": "b72323e3-9c09-4612-8f62-d2dc3d9ee9c8",
        "id": "czr2bxbvh6ys"
      },
      "execution_count": null,
      "outputs": [
        {
          "output_type": "stream",
          "name": "stderr",
          "text": [
            "Installing package into ‘/usr/local/lib/R/site-library’\n",
            "(as ‘lib’ is unspecified)\n",
            "\n"
          ]
        }
      ]
    },
    {
      "cell_type": "code",
      "source": [
        "data(Weekly)\n",
        "d <- Weekly\n",
        "head(d)"
      ],
      "metadata": {
        "colab": {
          "base_uri": "https://localhost:8080/",
          "height": 286
        },
        "outputId": "04d63031-7cd1-41ca-9f6d-8ba983a36ef3",
        "id": "Flv6ev3fh6yt"
      },
      "execution_count": null,
      "outputs": [
        {
          "output_type": "display_data",
          "data": {
            "text/html": [
              "<table class=\"dataframe\">\n",
              "<caption>A data.frame: 6 × 9</caption>\n",
              "<thead>\n",
              "\t<tr><th></th><th scope=col>Year</th><th scope=col>Lag1</th><th scope=col>Lag2</th><th scope=col>Lag3</th><th scope=col>Lag4</th><th scope=col>Lag5</th><th scope=col>Volume</th><th scope=col>Today</th><th scope=col>Direction</th></tr>\n",
              "\t<tr><th></th><th scope=col>&lt;dbl&gt;</th><th scope=col>&lt;dbl&gt;</th><th scope=col>&lt;dbl&gt;</th><th scope=col>&lt;dbl&gt;</th><th scope=col>&lt;dbl&gt;</th><th scope=col>&lt;dbl&gt;</th><th scope=col>&lt;dbl&gt;</th><th scope=col>&lt;dbl&gt;</th><th scope=col>&lt;fct&gt;</th></tr>\n",
              "</thead>\n",
              "<tbody>\n",
              "\t<tr><th scope=row>1</th><td>1990</td><td> 0.816</td><td> 1.572</td><td>-3.936</td><td>-0.229</td><td>-3.484</td><td>0.1549760</td><td>-0.270</td><td>Down</td></tr>\n",
              "\t<tr><th scope=row>2</th><td>1990</td><td>-0.270</td><td> 0.816</td><td> 1.572</td><td>-3.936</td><td>-0.229</td><td>0.1485740</td><td>-2.576</td><td>Down</td></tr>\n",
              "\t<tr><th scope=row>3</th><td>1990</td><td>-2.576</td><td>-0.270</td><td> 0.816</td><td> 1.572</td><td>-3.936</td><td>0.1598375</td><td> 3.514</td><td>Up  </td></tr>\n",
              "\t<tr><th scope=row>4</th><td>1990</td><td> 3.514</td><td>-2.576</td><td>-0.270</td><td> 0.816</td><td> 1.572</td><td>0.1616300</td><td> 0.712</td><td>Up  </td></tr>\n",
              "\t<tr><th scope=row>5</th><td>1990</td><td> 0.712</td><td> 3.514</td><td>-2.576</td><td>-0.270</td><td> 0.816</td><td>0.1537280</td><td> 1.178</td><td>Up  </td></tr>\n",
              "\t<tr><th scope=row>6</th><td>1990</td><td> 1.178</td><td> 0.712</td><td> 3.514</td><td>-2.576</td><td>-0.270</td><td>0.1544440</td><td>-1.372</td><td>Down</td></tr>\n",
              "</tbody>\n",
              "</table>\n"
            ],
            "text/markdown": "\nA data.frame: 6 × 9\n\n| <!--/--> | Year &lt;dbl&gt; | Lag1 &lt;dbl&gt; | Lag2 &lt;dbl&gt; | Lag3 &lt;dbl&gt; | Lag4 &lt;dbl&gt; | Lag5 &lt;dbl&gt; | Volume &lt;dbl&gt; | Today &lt;dbl&gt; | Direction &lt;fct&gt; |\n|---|---|---|---|---|---|---|---|---|---|\n| 1 | 1990 |  0.816 |  1.572 | -3.936 | -0.229 | -3.484 | 0.1549760 | -0.270 | Down |\n| 2 | 1990 | -0.270 |  0.816 |  1.572 | -3.936 | -0.229 | 0.1485740 | -2.576 | Down |\n| 3 | 1990 | -2.576 | -0.270 |  0.816 |  1.572 | -3.936 | 0.1598375 |  3.514 | Up   |\n| 4 | 1990 |  3.514 | -2.576 | -0.270 |  0.816 |  1.572 | 0.1616300 |  0.712 | Up   |\n| 5 | 1990 |  0.712 |  3.514 | -2.576 | -0.270 |  0.816 | 0.1537280 |  1.178 | Up   |\n| 6 | 1990 |  1.178 |  0.712 |  3.514 | -2.576 | -0.270 | 0.1544440 | -1.372 | Down |\n\n",
            "text/latex": "A data.frame: 6 × 9\n\\begin{tabular}{r|lllllllll}\n  & Year & Lag1 & Lag2 & Lag3 & Lag4 & Lag5 & Volume & Today & Direction\\\\\n  & <dbl> & <dbl> & <dbl> & <dbl> & <dbl> & <dbl> & <dbl> & <dbl> & <fct>\\\\\n\\hline\n\t1 & 1990 &  0.816 &  1.572 & -3.936 & -0.229 & -3.484 & 0.1549760 & -0.270 & Down\\\\\n\t2 & 1990 & -0.270 &  0.816 &  1.572 & -3.936 & -0.229 & 0.1485740 & -2.576 & Down\\\\\n\t3 & 1990 & -2.576 & -0.270 &  0.816 &  1.572 & -3.936 & 0.1598375 &  3.514 & Up  \\\\\n\t4 & 1990 &  3.514 & -2.576 & -0.270 &  0.816 &  1.572 & 0.1616300 &  0.712 & Up  \\\\\n\t5 & 1990 &  0.712 &  3.514 & -2.576 & -0.270 &  0.816 & 0.1537280 &  1.178 & Up  \\\\\n\t6 & 1990 &  1.178 &  0.712 &  3.514 & -2.576 & -0.270 & 0.1544440 & -1.372 & Down\\\\\n\\end{tabular}\n",
            "text/plain": [
              "  Year Lag1   Lag2   Lag3   Lag4   Lag5   Volume    Today  Direction\n",
              "1 1990  0.816  1.572 -3.936 -0.229 -3.484 0.1549760 -0.270 Down     \n",
              "2 1990 -0.270  0.816  1.572 -3.936 -0.229 0.1485740 -2.576 Down     \n",
              "3 1990 -2.576 -0.270  0.816  1.572 -3.936 0.1598375  3.514 Up       \n",
              "4 1990  3.514 -2.576 -0.270  0.816  1.572 0.1616300  0.712 Up       \n",
              "5 1990  0.712  3.514 -2.576 -0.270  0.816 0.1537280  1.178 Up       \n",
              "6 1990  1.178  0.712  3.514 -2.576 -0.270 0.1544440 -1.372 Down     "
            ]
          },
          "metadata": {}
        }
      ]
    },
    {
      "cell_type": "markdown",
      "source": [
        "##### Answer to Question 7, a\n",
        "***Fit a logistic regression model that predicts `Direction` using `Lag1` and `Lag2`.***"
      ],
      "metadata": {
        "id": "s2ODoOQBiKIo"
      }
    },
    {
      "cell_type": "code",
      "source": [
        "m1 <- glm(Direction ~ Lag1 + Lag2,\n",
        "          family=binomial(link=\"logit\"),\n",
        "          data=d)"
      ],
      "metadata": {
        "id": "Sl3RQt-riOOy"
      },
      "execution_count": null,
      "outputs": []
    },
    {
      "cell_type": "markdown",
      "source": [
        "##### Answer to Question 7, b\n",
        "***Fit a logistic regression model that predicts `Direction` using `Lag1` and `Lag2` using <u>all but the first observation</u>.***"
      ],
      "metadata": {
        "id": "uSkKIGLSicIe"
      }
    },
    {
      "cell_type": "code",
      "source": [
        "d_train <- d[-1,]\n",
        "d_test <- d[1,]\n",
        "\n",
        "m2 <- glm(Direction ~ Lag1 + Lag2,\n",
        "          family=binomial(link=\"logit\"),\n",
        "          data=d_train)"
      ],
      "metadata": {
        "id": "uOn2kpMpioRp"
      },
      "execution_count": null,
      "outputs": []
    },
    {
      "cell_type": "markdown",
      "source": [
        "##### Answer to Question 7, c\n",
        "***Use the model from (b) to predict the direction of the first observation. You can do this by predicting that the first observation will go up if $P($ `Direction = \"Up\"|Lag1, Lag2` $) > 0.5$. Was this observation correctly classified?***"
      ],
      "metadata": {
        "id": "AudAeHaUi1pB"
      }
    },
    {
      "cell_type": "code",
      "source": [
        "m2_predict <- predict(m2, newdata=d_test, type=\"response\")\n",
        "m2_predict\n",
        "ifelse(m2_predict >= 0.5, \"Up\", \"Down\") == d[1,\"Direction\"]"
      ],
      "metadata": {
        "colab": {
          "base_uri": "https://localhost:8080/",
          "height": 52
        },
        "id": "S2ZwaoOGi1FK",
        "outputId": "34f38ec9-aa68-4429-dfcf-fb08031ad7c0"
      },
      "execution_count": null,
      "outputs": [
        {
          "output_type": "display_data",
          "data": {
            "text/html": [
              "<strong>1:</strong> 0.571392320520443"
            ],
            "text/markdown": "**1:** 0.571392320520443",
            "text/latex": "\\textbf{1:} 0.571392320520443",
            "text/plain": [
              "        1 \n",
              "0.5713923 "
            ]
          },
          "metadata": {}
        },
        {
          "output_type": "display_data",
          "data": {
            "text/html": [
              "FALSE"
            ],
            "text/markdown": "FALSE",
            "text/latex": "FALSE",
            "text/plain": [
              "[1] FALSE"
            ]
          },
          "metadata": {}
        }
      ]
    },
    {
      "cell_type": "markdown",
      "source": [
        "##### Answer to Question 7, d\n",
        "***Write a for loop from $i = 1$ to $i = n$, where $n$ is the number of observations in the data set, that performs each of the following steps:***\n",
        "\n",
        "> ***i. Fit a logistic regression model using all but the ith observation to predict `Direction` using `Lag1` and `Lag2`.***\n",
        "\n",
        "> ***ii. Compute the posterior probability of the market moving up for the ith observation.***\n",
        "\n",
        "> ***iii. Use the posterior probability for the ith observation in order to predict whether or not the market moves up.***\n",
        "\n",
        "> ***iv. Determine whether or not an error was made in predicting the direction for the ith observation. If an error was made, then indicate this as a 1, and otherwise indicate it as a 0.***"
      ],
      "metadata": {
        "id": "QT4GH3tbjuf_"
      }
    },
    {
      "cell_type": "code",
      "source": [
        "results <- logical(length=nrow(d))\n",
        "\n",
        "for(i in 1:nrow(d)){\n",
        "  d_train <- d[-i,]\n",
        "  d_test <- d[i,]\n",
        "\n",
        "  mi <- glm(Direction ~ Lag1 + Lag2,\n",
        "            family=binomial(link=\"logit\"),\n",
        "            data=d_train)\n",
        "\n",
        "  mi_predict <- predict(mi, newdata=d_test, type=\"response\")\n",
        "  results[i] <- ifelse(mi_predict >= 0.5, \"Up\", \"Down\") == d[i,\"Direction\"]\n",
        "}"
      ],
      "metadata": {
        "id": "Wy-4cSQ6j-w1"
      },
      "execution_count": null,
      "outputs": []
    },
    {
      "cell_type": "markdown",
      "source": [
        "##### Answer to Question 7, e\n",
        "***Take the average of the $n$ numbers obtained in (d)iv in order to obtain the LOOCV estimate for the test error. Comment on the results.***"
      ],
      "metadata": {
        "id": "DhgpXw0BlBUJ"
      }
    },
    {
      "cell_type": "code",
      "source": [
        "head(results)\n",
        "(test_err <- 1 - sum(results) / length(results))"
      ],
      "metadata": {
        "colab": {
          "base_uri": "https://localhost:8080/",
          "height": 52
        },
        "id": "C0JPMZdFk8UP",
        "outputId": "ee901256-7fe8-45c7-b13d-777e54b2fd6a"
      },
      "execution_count": null,
      "outputs": [
        {
          "output_type": "display_data",
          "data": {
            "text/html": [
              "<style>\n",
              ".list-inline {list-style: none; margin:0; padding: 0}\n",
              ".list-inline>li {display: inline-block}\n",
              ".list-inline>li:not(:last-child)::after {content: \"\\00b7\"; padding: 0 .5ex}\n",
              "</style>\n",
              "<ol class=list-inline><li>FALSE</li><li>FALSE</li><li>TRUE</li><li>FALSE</li><li>TRUE</li><li>FALSE</li></ol>\n"
            ],
            "text/markdown": "1. FALSE\n2. FALSE\n3. TRUE\n4. FALSE\n5. TRUE\n6. FALSE\n\n\n",
            "text/latex": "\\begin{enumerate*}\n\\item FALSE\n\\item FALSE\n\\item TRUE\n\\item FALSE\n\\item TRUE\n\\item FALSE\n\\end{enumerate*}\n",
            "text/plain": [
              "[1] FALSE FALSE  TRUE FALSE  TRUE FALSE"
            ]
          },
          "metadata": {}
        },
        {
          "output_type": "display_data",
          "data": {
            "text/html": [
              "0.449954086317723"
            ],
            "text/markdown": "0.449954086317723",
            "text/latex": "0.449954086317723",
            "text/plain": [
              "[1] 0.4499541"
            ]
          },
          "metadata": {}
        }
      ]
    },
    {
      "cell_type": "markdown",
      "source": [
        "So the error rate $\\approx 45\\%$, slightly better than random guessing."
      ],
      "metadata": {
        "id": "NvKiwoJrmPln"
      }
    },
    {
      "cell_type": "markdown",
      "source": [
        "### Question 8\n",
        "\n",
        "We will now perform cross-validation on a simulated data set.\n",
        "\n",
        "> (a) Generate a simulated data set as follows:\n",
        "\n",
        "> ```\n",
        "set.seed(1)\n",
        "x <- rnorm (100)\n",
        "y <- x - 2 * x^2 + rnorm (100)\n",
        "```\n",
        "\n",
        "> In this data set, what is `n` and what is `p`? Write out the model used to generate the data in equation form.\n",
        "\n",
        "> (b) Create a scatterplot of $X$ against $Y$. Comment on what you find.\n",
        "\n",
        "> (c) Set a random seed, and then compute the LOOCV errors that result from fitting the following four models using least squares:\n",
        "\n",
        "> > i. $Y = β_0 + β_1 X + ϵ$\n",
        "\n",
        "> > ii. $Y = β_0 + β_1 X + β_2 X_2 + ϵ$\n",
        "\n",
        "> > iii. $Y = β_0 + β_1 X + β_2 X_2 + β_3 X_3 + ϵ$\n",
        "\n",
        "> > iv. $Y = β_0 + β_1 X + β_2 X_2 + β_3 X_3 + β_4 X_4 + ϵ$\n",
        "\n",
        "> Note you may find it helpful to use the `data.frame()` function to create a single data set containing both $X$ and $Y$.\n",
        "\n",
        "> (d) Repeat (c) using another random seed, and report your results. Are your results the same as what you got in (c)? Why?\n",
        "\n",
        "> (e) Which of the models in (c) had the smallest LOOCV error? Is this what you expected? Explain your answer.\n",
        "\n",
        "> (f) Comment on the statistical significance of the coefficient estimates that results from fitting each of the models in (c) using least squares. Do these results agree with the conclusions drawn based on the cross-validation results?"
      ],
      "metadata": {
        "id": "66h9_-rc_Zhw"
      }
    },
    {
      "cell_type": "markdown",
      "source": [
        "#### Answer to Question 8, a\n",
        "\n",
        "***Generate a simulated data set as follows:***\n",
        "\n",
        "> ```\n",
        "set.seed(1)\n",
        "x <- rnorm (100)\n",
        "y <- x - 2 * x^2 + rnorm (100)\n",
        "```\n",
        "\n",
        "***In this data set, what is `n` and what is `p`? Write out the model used to generate the data in equation form.***"
      ],
      "metadata": {
        "id": "OLAU0q6HAEAD"
      }
    },
    {
      "cell_type": "code",
      "source": [
        "set.seed(1)\n",
        "\n",
        "n <- 100\n",
        "x <- rnorm(n)\n",
        "y <- x - 2*x^2 + rnorm(n)"
      ],
      "metadata": {
        "id": "qPJfcwiJAMOX"
      },
      "execution_count": null,
      "outputs": []
    },
    {
      "cell_type": "markdown",
      "source": [
        "$n$ is 100, which is the the first argument in the `rnorm()` command.\n",
        "$p$ is 2, the number of non-random components in `y`."
      ],
      "metadata": {
        "id": "srS1Ty7mAhm_"
      }
    },
    {
      "cell_type": "markdown",
      "source": [
        "#### Answer to Question 8, b\n",
        "\n",
        "***Create a scatterplot of $X$ against $Y$. Comment on what you find.***"
      ],
      "metadata": {
        "id": "8myj0WeCBUQb"
      }
    },
    {
      "cell_type": "code",
      "source": [
        "plot(y ~ x)"
      ],
      "metadata": {
        "colab": {
          "base_uri": "https://localhost:8080/",
          "height": 437
        },
        "id": "o6qnwy-PBkIO",
        "outputId": "5cd2752e-b9b0-4466-fd9d-81595e2e11a9"
      },
      "execution_count": null,
      "outputs": [
        {
          "output_type": "display_data",
          "data": {
            "text/plain": [
              "plot without title"
            ],
            "image/png": "[encoded data removed]"
          },
          "metadata": {
            "image/png": {
              "width": 420,
              "height": 420
            }
          }
        }
      ]
    },
    {
      "cell_type": "markdown",
      "source": [
        "Since we have an $x^2$ term as the highest order term in our expression for $y$, we predictably have a parabolic relationship between $x$ and $y$."
      ],
      "metadata": {
        "id": "uCZyy23bBt4I"
      }
    },
    {
      "cell_type": "markdown",
      "source": [
        "#### Answer to Question 8, c\n",
        "\n",
        "***Set a random seed, and then compute the LOOCV errors that result from fitting the following four models using least squares:***\n",
        "\n",
        "> ***i. $Y = β_0 + β_1 X + ϵ$***\n",
        "\n",
        "> ***ii. $Y = β_0 + β_1 X + β_2 X^2 + ϵ$***\n",
        "\n",
        "> ***iii. $Y = β_0 + β_1 X + β_2 X^2 + β_3 X^3 + ϵ$***\n",
        "\n",
        "> ***iv. $Y = β_0 + β_1 X + β_2 X^2 + β_3 X^3 + β_4 X^4 + ϵ$***\n",
        "\n",
        "***Note you may find it helpful to use the `data.frame()` function to create a single data set containing both $X$ and $Y$.***"
      ],
      "metadata": {
        "id": "8UufHUomCAac"
      }
    },
    {
      "cell_type": "code",
      "source": [
        "install.packages(\"boot\")\n",
        "library(boot)"
      ],
      "metadata": {
        "colab": {
          "base_uri": "https://localhost:8080/"
        },
        "id": "6gocPBOtRUVa",
        "outputId": "659d48df-2a59-4092-9aa2-d6aaf798206c"
      },
      "execution_count": null,
      "outputs": [
        {
          "output_type": "stream",
          "name": "stderr",
          "text": [
            "Installing package into ‘/usr/local/lib/R/site-library’\n",
            "(as ‘lib’ is unspecified)\n",
            "\n"
          ]
        }
      ]
    },
    {
      "cell_type": "code",
      "source": [
        "set.seed(1)\n",
        "\n",
        "d <- data.frame(x=x, y=y)\n",
        "\n",
        "loocv.err <- numeric(length=12)\n",
        "summaries <- list()\n",
        "\n",
        "for(i in 1:12){\n",
        "  fit <- glm(y ~ poly(x, degree=i, raw=TRUE))\n",
        "  summaries[[i]] <- summary(fit)\n",
        "  loocv.err[i] <- cv.glm(data=d, glmfit=fit)$delta[1]\n",
        "}\n",
        "\n",
        "plot(loocv.err, type=\"l\")"
      ],
      "metadata": {
        "colab": {
          "base_uri": "https://localhost:8080/",
          "height": 437
        },
        "id": "z_bJsiSzPijz",
        "outputId": "08cee6b2-7b60-42ed-fe68-7a48b69f0ca2"
      },
      "execution_count": null,
      "outputs": [
        {
          "output_type": "display_data",
          "data": {
            "text/plain": [
              "plot without title"
            ],
            "image/png": "[encoded data removed]"
          },
          "metadata": {
            "image/png": {
              "width": 420,
              "height": 420
            }
          }
        }
      ]
    },
    {
      "cell_type": "markdown",
      "source": [
        "I've taken this many more polynomial terms in order to see the cv error increase."
      ],
      "metadata": {
        "id": "Eg1uLVT4V1wq"
      }
    },
    {
      "cell_type": "markdown",
      "source": [
        "#### Answer to Question 8, d\n",
        "\n",
        "***Repeat (c) using another random seed, and report your results. Are your results the same as what you got in (c)? Why?***"
      ],
      "metadata": {
        "id": "VSYBpDRlUdMT"
      }
    },
    {
      "cell_type": "code",
      "source": [
        "set.seed(2)\n",
        "\n",
        "d <- data.frame(x=x, y=y)\n",
        "\n",
        "loocv.err2 <- numeric(length=12)\n",
        "\n",
        "for(i in 1:12){\n",
        "  fit2 <- glm(y ~ poly(x, degree=i, raw=TRUE))\n",
        "  loocv.err2[i] <- cv.glm(data=d, glmfit=fit)$delta[1]\n",
        "}\n",
        "\n",
        "plot(loocv.err, type=\"l\")\n",
        "lines(loocv.err2, type=\"l\", lty=2, col=\"red\")"
      ],
      "metadata": {
        "colab": {
          "base_uri": "https://localhost:8080/",
          "height": 437
        },
        "id": "CM-2vSdiUiOc",
        "outputId": "84427300-bf2d-416d-f6a8-008e97fd5dd1"
      },
      "execution_count": null,
      "outputs": [
        {
          "output_type": "display_data",
          "data": {
            "text/plain": [
              "plot without title"
            ],
            "image/png": "[encoded data removed]"
          },
          "metadata": {
            "image/png": {
              "width": 420,
              "height": 420
            }
          }
        }
      ]
    },
    {
      "cell_type": "markdown",
      "source": [
        "The two seeds yield the same results.  Why?  Because the code, `glm()` and `cv.glm(K=nrow(d))` admits no randomness: `glm()` is a determinisitc calculation, and loocv has no randomness in the partitioning of data subsets (if data subsets > 1, then we should see slight differences)."
      ],
      "metadata": {
        "id": "__8MCP_HVIx9"
      }
    },
    {
      "cell_type": "markdown",
      "source": [
        "#### Answer to Question 8, e\n",
        "\n",
        "***Which of the models in (c) had the smallest LOOCV error? Is this what you expected? Explain your answer.***"
      ],
      "metadata": {
        "id": "NyBDZAWuWYnc"
      }
    },
    {
      "cell_type": "code",
      "source": [
        "order(loocv.err)"
      ],
      "metadata": {
        "colab": {
          "base_uri": "https://localhost:8080/",
          "height": 34
        },
        "id": "iI7VfAayWF19",
        "outputId": "645eb6eb-4b4a-43ba-cfb0-0ad7f97d71ef"
      },
      "execution_count": null,
      "outputs": [
        {
          "output_type": "display_data",
          "data": {
            "text/html": [
              "<style>\n",
              ".list-inline {list-style: none; margin:0; padding: 0}\n",
              ".list-inline>li {display: inline-block}\n",
              ".list-inline>li:not(:last-child)::after {content: \"\\00b7\"; padding: 0 .5ex}\n",
              "</style>\n",
              "<ol class=list-inline><li>5</li><li>2</li><li>4</li><li>3</li><li>6</li><li>10</li><li>7</li><li>8</li><li>11</li><li>9</li><li>1</li><li>12</li></ol>\n"
            ],
            "text/markdown": "1. 5\n2. 2\n3. 4\n4. 3\n5. 6\n6. 10\n7. 7\n8. 8\n9. 11\n10. 9\n11. 1\n12. 12\n\n\n",
            "text/latex": "\\begin{enumerate*}\n\\item 5\n\\item 2\n\\item 4\n\\item 3\n\\item 6\n\\item 10\n\\item 7\n\\item 8\n\\item 11\n\\item 9\n\\item 1\n\\item 12\n\\end{enumerate*}\n",
            "text/plain": [
              " [1]  5  2  4  3  6 10  7  8 11  9  1 12"
            ]
          },
          "metadata": {}
        }
      ]
    },
    {
      "cell_type": "markdown",
      "source": [
        "Importantly, the non-polynomial model does among the worst and gets marketly better upon adding quadratic term; this is expected given the non-linear (quadratic) nature of the data.\n",
        "\n",
        "On this particular run of fake data, the 5th-degree polynomial model has the lowest error--followed closely by the 2nd-4th degree polynomial models; this may change if you rerun the code.  This may seem unexpected, but these models are basically tied."
      ],
      "metadata": {
        "id": "IxJXJEKgXQqP"
      }
    },
    {
      "cell_type": "markdown",
      "source": [
        "#### Answer to Question 8, f\n",
        "\n",
        "***Comment on the statistical significance of the coefficient estimates that results from fitting each of the models in (c) using least squares. Do these results agree with the conclusions drawn based on the cross-validation results?***"
      ],
      "metadata": {
        "id": "ObEAcElZaznk"
      }
    },
    {
      "cell_type": "code",
      "source": [
        "summaries"
      ],
      "metadata": {
        "colab": {
          "base_uri": "https://localhost:8080/",
          "height": 1000
        },
        "id": "i-NyYBXQZGaN",
        "outputId": "b0521ede-80bb-4741-c087-4a67968ea8fb"
      },
      "execution_count": null,
      "outputs": [
        {
          "output_type": "display_data",
          "data": {
            "text/plain": [
              "[[1]]\n",
              "\n",
              "Call:\n",
              "glm(formula = y ~ poly(x, degree = i, raw = TRUE))\n",
              "\n",
              "Coefficients:\n",
              "                                Estimate Std. Error t value Pr(>|t|)    \n",
              "(Intercept)                      -1.6254     0.2619  -6.205 1.31e-08 ***\n",
              "poly(x, degree = i, raw = TRUE)   0.6925     0.2909   2.380   0.0192 *  \n",
              "---\n",
              "Signif. codes:  0 ‘***’ 0.001 ‘**’ 0.01 ‘*’ 0.05 ‘.’ 0.1 ‘ ’ 1\n",
              "\n",
              "(Dispersion parameter for gaussian family taken to be 6.760719)\n",
              "\n",
              "    Null deviance: 700.85  on 99  degrees of freedom\n",
              "Residual deviance: 662.55  on 98  degrees of freedom\n",
              "AIC: 478.88\n",
              "\n",
              "Number of Fisher Scoring iterations: 2\n",
              "\n",
              "\n",
              "[[2]]\n",
              "\n",
              "Call:\n",
              "glm(formula = y ~ poly(x, degree = i, raw = TRUE))\n",
              "\n",
              "Coefficients:\n",
              "                                 Estimate Std. Error t value Pr(>|t|)    \n",
              "(Intercept)                       0.05672    0.11766   0.482    0.631    \n",
              "poly(x, degree = i, raw = TRUE)1  1.01716    0.10798   9.420  2.4e-15 ***\n",
              "poly(x, degree = i, raw = TRUE)2 -2.11892    0.08477 -24.997  < 2e-16 ***\n",
              "---\n",
              "Signif. codes:  0 ‘***’ 0.001 ‘**’ 0.01 ‘*’ 0.05 ‘.’ 0.1 ‘ ’ 1\n",
              "\n",
              "(Dispersion parameter for gaussian family taken to be 0.9178258)\n",
              "\n",
              "    Null deviance: 700.852  on 99  degrees of freedom\n",
              "Residual deviance:  89.029  on 97  degrees of freedom\n",
              "AIC: 280.17\n",
              "\n",
              "Number of Fisher Scoring iterations: 2\n",
              "\n",
              "\n",
              "[[3]]\n",
              "\n",
              "Call:\n",
              "glm(formula = y ~ poly(x, degree = i, raw = TRUE))\n",
              "\n",
              "Coefficients:\n",
              "                                 Estimate Std. Error t value Pr(>|t|)    \n",
              "(Intercept)                       0.06151    0.11950   0.515    0.608    \n",
              "poly(x, degree = i, raw = TRUE)1  0.97528    0.18728   5.208 1.09e-06 ***\n",
              "poly(x, degree = i, raw = TRUE)2 -2.12379    0.08700 -24.411  < 2e-16 ***\n",
              "poly(x, degree = i, raw = TRUE)3  0.01764    0.06429   0.274    0.784    \n",
              "---\n",
              "Signif. codes:  0 ‘***’ 0.001 ‘**’ 0.01 ‘*’ 0.05 ‘.’ 0.1 ‘ ’ 1\n",
              "\n",
              "(Dispersion parameter for gaussian family taken to be 0.9266599)\n",
              "\n",
              "    Null deviance: 700.852  on 99  degrees of freedom\n",
              "Residual deviance:  88.959  on 96  degrees of freedom\n",
              "AIC: 282.09\n",
              "\n",
              "Number of Fisher Scoring iterations: 2\n",
              "\n",
              "\n",
              "[[4]]\n",
              "\n",
              "Call:\n",
              "glm(formula = y ~ poly(x, degree = i, raw = TRUE))\n",
              "\n",
              "Coefficients:\n",
              "                                  Estimate Std. Error t value Pr(>|t|)    \n",
              "(Intercept)                       0.156703   0.139462   1.124    0.264    \n",
              "poly(x, degree = i, raw = TRUE)1  1.030826   0.191337   5.387 5.17e-07 ***\n",
              "poly(x, degree = i, raw = TRUE)2 -2.409898   0.234855 -10.261  < 2e-16 ***\n",
              "poly(x, degree = i, raw = TRUE)3 -0.009133   0.067229  -0.136    0.892    \n",
              "poly(x, degree = i, raw = TRUE)4  0.069785   0.053240   1.311    0.193    \n",
              "---\n",
              "Signif. codes:  0 ‘***’ 0.001 ‘**’ 0.01 ‘*’ 0.05 ‘.’ 0.1 ‘ ’ 1\n",
              "\n",
              "(Dispersion parameter for gaussian family taken to be 0.9197797)\n",
              "\n",
              "    Null deviance: 700.852  on 99  degrees of freedom\n",
              "Residual deviance:  87.379  on 95  degrees of freedom\n",
              "AIC: 282.3\n",
              "\n",
              "Number of Fisher Scoring iterations: 2\n",
              "\n",
              "\n",
              "[[5]]\n",
              "\n",
              "Call:\n",
              "glm(formula = y ~ poly(x, degree = i, raw = TRUE))\n",
              "\n",
              "Coefficients:\n",
              "                                 Estimate Std. Error t value Pr(>|t|)    \n",
              "(Intercept)                       0.12149    0.14027   0.866    0.389    \n",
              "poly(x, degree = i, raw = TRUE)1  1.36177    0.28526   4.774 6.63e-06 ***\n",
              "poly(x, degree = i, raw = TRUE)2 -2.30311    0.24303  -9.477 2.38e-15 ***\n",
              "poly(x, degree = i, raw = TRUE)3 -0.39458    0.25672  -1.537    0.128    \n",
              "poly(x, degree = i, raw = TRUE)4  0.03731    0.05683   0.657    0.513    \n",
              "poly(x, degree = i, raw = TRUE)5  0.06988    0.04494   1.555    0.123    \n",
              "---\n",
              "Signif. codes:  0 ‘***’ 0.001 ‘**’ 0.01 ‘*’ 0.05 ‘.’ 0.1 ‘ ’ 1\n",
              "\n",
              "(Dispersion parameter for gaussian family taken to be 0.9062565)\n",
              "\n",
              "    Null deviance: 700.852  on 99  degrees of freedom\n",
              "Residual deviance:  85.188  on 94  degrees of freedom\n",
              "AIC: 281.76\n",
              "\n",
              "Number of Fisher Scoring iterations: 2\n",
              "\n",
              "\n",
              "[[6]]\n",
              "\n",
              "Call:\n",
              "glm(formula = y ~ poly(x, degree = i, raw = TRUE))\n",
              "\n",
              "Coefficients:\n",
              "                                  Estimate Std. Error t value Pr(>|t|)    \n",
              "(Intercept)                       0.112012   0.160302   0.699    0.486    \n",
              "poly(x, degree = i, raw = TRUE)1  1.352676   0.295956   4.571 1.49e-05 ***\n",
              "poly(x, degree = i, raw = TRUE)2 -2.250570   0.488104  -4.611 1.28e-05 ***\n",
              "poly(x, degree = i, raw = TRUE)3 -0.383019   0.274313  -1.396    0.166    \n",
              "poly(x, degree = i, raw = TRUE)4  0.002362   0.286793   0.008    0.993    \n",
              "poly(x, degree = i, raw = TRUE)5  0.067317   0.049651   1.356    0.178    \n",
              "poly(x, degree = i, raw = TRUE)6  0.005079   0.040847   0.124    0.901    \n",
              "---\n",
              "Signif. codes:  0 ‘***’ 0.001 ‘**’ 0.01 ‘*’ 0.05 ‘.’ 0.1 ‘ ’ 1\n",
              "\n",
              "(Dispersion parameter for gaussian family taken to be 0.9158489)\n",
              "\n",
              "    Null deviance: 700.852  on 99  degrees of freedom\n",
              "Residual deviance:  85.174  on 93  degrees of freedom\n",
              "AIC: 283.74\n",
              "\n",
              "Number of Fisher Scoring iterations: 2\n",
              "\n",
              "\n",
              "[[7]]\n",
              "\n",
              "Call:\n",
              "glm(formula = y ~ poly(x, degree = i, raw = TRUE))\n",
              "\n",
              "Coefficients:\n",
              "                                 Estimate Std. Error t value Pr(>|t|)    \n",
              "(Intercept)                       0.10158    0.16391   0.620 0.536963    \n",
              "poly(x, degree = i, raw = TRUE)1  1.43650    0.38493   3.732 0.000329 ***\n",
              "poly(x, degree = i, raw = TRUE)2 -2.18999    0.52127  -4.201 6.13e-05 ***\n",
              "poly(x, degree = i, raw = TRUE)3 -0.57321    0.61931  -0.926 0.357091    \n",
              "poly(x, degree = i, raw = TRUE)4 -0.04259    0.31657  -0.135 0.893280    \n",
              "poly(x, degree = i, raw = TRUE)5  0.15854    0.27064   0.586 0.559447    \n",
              "poly(x, degree = i, raw = TRUE)6  0.01264    0.04659   0.271 0.786720    \n",
              "poly(x, degree = i, raw = TRUE)7 -0.01137    0.03316  -0.343 0.732423    \n",
              "---\n",
              "Signif. codes:  0 ‘***’ 0.001 ‘**’ 0.01 ‘*’ 0.05 ‘.’ 0.1 ‘ ’ 1\n",
              "\n",
              "(Dispersion parameter for gaussian family taken to be 0.9246218)\n",
              "\n",
              "    Null deviance: 700.852  on 99  degrees of freedom\n",
              "Residual deviance:  85.065  on 92  degrees of freedom\n",
              "AIC: 285.61\n",
              "\n",
              "Number of Fisher Scoring iterations: 2\n",
              "\n",
              "\n",
              "[[8]]\n",
              "\n",
              "Call:\n",
              "glm(formula = y ~ poly(x, degree = i, raw = TRUE))\n",
              "\n",
              "Coefficients:\n",
              "                                  Estimate Std. Error t value Pr(>|t|)    \n",
              "(Intercept)                       0.092890   0.182266   0.510 0.611539    \n",
              "poly(x, degree = i, raw = TRUE)1  1.422654   0.406396   3.501 0.000721 ***\n",
              "poly(x, degree = i, raw = TRUE)2 -2.118727   0.825879  -2.565 0.011941 *  \n",
              "poly(x, degree = i, raw = TRUE)3 -0.540206   0.689273  -0.784 0.435232    \n",
              "poly(x, degree = i, raw = TRUE)4 -0.127005   0.820312  -0.155 0.877302    \n",
              "poly(x, degree = i, raw = TRUE)5  0.141146   0.313551   0.450 0.653672    \n",
              "poly(x, degree = i, raw = TRUE)6  0.042452   0.271043   0.157 0.875888    \n",
              "poly(x, degree = i, raw = TRUE)7 -0.008963   0.039703  -0.226 0.821901    \n",
              "poly(x, degree = i, raw = TRUE)8 -0.003142   0.028138  -0.112 0.911342    \n",
              "---\n",
              "Signif. codes:  0 ‘***’ 0.001 ‘**’ 0.01 ‘*’ 0.05 ‘.’ 0.1 ‘ ’ 1\n",
              "\n",
              "(Dispersion parameter for gaussian family taken to be 0.9346544)\n",
              "\n",
              "    Null deviance: 700.852  on 99  degrees of freedom\n",
              "Residual deviance:  85.054  on 91  degrees of freedom\n",
              "AIC: 287.6\n",
              "\n",
              "Number of Fisher Scoring iterations: 2\n",
              "\n",
              "\n",
              "[[9]]\n",
              "\n",
              "Call:\n",
              "glm(formula = y ~ poly(x, degree = i, raw = TRUE))\n",
              "\n",
              "Coefficients:\n",
              "                                  Estimate Std. Error t value Pr(>|t|)  \n",
              "(Intercept)                       0.104368   0.187021   0.558   0.5782  \n",
              "poly(x, degree = i, raw = TRUE)1  1.309697   0.551770   2.374   0.0197 *\n",
              "poly(x, degree = i, raw = TRUE)2 -2.224349   0.899600  -2.473   0.0153 *\n",
              "poly(x, degree = i, raw = TRUE)3 -0.141989   1.479998  -0.096   0.9238  \n",
              "poly(x, degree = i, raw = TRUE)4  0.015220   0.947564   0.016   0.9872  \n",
              "poly(x, degree = i, raw = TRUE)5 -0.188173   1.126553  -0.167   0.8677  \n",
              "poly(x, degree = i, raw = TRUE)6 -0.014706   0.330825  -0.044   0.9646  \n",
              "poly(x, degree = i, raw = TRUE)7  0.085202   0.311830   0.273   0.7853  \n",
              "poly(x, degree = i, raw = TRUE)8  0.003613   0.035943   0.101   0.9202  \n",
              "poly(x, degree = i, raw = TRUE)9 -0.008655   0.028424  -0.304   0.7615  \n",
              "---\n",
              "Signif. codes:  0 ‘***’ 0.001 ‘**’ 0.01 ‘*’ 0.05 ‘.’ 0.1 ‘ ’ 1\n",
              "\n",
              "(Dispersion parameter for gaussian family taken to be 0.944067)\n",
              "\n",
              "    Null deviance: 700.852  on 99  degrees of freedom\n",
              "Residual deviance:  84.966  on 90  degrees of freedom\n",
              "AIC: 289.5\n",
              "\n",
              "Number of Fisher Scoring iterations: 2\n",
              "\n",
              "\n",
              "[[10]]\n",
              "\n",
              "Call:\n",
              "glm(formula = y ~ poly(x, degree = i, raw = TRUE))\n",
              "\n",
              "Coefficients:\n",
              "                                  Estimate Std. Error t value Pr(>|t|)  \n",
              "(Intercept)                        0.17283    0.19971   0.865   0.3892  \n",
              "poly(x, degree = i, raw = TRUE)1   1.51409    0.59009   2.566   0.0120 *\n",
              "poly(x, degree = i, raw = TRUE)2  -3.13146    1.29174  -2.424   0.0174 *\n",
              "poly(x, degree = i, raw = TRUE)3  -0.93114    1.68567  -0.552   0.5821  \n",
              "poly(x, degree = i, raw = TRUE)4   1.90383    2.14977   0.886   0.3782  \n",
              "poly(x, degree = i, raw = TRUE)5   0.55110    1.35654   0.406   0.6855  \n",
              "poly(x, degree = i, raw = TRUE)6  -1.26499    1.31956  -0.959   0.3403  \n",
              "poly(x, degree = i, raw = TRUE)7  -0.15569    0.39731  -0.392   0.6961  \n",
              "poly(x, degree = i, raw = TRUE)8   0.31987    0.32511   0.984   0.3278  \n",
              "poly(x, degree = i, raw = TRUE)9   0.01628    0.03817   0.426   0.6708  \n",
              "poly(x, degree = i, raw = TRUE)10 -0.02690    0.02749  -0.979   0.3303  \n",
              "---\n",
              "Signif. codes:  0 ‘***’ 0.001 ‘**’ 0.01 ‘*’ 0.05 ‘.’ 0.1 ‘ ’ 1\n",
              "\n",
              "(Dispersion parameter for gaussian family taken to be 0.9445078)\n",
              "\n",
              "    Null deviance: 700.852  on 99  degrees of freedom\n",
              "Residual deviance:  84.061  on 89  degrees of freedom\n",
              "AIC: 290.43\n",
              "\n",
              "Number of Fisher Scoring iterations: 2\n",
              "\n",
              "\n",
              "[[11]]\n",
              "\n",
              "Call:\n",
              "glm(formula = y ~ poly(x, degree = i, raw = TRUE))\n",
              "\n",
              "Coefficients:\n",
              "                                   Estimate Std. Error t value Pr(>|t|)  \n",
              "(Intercept)                        0.180840   0.203573   0.888   0.3768  \n",
              "poly(x, degree = i, raw = TRUE)1   1.416828   0.719997   1.968   0.0522 .\n",
              "poly(x, degree = i, raw = TRUE)2  -3.248433   1.388242  -2.340   0.0215 *\n",
              "poly(x, degree = i, raw = TRUE)3  -0.443409   2.656607  -0.167   0.8678  \n",
              "poly(x, degree = i, raw = TRUE)4   2.170214   2.433033   0.892   0.3748  \n",
              "poly(x, degree = i, raw = TRUE)5  -0.099777   3.051908  -0.033   0.9740  \n",
              "poly(x, degree = i, raw = TRUE)6  -1.461710   1.562309  -0.936   0.3520  \n",
              "poly(x, degree = i, raw = TRUE)7   0.184750   1.482880   0.125   0.9011  \n",
              "poly(x, degree = i, raw = TRUE)8   0.375768   0.402254   0.934   0.3528  \n",
              "poly(x, degree = i, raw = TRUE)9  -0.058740   0.317009  -0.185   0.8534  \n",
              "poly(x, degree = i, raw = TRUE)10 -0.032206   0.035476  -0.908   0.3665  \n",
              "poly(x, degree = i, raw = TRUE)11  0.005841   0.024501   0.238   0.8121  \n",
              "---\n",
              "Signif. codes:  0 ‘***’ 0.001 ‘**’ 0.01 ‘*’ 0.05 ‘.’ 0.1 ‘ ’ 1\n",
              "\n",
              "(Dispersion parameter for gaussian family taken to be 0.9546243)\n",
              "\n",
              "    Null deviance: 700.852  on 99  degrees of freedom\n",
              "Residual deviance:  84.007  on 88  degrees of freedom\n",
              "AIC: 292.36\n",
              "\n",
              "Number of Fisher Scoring iterations: 2\n",
              "\n",
              "\n",
              "[[12]]\n",
              "\n",
              "Call:\n",
              "glm(formula = y ~ poly(x, degree = i, raw = TRUE))\n",
              "\n",
              "Coefficients:\n",
              "                                   Estimate Std. Error t value Pr(>|t|)  \n",
              "(Intercept)                        0.169616   0.214562   0.791   0.4314  \n",
              "poly(x, degree = i, raw = TRUE)1   1.355714   0.804181   1.686   0.0954 .\n",
              "poly(x, degree = i, raw = TRUE)2  -3.036391   1.850354  -1.641   0.1044  \n",
              "poly(x, degree = i, raw = TRUE)3  -0.129110   3.221355  -0.040   0.9681  \n",
              "poly(x, degree = i, raw = TRUE)4   1.541432   4.353962   0.354   0.7242  \n",
              "poly(x, degree = i, raw = TRUE)5  -0.535065   3.954025  -0.135   0.8927  \n",
              "poly(x, degree = i, raw = TRUE)6  -0.828964   3.950119  -0.210   0.8343  \n",
              "poly(x, degree = i, raw = TRUE)7   0.423926   2.024907   0.209   0.8347  \n",
              "poly(x, degree = i, raw = TRUE)8   0.098804   1.637165   0.060   0.9520  \n",
              "poly(x, degree = i, raw = TRUE)9  -0.114651   0.451858  -0.254   0.8003  \n",
              "poly(x, degree = i, raw = TRUE)10  0.022177   0.313532   0.071   0.9438  \n",
              "poly(x, degree = i, raw = TRUE)11  0.010473   0.036209   0.289   0.7731  \n",
              "poly(x, degree = i, raw = TRUE)12 -0.003922   0.022463  -0.175   0.8618  \n",
              "---\n",
              "Signif. codes:  0 ‘***’ 0.001 ‘**’ 0.01 ‘*’ 0.05 ‘.’ 0.1 ‘ ’ 1\n",
              "\n",
              "(Dispersion parameter for gaussian family taken to be 0.9652588)\n",
              "\n",
              "    Null deviance: 700.852  on 99  degrees of freedom\n",
              "Residual deviance:  83.978  on 87  degrees of freedom\n",
              "AIC: 294.33\n",
              "\n",
              "Number of Fisher Scoring iterations: 2\n",
              "\n"
            ]
          },
          "metadata": {}
        }
      ]
    },
    {
      "cell_type": "markdown",
      "source": [
        "Remember that we generated data as `y <- x - 2*x^2 + rnorm(n)`. In other words, we've defined an intercept (=0), a coefficient for `x` (=1), and a coefficient for `x^2` (=-2).  Once we have at least `x` and `x^2` in our model, these estimates are made across models and p-values for them (and only them) are consistently low."
      ],
      "metadata": {
        "id": "2u6p4vXAZfFU"
      }
    },
    {
      "cell_type": "markdown",
      "source": [
        "### Question 9\n",
        "\n",
        "We will now consider the `Boston` housing data set, from the `ISLR2` library.\n",
        "\n",
        "> (a) Based on this data set, provide an estimate for the population mean of `medv`. Call this estimate $\\hat{\\mu}$.\n",
        "\n",
        "> (b) Provide an estimate of the standard error of $\\hat{\\mu}$. Interpret this result.\n",
        "\n",
        "> > *Hint: We can compute the standard error of the sample mean by dividing the sample standard deviation by the square root of the number of observations.*\n",
        "\n",
        "> (c) Now estimate the standard error of $\\hat{\\mu}$ using the bootstrap. How does this compare to your answer from (b)?\n",
        "\n",
        "> (d) Based on your bootstrap estimate from (c), provide a 95% confidence interval for the mean of `medv`. Compare it to the results obtained using `t.test(Boston$medv)`.\n",
        "\n",
        "> > *Hint: You can approximate a 95% confidence interval using the formula $[\\hat{\\mu} − 2\\text{SE}(\\hat{\\mu}), \\ \\hat{\\mu} + 2\\text{SE}(\\hat{\\mu})]$.*\n",
        "\n",
        "> (e) Based on this data set, provide an estimate, $\\hat{\\mu}_{med}$, for the median value of `medv` in the population.\n",
        "\n",
        "> (f) We now would like to estimate the standard error of $\\hat{\\mu}_{med}$. Unfortunately, there is no simple formula for computing the standard error of the median. Instead, estimate the standard error of the median using the bootstrap. Comment on your findings.\n",
        "\n",
        "> (g) Based on this data set, provide an estimate for the tenth percentile of `medv` in Boston census tracts. Call this quantity $\\hat{\\mu}_{0.1}$. (You can use the `quantile()` function.)\n",
        "\n",
        "> (h) Use the bootstrap to estimate the standard error of $\\hat{\\mu}_{0.1}$. Comment on your findings."
      ],
      "metadata": {
        "id": "TAaoTMM7X9aR"
      }
    },
    {
      "cell_type": "markdown",
      "source": [
        "#### Answers"
      ],
      "metadata": {
        "id": "bR1hV17wZuA9"
      }
    },
    {
      "cell_type": "code",
      "source": [
        "install.packages(\"ISLR2\")\n",
        "library(ISLR2)\n",
        "\n",
        "install.packages(\"boot\")\n",
        "library(boot)"
      ],
      "metadata": {
        "colab": {
          "base_uri": "https://localhost:8080/"
        },
        "outputId": "6f2654fa-1dc7-458d-f852-3c0423f3794b",
        "id": "M8QXDlTaZ1rk"
      },
      "execution_count": 2,
      "outputs": [
        {
          "output_type": "stream",
          "name": "stderr",
          "text": [
            "Installing package into ‘/usr/local/lib/R/site-library’\n",
            "(as ‘lib’ is unspecified)\n",
            "\n"
          ]
        }
      ]
    },
    {
      "cell_type": "code",
      "source": [
        "data(Boston)\n",
        "d <- Boston\n",
        "head(d)"
      ],
      "metadata": {
        "colab": {
          "base_uri": "https://localhost:8080/",
          "height": 286
        },
        "outputId": "78cad8c7-4d39-400a-9b75-bcf0422c70c3",
        "id": "pRzwbfbbZ1rs"
      },
      "execution_count": 3,
      "outputs": [
        {
          "output_type": "display_data",
          "data": {
            "text/html": [
              "<table class=\"dataframe\">\n",
              "<caption>A data.frame: 6 × 13</caption>\n",
              "<thead>\n",
              "\t<tr><th></th><th scope=col>crim</th><th scope=col>zn</th><th scope=col>indus</th><th scope=col>chas</th><th scope=col>nox</th><th scope=col>rm</th><th scope=col>age</th><th scope=col>dis</th><th scope=col>rad</th><th scope=col>tax</th><th scope=col>ptratio</th><th scope=col>lstat</th><th scope=col>medv</th></tr>\n",
              "\t<tr><th></th><th scope=col>&lt;dbl&gt;</th><th scope=col>&lt;dbl&gt;</th><th scope=col>&lt;dbl&gt;</th><th scope=col>&lt;int&gt;</th><th scope=col>&lt;dbl&gt;</th><th scope=col>&lt;dbl&gt;</th><th scope=col>&lt;dbl&gt;</th><th scope=col>&lt;dbl&gt;</th><th scope=col>&lt;int&gt;</th><th scope=col>&lt;dbl&gt;</th><th scope=col>&lt;dbl&gt;</th><th scope=col>&lt;dbl&gt;</th><th scope=col>&lt;dbl&gt;</th></tr>\n",
              "</thead>\n",
              "<tbody>\n",
              "\t<tr><th scope=row>1</th><td>0.00632</td><td>18</td><td>2.31</td><td>0</td><td>0.538</td><td>6.575</td><td>65.2</td><td>4.0900</td><td>1</td><td>296</td><td>15.3</td><td>4.98</td><td>24.0</td></tr>\n",
              "\t<tr><th scope=row>2</th><td>0.02731</td><td> 0</td><td>7.07</td><td>0</td><td>0.469</td><td>6.421</td><td>78.9</td><td>4.9671</td><td>2</td><td>242</td><td>17.8</td><td>9.14</td><td>21.6</td></tr>\n",
              "\t<tr><th scope=row>3</th><td>0.02729</td><td> 0</td><td>7.07</td><td>0</td><td>0.469</td><td>7.185</td><td>61.1</td><td>4.9671</td><td>2</td><td>242</td><td>17.8</td><td>4.03</td><td>34.7</td></tr>\n",
              "\t<tr><th scope=row>4</th><td>0.03237</td><td> 0</td><td>2.18</td><td>0</td><td>0.458</td><td>6.998</td><td>45.8</td><td>6.0622</td><td>3</td><td>222</td><td>18.7</td><td>2.94</td><td>33.4</td></tr>\n",
              "\t<tr><th scope=row>5</th><td>0.06905</td><td> 0</td><td>2.18</td><td>0</td><td>0.458</td><td>7.147</td><td>54.2</td><td>6.0622</td><td>3</td><td>222</td><td>18.7</td><td>5.33</td><td>36.2</td></tr>\n",
              "\t<tr><th scope=row>6</th><td>0.02985</td><td> 0</td><td>2.18</td><td>0</td><td>0.458</td><td>6.430</td><td>58.7</td><td>6.0622</td><td>3</td><td>222</td><td>18.7</td><td>5.21</td><td>28.7</td></tr>\n",
              "</tbody>\n",
              "</table>\n"
            ],
            "text/markdown": "\nA data.frame: 6 × 13\n\n| <!--/--> | crim &lt;dbl&gt; | zn &lt;dbl&gt; | indus &lt;dbl&gt; | chas &lt;int&gt; | nox &lt;dbl&gt; | rm &lt;dbl&gt; | age &lt;dbl&gt; | dis &lt;dbl&gt; | rad &lt;int&gt; | tax &lt;dbl&gt; | ptratio &lt;dbl&gt; | lstat &lt;dbl&gt; | medv &lt;dbl&gt; |\n|---|---|---|---|---|---|---|---|---|---|---|---|---|---|\n| 1 | 0.00632 | 18 | 2.31 | 0 | 0.538 | 6.575 | 65.2 | 4.0900 | 1 | 296 | 15.3 | 4.98 | 24.0 |\n| 2 | 0.02731 |  0 | 7.07 | 0 | 0.469 | 6.421 | 78.9 | 4.9671 | 2 | 242 | 17.8 | 9.14 | 21.6 |\n| 3 | 0.02729 |  0 | 7.07 | 0 | 0.469 | 7.185 | 61.1 | 4.9671 | 2 | 242 | 17.8 | 4.03 | 34.7 |\n| 4 | 0.03237 |  0 | 2.18 | 0 | 0.458 | 6.998 | 45.8 | 6.0622 | 3 | 222 | 18.7 | 2.94 | 33.4 |\n| 5 | 0.06905 |  0 | 2.18 | 0 | 0.458 | 7.147 | 54.2 | 6.0622 | 3 | 222 | 18.7 | 5.33 | 36.2 |\n| 6 | 0.02985 |  0 | 2.18 | 0 | 0.458 | 6.430 | 58.7 | 6.0622 | 3 | 222 | 18.7 | 5.21 | 28.7 |\n\n",
            "text/latex": "A data.frame: 6 × 13\n\\begin{tabular}{r|lllllllllllll}\n  & crim & zn & indus & chas & nox & rm & age & dis & rad & tax & ptratio & lstat & medv\\\\\n  & <dbl> & <dbl> & <dbl> & <int> & <dbl> & <dbl> & <dbl> & <dbl> & <int> & <dbl> & <dbl> & <dbl> & <dbl>\\\\\n\\hline\n\t1 & 0.00632 & 18 & 2.31 & 0 & 0.538 & 6.575 & 65.2 & 4.0900 & 1 & 296 & 15.3 & 4.98 & 24.0\\\\\n\t2 & 0.02731 &  0 & 7.07 & 0 & 0.469 & 6.421 & 78.9 & 4.9671 & 2 & 242 & 17.8 & 9.14 & 21.6\\\\\n\t3 & 0.02729 &  0 & 7.07 & 0 & 0.469 & 7.185 & 61.1 & 4.9671 & 2 & 242 & 17.8 & 4.03 & 34.7\\\\\n\t4 & 0.03237 &  0 & 2.18 & 0 & 0.458 & 6.998 & 45.8 & 6.0622 & 3 & 222 & 18.7 & 2.94 & 33.4\\\\\n\t5 & 0.06905 &  0 & 2.18 & 0 & 0.458 & 7.147 & 54.2 & 6.0622 & 3 & 222 & 18.7 & 5.33 & 36.2\\\\\n\t6 & 0.02985 &  0 & 2.18 & 0 & 0.458 & 6.430 & 58.7 & 6.0622 & 3 & 222 & 18.7 & 5.21 & 28.7\\\\\n\\end{tabular}\n",
            "text/plain": [
              "  crim    zn indus chas nox   rm    age  dis    rad tax ptratio lstat medv\n",
              "1 0.00632 18 2.31  0    0.538 6.575 65.2 4.0900 1   296 15.3    4.98  24.0\n",
              "2 0.02731  0 7.07  0    0.469 6.421 78.9 4.9671 2   242 17.8    9.14  21.6\n",
              "3 0.02729  0 7.07  0    0.469 7.185 61.1 4.9671 2   242 17.8    4.03  34.7\n",
              "4 0.03237  0 2.18  0    0.458 6.998 45.8 6.0622 3   222 18.7    2.94  33.4\n",
              "5 0.06905  0 2.18  0    0.458 7.147 54.2 6.0622 3   222 18.7    5.33  36.2\n",
              "6 0.02985  0 2.18  0    0.458 6.430 58.7 6.0622 3   222 18.7    5.21  28.7"
            ]
          },
          "metadata": {}
        }
      ]
    },
    {
      "cell_type": "markdown",
      "source": [
        "##### Answer to Question 9, a\n",
        "\n",
        "***Based on this data set, provide an estimate for the population mean of `medv`. Call this estimate $\\hat{\\mu}$.***"
      ],
      "metadata": {
        "id": "dOoMR14CaAml"
      }
    },
    {
      "cell_type": "code",
      "source": [
        "(mu <- mean(d$medv))"
      ],
      "metadata": {
        "colab": {
          "base_uri": "https://localhost:8080/",
          "height": 34
        },
        "id": "T58RfvC-aJ4d",
        "outputId": "a966ada2-6d99-4628-d81e-045c8d5f4e4c"
      },
      "execution_count": 9,
      "outputs": [
        {
          "output_type": "display_data",
          "data": {
            "text/html": [
              "22.5328063241107"
            ],
            "text/markdown": "22.5328063241107",
            "text/latex": "22.5328063241107",
            "text/plain": [
              "[1] 22.53281"
            ]
          },
          "metadata": {}
        }
      ]
    },
    {
      "cell_type": "markdown",
      "source": [
        "##### Answer to Question 9, b\n",
        "\n",
        "***Provide an estimate of the standard error of $\\hat{\\mu}$. Interpret this result.***\n",
        "\n",
        "> ***Hint: We can compute the standard error of the sample mean by dividing the sample standard deviation by the square root of the number of observations.***"
      ],
      "metadata": {
        "id": "JqRRalrfaa01"
      }
    },
    {
      "cell_type": "code",
      "source": [
        "(SE <- sd(d$medv) / sqrt(nrow(d)))"
      ],
      "metadata": {
        "colab": {
          "base_uri": "https://localhost:8080/",
          "height": 34
        },
        "id": "N31QPgOzapN1",
        "outputId": "05715d30-39e4-4aeb-e2b7-97e435ad33e1"
      },
      "execution_count": 10,
      "outputs": [
        {
          "output_type": "display_data",
          "data": {
            "text/html": [
              "0.408861147497535"
            ],
            "text/markdown": "0.408861147497535",
            "text/latex": "0.408861147497535",
            "text/plain": [
              "[1] 0.4088611"
            ]
          },
          "metadata": {}
        }
      ]
    },
    {
      "cell_type": "markdown",
      "source": [
        "##### Answer to Question 9, c\n",
        "\n",
        "***Now estimate the standard error of $\\hat{\\mu}$ using the bootstrap. How does this compare to your answer from (b)?***"
      ],
      "metadata": {
        "id": "hVipInvxax3E"
      }
    },
    {
      "cell_type": "code",
      "source": [
        "(bs_SE <- boot(d$medv, function(x, i) mean(x[i]), 1000))"
      ],
      "metadata": {
        "colab": {
          "base_uri": "https://localhost:8080/",
          "height": 208
        },
        "id": "mhwEeuSHa-cm",
        "outputId": "de62ba14-7f30-4df6-920e-4680468d00b9"
      },
      "execution_count": 11,
      "outputs": [
        {
          "output_type": "display_data",
          "data": {
            "text/plain": [
              "\n",
              "ORDINARY NONPARAMETRIC BOOTSTRAP\n",
              "\n",
              "\n",
              "Call:\n",
              "boot(data = d$medv, statistic = function(x, i) mean(x[i]), R = 1000)\n",
              "\n",
              "\n",
              "Bootstrap Statistics :\n",
              "    original      bias    std. error\n",
              "t1* 22.53281 -0.01205277   0.4032868"
            ]
          },
          "metadata": {}
        }
      ]
    },
    {
      "cell_type": "markdown",
      "source": [
        "##### Answer to Question 9, d\n",
        "\n",
        "***Based on your bootstrap estimate from (c), provide a 95% confidence interval for the mean of `medv`. Compare it to the results obtained using `t.test(Boston$medv)`.***\n",
        "\n",
        "> ***Hint: You can approximate a 95% confidence interval using the formula $[\\hat{\\mu} − 2\\text{SE}(\\hat{\\mu}), \\ \\hat{\\mu} + 2\\text{SE}(\\hat{\\mu})]$.***"
      ],
      "metadata": {
        "id": "HnM8d0dSbpYN"
      }
    },
    {
      "cell_type": "code",
      "source": [],
      "metadata": {
        "id": "yK7Q0s-bbwEE"
      },
      "execution_count": null,
      "outputs": []
    }
  ]
}