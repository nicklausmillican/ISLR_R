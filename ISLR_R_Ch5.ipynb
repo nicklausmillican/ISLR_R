{
  "nbformat": 4,
  "nbformat_minor": 0,
  "metadata": {
    "colab": {
      "provenance": [],
      "authorship_tag": "ABX9TyNxe4xyVexBD+DLI+Gld0Di",
      "include_colab_link": true
    },
    "kernelspec": {
      "name": "python3",
      "display_name": "Python 3"
    },
    "language_info": {
      "name": "python"
    }
  },
  "cells": [
    {
      "cell_type": "markdown",
      "metadata": {
        "id": "view-in-github",
        "colab_type": "text"
      },
      "source": [
        "<a href=\"https://colab.research.google.com/github/nicklausmillican/ISLR_R/blob/main/ISLR_R_Ch5.ipynb\" target=\"_parent\"><img src=\"https://colab.research.google.com/assets/colab-badge.svg\" alt=\"Open In Colab\"/></a>"
      ]
    },
    {
      "cell_type": "markdown",
      "source": [
        "# Chapter 5"
      ],
      "metadata": {
        "id": "v06IlZa-LQKM"
      }
    },
    {
      "cell_type": "markdown",
      "source": [
        "## Conceptual"
      ],
      "metadata": {
        "id": "VaDsnW3QCYIz"
      }
    },
    {
      "cell_type": "markdown",
      "source": [
        "### Question 1\n",
        "Using basic statistical properties of the variance, as well as single-variable calculus, derive (5.6):\n",
        "\n",
        "$$\\alpha = \\frac{\\sigma^2_Y - \\sigma_{XY}}{\\sigma^2_X + \\sigma^2_Y - 2\\sigma_{XY}}$$\n",
        "\n",
        "In other words, prove that $α$ given by (5.6) does indeed minimize $\\text{Var}(αX + (1 − α)Y)$.\n",
        "\n",
        "#### Answer\n",
        "For context, this example is used in section 5.2: we are investing some proportion of our money, $\\alpha$, into investment with expected return $X$ and the rest of our money, $1 - \\alpha$ into investment with expected return $Y$--so we are investing like $\\alpha X + (1-\\alpha)Y$; we wish to minimize our risk, which is to say *minimize the variance* of our return.\n",
        "\n",
        "To this, we need a expression for the variance of our return.  For this, we'll need to use 3 rules:\n",
        "\n",
        "1. $\\text{Var}(X + Y) = \\text{Var}(X) + \\text{Var}(Y) + 2\\text{Cov}(X,Y)$\n",
        "2. $\\text{Var}(aX) = a^2Var(X)$\n",
        "3. $\\text{Cov}(aX, bY) = ab\\text{Cov}(X, Y)$\n",
        "\n",
        "$$\n",
        "\\begin{aligned}\n",
        "\\text{Var}(\\alpha X + (1-\\alpha)Y)\n",
        "&= \\text{Var}(\\alpha X) + \\text{Var}((1-\\alpha)Y) + 2\\text{Cov}(\\alpha X, (1-\\alpha)Y) \\\\\n",
        "&= \\alpha^2 \\text{Var}(X) + (1-\\alpha)^2\\text{Var}(Y) + 2(\\alpha \\times (1-\\alpha))\\text{Cov}(X,Y) \\\\\n",
        "&= \\alpha^2 \\sigma^2_X + (1 - 2\\alpha + \\alpha^2) \\sigma^2_Y + 2(\\alpha - \\alpha^2)\\sigma_{XY} \\\\\n",
        "&= \\alpha^2\\sigma^2_X + \\sigma^2_Y - 2\\alpha\\sigma^2_Y + \\alpha^2\\sigma^2_Y +\n",
        "     2\\alpha\\sigma_{XY} - 2\\alpha^2\\sigma_{XY}\n",
        "\\end{aligned}\n",
        "$$\n",
        "\n",
        "Next, we need to find the derivative of this expression with respect to $\\alpha$, set it equal to zero (checking to make sure that the 0-point represents a minimum), and solve for $\\alpha$.\n",
        "\n",
        "$$\n",
        "\\begin{aligned}\n",
        "\\frac{d}{d\\alpha}[\\alpha^2\\sigma^2_X + \\sigma^2_Y - 2\\alpha\\sigma^2_Y + \\alpha^2\\sigma^2_Y +\n",
        "     2\\alpha\\sigma_{XY} - 2\\alpha^2\\sigma_{XY}] \\\\\n",
        "     &= 2\\alpha \\sigma^2_X - 2\\sigma^2_Y + 2\\alpha\\sigma^2_Y + 2\\sigma_{XY} - 4\\alpha\\sigma_{XY} \\\\\n",
        "     &= \\alpha \\sigma^2_X - \\sigma^2_Y + \\alpha\\sigma^2_Y + \\sigma_{XY} - 2\\alpha\\sigma_{XY} \\overset{set}= 0\\\n",
        "\\end{aligned}$$\n",
        "\n",
        "Separating the $\\alpha$ terms and then solving for $\\alpha$,\n",
        "\n",
        "$$\n",
        "\\begin{aligned}\n",
        "& \\alpha \\sigma^2_X + \\alpha\\sigma^2_Y - 2\\alpha\\sigma_{XY} = \\sigma^2_Y - \\sigma_{XY} \\\\\n",
        "&= \\alpha(\\sigma^2_X + \\sigma^2_Y - 2\\sigma_{XY}) \\\\\n",
        "&\\rightarrow \\alpha = \\frac{\\sigma^2_Y - \\sigma_{XY}}{\\sigma^2_X + \\sigma^2_Y - 2\\sigma_{XY}}\n",
        "\\end{aligned}\n",
        "$$\n",
        "\n",
        "Finally, let us check that we've found a minimum by applying the second derivative.\n",
        "\n",
        "$$\n",
        "\\begin{aligned}\n",
        "& \\frac{d^2}{d\\alpha^2}[\\alpha^2\\sigma^2_X + \\sigma^2_Y - 2\\alpha\\sigma^2_Y + \\alpha^2\\sigma^2_Y + 2\\alpha\\sigma_{XY} - 2\\alpha^2\\sigma_{XY}] \\\\\n",
        "     &= \\frac{d}{d\\alpha}[\\alpha \\sigma^2_X - \\sigma^2_Y + \\alpha\\sigma^2_Y + \\sigma_{XY} - 2\\alpha\\sigma_{XY}] \\\\\n",
        "     &= \\sigma^2_X + \\sigma^2_Y - 2\\sigma_{XY} \\\\\n",
        "     &= \\text{Var}(X,Y) \\\\\n",
        "\\end{aligned}$$\n",
        "\n",
        "Since variance is always $\\ge$ 0, the second derivative is positive, which means that we have found a minimum."
      ],
      "metadata": {
        "id": "jDnvvJi7CcJz"
      }
    }
  ]
}